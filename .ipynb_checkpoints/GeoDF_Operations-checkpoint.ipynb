{
 "cells": [
  {
   "cell_type": "markdown",
   "id": "f8746832",
   "metadata": {
    "id": "f8746832"
   },
   "source": [
    "<center><img src=\"https://i.imgur.com/zRrFdsf.png\" width=\"700\"></center>\n",
    "\n"
   ]
  },
  {
   "cell_type": "markdown",
   "id": "af76d2a2",
   "metadata": {
    "id": "af76d2a2"
   },
   "source": [
    "<a target=\"_blank\" href=\"https://colab.research.google.com/github/CienciaDeDatosEspacial/GeoDataFrame_SpatialOperation/blob/main/GeoDF_Operations.ipynb\">\n",
    "  <img src=\"https://colab.research.google.com/assets/colab-badge.svg\" alt=\"Open In Colab\"/>\n",
    "</a>\n",
    "\n",
    "# Basic spatial operations in  Geo Dataframes\n",
    "\n",
    "We will review some important operations for geodataframes. "
   ]
  },
  {
   "cell_type": "markdown",
   "id": "244a5266",
   "metadata": {
    "id": "244a5266"
   },
   "source": [
    "Let's remember the contents of the world map from last session:\n",
    "\n",
    "<a class=\"anchor\" id=\"0\"></a>"
   ]
  },
  {
   "cell_type": "code",
   "execution_count": 1,
   "id": "f5bcb405-dfc6-4b14-8499-d9e42805336d",
   "metadata": {
    "id": "f5bcb405-dfc6-4b14-8499-d9e42805336d",
    "outputId": "fba0a9d8-a3fd-4eb2-aad2-ddd3fbb849c3"
   },
   "outputs": [
    {
     "data": {
      "text/html": [
       "<div>\n",
       "<style scoped>\n",
       "    .dataframe tbody tr th:only-of-type {\n",
       "        vertical-align: middle;\n",
       "    }\n",
       "\n",
       "    .dataframe tbody tr th {\n",
       "        vertical-align: top;\n",
       "    }\n",
       "\n",
       "    .dataframe thead th {\n",
       "        text-align: right;\n",
       "    }\n",
       "</style>\n",
       "<table border=\"1\" class=\"dataframe\">\n",
       "  <thead>\n",
       "    <tr style=\"text-align: right;\">\n",
       "      <th></th>\n",
       "      <th>name</th>\n",
       "      <th>geometry_type</th>\n",
       "    </tr>\n",
       "  </thead>\n",
       "  <tbody>\n",
       "    <tr>\n",
       "      <th>0</th>\n",
       "      <td>rivers</td>\n",
       "      <td>MultiLineString</td>\n",
       "    </tr>\n",
       "    <tr>\n",
       "      <th>1</th>\n",
       "      <td>cities</td>\n",
       "      <td>Point</td>\n",
       "    </tr>\n",
       "    <tr>\n",
       "      <th>2</th>\n",
       "      <td>countries</td>\n",
       "      <td>MultiPolygon</td>\n",
       "    </tr>\n",
       "  </tbody>\n",
       "</table>\n",
       "</div>"
      ],
      "text/plain": [
       "        name    geometry_type\n",
       "0     rivers  MultiLineString\n",
       "1     cities            Point\n",
       "2  countries     MultiPolygon"
      ]
     },
     "execution_count": 1,
     "metadata": {},
     "output_type": "execute_result"
    }
   ],
   "source": [
    "linkWorldMap=\"https://github.com/CienciaDeDatosEspacial/dataSets/raw/refs/heads/main/WORLD/worldMaps.gpkg\"\n",
    "\n",
    "import geopandas as gpd\n",
    "gpd.list_layers(linkWorldMap)"
   ]
  },
  {
   "cell_type": "markdown",
   "id": "0ea5e97e-6d16-4803-a70e-f7d5982af275",
   "metadata": {
    "id": "0ea5e97e-6d16-4803-a70e-f7d5982af275"
   },
   "source": [
    "Let's open all the layers (this takes a minute):"
   ]
  },
  {
   "cell_type": "code",
   "execution_count": 2,
   "id": "fad3435e-317c-49e5-ab61-ef7261c92cfe",
   "metadata": {
    "id": "fad3435e-317c-49e5-ab61-ef7261c92cfe"
   },
   "outputs": [],
   "source": [
    "countries=gpd.read_file(linkWorldMap,layer='countries')\n",
    "rivers=gpd.read_file(linkWorldMap,layer='rivers')\n",
    "cities=gpd.read_file(linkWorldMap,layer='cities')"
   ]
  },
  {
   "cell_type": "markdown",
   "id": "c2fc940f",
   "metadata": {
    "id": "c2fc940f"
   },
   "source": [
    "\n",
    "\n",
    "Now, let's see some important spatial operations:\n",
    "\n",
    "1. [Subsetting](#1)\n",
    "2. [Combining GeoDF rows](#3)\n",
    "3. [The convex hull](#4)\n",
    "4. [Spatial Overlays](#5)\n",
    "5. [Checking Validity](#6)\n",
    "\n",
    "\n"
   ]
  },
  {
   "cell_type": "markdown",
   "id": "cbba7a88-a1b1-41d1-8aff-a1f912f964a9",
   "metadata": {
    "id": "cbba7a88-a1b1-41d1-8aff-a1f912f964a9"
   },
   "source": [
    "<a class=\"anchor\" id=\"1\"></a>\n",
    "\n",
    "# Subsetting\n",
    "\n",
    "## Filtering\n",
    "\n",
    "You can keep some elements by subsetting by *filtering*, as we used to do in common pandas data frames."
   ]
  },
  {
   "cell_type": "code",
   "execution_count": 3,
   "id": "4ed1361d-8624-41eb-868c-0010ed9c9475",
   "metadata": {
    "id": "4ed1361d-8624-41eb-868c-0010ed9c9475",
    "outputId": "e26e6990-4330-4e84-f829-41969ebff3c7"
   },
   "outputs": [
    {
     "data": {
      "text/html": [
       "<div>\n",
       "<style scoped>\n",
       "    .dataframe tbody tr th:only-of-type {\n",
       "        vertical-align: middle;\n",
       "    }\n",
       "\n",
       "    .dataframe tbody tr th {\n",
       "        vertical-align: top;\n",
       "    }\n",
       "\n",
       "    .dataframe thead th {\n",
       "        text-align: right;\n",
       "    }\n",
       "</style>\n",
       "<table border=\"1\" class=\"dataframe\">\n",
       "  <thead>\n",
       "    <tr style=\"text-align: right;\">\n",
       "      <th></th>\n",
       "      <th>COUNTRY</th>\n",
       "      <th>geometry</th>\n",
       "    </tr>\n",
       "  </thead>\n",
       "  <tbody>\n",
       "    <tr>\n",
       "      <th>0</th>\n",
       "      <td>Aruba (Netherlands)</td>\n",
       "      <td>MULTIPOLYGON (((-69.88223 12.41111, -69.94695 ...</td>\n",
       "    </tr>\n",
       "    <tr>\n",
       "      <th>1</th>\n",
       "      <td>Antigua and Barbuda</td>\n",
       "      <td>MULTIPOLYGON (((-61.73889 17.54055, -61.75195 ...</td>\n",
       "    </tr>\n",
       "    <tr>\n",
       "      <th>2</th>\n",
       "      <td>Afghanistan</td>\n",
       "      <td>MULTIPOLYGON (((61.27656 35.60725, 61.29638 35...</td>\n",
       "    </tr>\n",
       "    <tr>\n",
       "      <th>3</th>\n",
       "      <td>Algeria</td>\n",
       "      <td>MULTIPOLYGON (((-5.15213 30.18047, -5.13917 30...</td>\n",
       "    </tr>\n",
       "    <tr>\n",
       "      <th>4</th>\n",
       "      <td>Azerbaijan</td>\n",
       "      <td>MULTIPOLYGON (((46.54037 38.87559, 46.49554 38...</td>\n",
       "    </tr>\n",
       "  </tbody>\n",
       "</table>\n",
       "</div>"
      ],
      "text/plain": [
       "               COUNTRY                                           geometry\n",
       "0  Aruba (Netherlands)  MULTIPOLYGON (((-69.88223 12.41111, -69.94695 ...\n",
       "1  Antigua and Barbuda  MULTIPOLYGON (((-61.73889 17.54055, -61.75195 ...\n",
       "2          Afghanistan  MULTIPOLYGON (((61.27656 35.60725, 61.29638 35...\n",
       "3              Algeria  MULTIPOLYGON (((-5.15213 30.18047, -5.13917 30...\n",
       "4           Azerbaijan  MULTIPOLYGON (((46.54037 38.87559, 46.49554 38..."
      ]
     },
     "execution_count": 3,
     "metadata": {},
     "output_type": "execute_result"
    }
   ],
   "source": [
    "countries.head()"
   ]
  },
  {
   "cell_type": "code",
   "execution_count": 4,
   "id": "a41ade83-f334-4d7a-ae1d-61b66e6b5b92",
   "metadata": {
    "id": "a41ade83-f334-4d7a-ae1d-61b66e6b5b92",
    "outputId": "560adecb-95b3-487a-ba8c-4372cf1afcdc"
   },
   "outputs": [
    {
     "data": {
      "text/html": [
       "<div>\n",
       "<style scoped>\n",
       "    .dataframe tbody tr th:only-of-type {\n",
       "        vertical-align: middle;\n",
       "    }\n",
       "\n",
       "    .dataframe tbody tr th {\n",
       "        vertical-align: top;\n",
       "    }\n",
       "\n",
       "    .dataframe thead th {\n",
       "        text-align: right;\n",
       "    }\n",
       "</style>\n",
       "<table border=\"1\" class=\"dataframe\">\n",
       "  <thead>\n",
       "    <tr style=\"text-align: right;\">\n",
       "      <th></th>\n",
       "      <th>COUNTRY</th>\n",
       "      <th>geometry</th>\n",
       "    </tr>\n",
       "  </thead>\n",
       "  <tbody>\n",
       "    <tr>\n",
       "      <th>50</th>\n",
       "      <td>Central African Republic</td>\n",
       "      <td>MULTIPOLYGON (((20.4533 4.52379, 20.45798 4.61...</td>\n",
       "    </tr>\n",
       "    <tr>\n",
       "      <th>51</th>\n",
       "      <td>Cuba</td>\n",
       "      <td>MULTIPOLYGON (((-76.94608 21.45221, -76.8839 2...</td>\n",
       "    </tr>\n",
       "    <tr>\n",
       "      <th>52</th>\n",
       "      <td>Cape Verde</td>\n",
       "      <td>MULTIPOLYGON (((-25.28139 16.91333, -25.29861 ...</td>\n",
       "    </tr>\n",
       "    <tr>\n",
       "      <th>53</th>\n",
       "      <td>Cook Islands (New Zealand)</td>\n",
       "      <td>MULTIPOLYGON (((-165.84167 -10.89084, -165.848...</td>\n",
       "    </tr>\n",
       "    <tr>\n",
       "      <th>54</th>\n",
       "      <td>Cyprus</td>\n",
       "      <td>MULTIPOLYGON (((33.27229 34.70955, 33.21722 34...</td>\n",
       "    </tr>\n",
       "    <tr>\n",
       "      <th>...</th>\n",
       "      <td>...</td>\n",
       "      <td>...</td>\n",
       "    </tr>\n",
       "    <tr>\n",
       "      <th>247</th>\n",
       "      <td>South Sudan</td>\n",
       "      <td>MULTIPOLYGON (((34.21807 9.96458, 34.20722 9.9...</td>\n",
       "    </tr>\n",
       "    <tr>\n",
       "      <th>248</th>\n",
       "      <td>Indonesia</td>\n",
       "      <td>MULTIPOLYGON (((123.21846 -10.80917, 123.19832...</td>\n",
       "    </tr>\n",
       "    <tr>\n",
       "      <th>249</th>\n",
       "      <td>East Timor</td>\n",
       "      <td>MULTIPOLYGON (((124.41824 -9.3001, 124.40446 -...</td>\n",
       "    </tr>\n",
       "    <tr>\n",
       "      <th>250</th>\n",
       "      <td>Curacao (Netherlands)</td>\n",
       "      <td>MULTIPOLYGON (((-68.96556 12.19889, -68.91196 ...</td>\n",
       "    </tr>\n",
       "    <tr>\n",
       "      <th>251</th>\n",
       "      <td>Bonaire (Netherlands)</td>\n",
       "      <td>MULTIPOLYGON (((-68.19736 12.22264, -68.19292 ...</td>\n",
       "    </tr>\n",
       "  </tbody>\n",
       "</table>\n",
       "<p>202 rows × 2 columns</p>\n",
       "</div>"
      ],
      "text/plain": [
       "                        COUNTRY  \\\n",
       "50     Central African Republic   \n",
       "51                         Cuba   \n",
       "52                   Cape Verde   \n",
       "53   Cook Islands (New Zealand)   \n",
       "54                       Cyprus   \n",
       "..                          ...   \n",
       "247                 South Sudan   \n",
       "248                   Indonesia   \n",
       "249                  East Timor   \n",
       "250       Curacao (Netherlands)   \n",
       "251       Bonaire (Netherlands)   \n",
       "\n",
       "                                              geometry  \n",
       "50   MULTIPOLYGON (((20.4533 4.52379, 20.45798 4.61...  \n",
       "51   MULTIPOLYGON (((-76.94608 21.45221, -76.8839 2...  \n",
       "52   MULTIPOLYGON (((-25.28139 16.91333, -25.29861 ...  \n",
       "53   MULTIPOLYGON (((-165.84167 -10.89084, -165.848...  \n",
       "54   MULTIPOLYGON (((33.27229 34.70955, 33.21722 34...  \n",
       "..                                                 ...  \n",
       "247  MULTIPOLYGON (((34.21807 9.96458, 34.20722 9.9...  \n",
       "248  MULTIPOLYGON (((123.21846 -10.80917, 123.19832...  \n",
       "249  MULTIPOLYGON (((124.41824 -9.3001, 124.40446 -...  \n",
       "250  MULTIPOLYGON (((-68.96556 12.19889, -68.91196 ...  \n",
       "251  MULTIPOLYGON (((-68.19736 12.22264, -68.19292 ...  \n",
       "\n",
       "[202 rows x 2 columns]"
      ]
     },
     "execution_count": 4,
     "metadata": {},
     "output_type": "execute_result"
    }
   ],
   "source": [
    "# as DF\n",
    "countries.iloc[50:,]"
   ]
  },
  {
   "cell_type": "code",
   "execution_count": 5,
   "id": "17e5a1bf-ee01-41b0-81f4-bfbc4657857c",
   "metadata": {
    "id": "17e5a1bf-ee01-41b0-81f4-bfbc4657857c",
    "outputId": "f93402af-84fc-429f-f2a0-f0ac5d086915"
   },
   "outputs": [
    {
     "data": {
      "text/plain": [
       "50     MULTIPOLYGON (((20.4533 4.52379, 20.45798 4.61...\n",
       "51     MULTIPOLYGON (((-76.94608 21.45221, -76.8839 2...\n",
       "52     MULTIPOLYGON (((-25.28139 16.91333, -25.29861 ...\n",
       "53     MULTIPOLYGON (((-165.84167 -10.89084, -165.848...\n",
       "54     MULTIPOLYGON (((33.27229 34.70955, 33.21722 34...\n",
       "                             ...                        \n",
       "247    MULTIPOLYGON (((34.21807 9.96458, 34.20722 9.9...\n",
       "248    MULTIPOLYGON (((123.21846 -10.80917, 123.19832...\n",
       "249    MULTIPOLYGON (((124.41824 -9.3001, 124.40446 -...\n",
       "250    MULTIPOLYGON (((-68.96556 12.19889, -68.91196 ...\n",
       "251    MULTIPOLYGON (((-68.19736 12.22264, -68.19292 ...\n",
       "Name: geometry, Length: 202, dtype: geometry"
      ]
     },
     "execution_count": 5,
     "metadata": {},
     "output_type": "execute_result"
    }
   ],
   "source": [
    "# as DF\n",
    "countries.loc[50:,'geometry']"
   ]
  },
  {
   "cell_type": "markdown",
   "id": "6a3dfc54-46a0-4531-998c-3f11c9735fec",
   "metadata": {
    "id": "6a3dfc54-46a0-4531-998c-3f11c9735fec"
   },
   "source": [
    "But as a GeDF, you can also filter using a coordinate point via __cx__. Let me get the bounding box of the map:"
   ]
  },
  {
   "cell_type": "code",
   "execution_count": 6,
   "id": "80f8a267-da8a-4831-be2b-7d83bac3c595",
   "metadata": {
    "id": "80f8a267-da8a-4831-be2b-7d83bac3c595",
    "outputId": "500ce6c9-3d43-4c7c-97cd-a91829cbaf0b"
   },
   "outputs": [
    {
     "data": {
      "text/plain": [
       "array([-180.        ,  -90.        ,  180.        ,   83.62359619])"
      ]
     },
     "execution_count": 6,
     "metadata": {},
     "output_type": "execute_result"
    }
   ],
   "source": [
    "countries.total_bounds"
   ]
  },
  {
   "cell_type": "markdown",
   "id": "66a83e6d-4073-44fc-8e07-b1ddabc5582a",
   "metadata": {
    "id": "66a83e6d-4073-44fc-8e07-b1ddabc5582a"
   },
   "source": [
    "As you are getting __[minx, miny, maxx, maxy]__ let me select a valid coordinate, i.e. (0,0)"
   ]
  },
  {
   "cell_type": "code",
   "execution_count": 7,
   "id": "50632acb-1595-4207-927c-ee9b4d030b83",
   "metadata": {
    "id": "50632acb-1595-4207-927c-ee9b4d030b83",
    "outputId": "96e027b0-3278-463f-8bd9-1e5a6e991630"
   },
   "outputs": [
    {
     "data": {
      "text/html": [
       "<div>\n",
       "<style scoped>\n",
       "    .dataframe tbody tr th:only-of-type {\n",
       "        vertical-align: middle;\n",
       "    }\n",
       "\n",
       "    .dataframe tbody tr th {\n",
       "        vertical-align: top;\n",
       "    }\n",
       "\n",
       "    .dataframe thead th {\n",
       "        text-align: right;\n",
       "    }\n",
       "</style>\n",
       "<table border=\"1\" class=\"dataframe\">\n",
       "  <thead>\n",
       "    <tr style=\"text-align: right;\">\n",
       "      <th></th>\n",
       "      <th>COUNTRY</th>\n",
       "      <th>geometry</th>\n",
       "    </tr>\n",
       "  </thead>\n",
       "  <tbody>\n",
       "    <tr>\n",
       "      <th>9</th>\n",
       "      <td>American Samoa (US)</td>\n",
       "      <td>MULTIPOLYGON (((-170.7439 -14.37556, -170.7494...</td>\n",
       "    </tr>\n",
       "    <tr>\n",
       "      <th>10</th>\n",
       "      <td>Argentina</td>\n",
       "      <td>MULTIPOLYGON (((-71.01648 -36.47591, -70.98195...</td>\n",
       "    </tr>\n",
       "    <tr>\n",
       "      <th>14</th>\n",
       "      <td>Antarctica</td>\n",
       "      <td>MULTIPOLYGON (((-45.14528 -60.76611, -45.15639...</td>\n",
       "    </tr>\n",
       "    <tr>\n",
       "      <th>24</th>\n",
       "      <td>Bolivia</td>\n",
       "      <td>MULTIPOLYGON (((-62.19884 -20.47139, -62.26945...</td>\n",
       "    </tr>\n",
       "    <tr>\n",
       "      <th>29</th>\n",
       "      <td>Brazil</td>\n",
       "      <td>MULTIPOLYGON (((-70.62862 -9.94849, -70.62889 ...</td>\n",
       "    </tr>\n",
       "    <tr>\n",
       "      <th>42</th>\n",
       "      <td>Chile</td>\n",
       "      <td>MULTIPOLYGON (((-73.61806 -51.6339, -73.60494 ...</td>\n",
       "    </tr>\n",
       "    <tr>\n",
       "      <th>47</th>\n",
       "      <td>Colombia</td>\n",
       "      <td>MULTIPOLYGON (((-81.71306 12.49028, -81.72014 ...</td>\n",
       "    </tr>\n",
       "    <tr>\n",
       "      <th>53</th>\n",
       "      <td>Cook Islands (New Zealand)</td>\n",
       "      <td>MULTIPOLYGON (((-165.84167 -10.89084, -165.848...</td>\n",
       "    </tr>\n",
       "    <tr>\n",
       "      <th>58</th>\n",
       "      <td>Jarvis Island (US)</td>\n",
       "      <td>MULTIPOLYGON (((-160.02115 -0.39806, -160.0281...</td>\n",
       "    </tr>\n",
       "    <tr>\n",
       "      <th>60</th>\n",
       "      <td>Ecuador</td>\n",
       "      <td>MULTIPOLYGON (((-78.70903 -4.58479, -78.72348 ...</td>\n",
       "    </tr>\n",
       "    <tr>\n",
       "      <th>71</th>\n",
       "      <td>Fiji</td>\n",
       "      <td>MULTIPOLYGON (((180 -16.17274, 179.98621 -16.1...</td>\n",
       "    </tr>\n",
       "    <tr>\n",
       "      <th>72</th>\n",
       "      <td>Falkland Islands (UK)</td>\n",
       "      <td>MULTIPOLYGON (((-59.79139 -51.24945, -59.73195...</td>\n",
       "    </tr>\n",
       "    <tr>\n",
       "      <th>75</th>\n",
       "      <td>French Polynesia (France)</td>\n",
       "      <td>MULTIPOLYGON (((-140.17783 -8.95639, -140.1894...</td>\n",
       "    </tr>\n",
       "    <tr>\n",
       "      <th>158</th>\n",
       "      <td>Niue (New Zealand)</td>\n",
       "      <td>MULTIPOLYGON (((-169.89389 -19.14556, -169.930...</td>\n",
       "    </tr>\n",
       "    <tr>\n",
       "      <th>169</th>\n",
       "      <td>New Zealand</td>\n",
       "      <td>MULTIPOLYGON (((177.91779 -38.9428, 177.9097 -...</td>\n",
       "    </tr>\n",
       "    <tr>\n",
       "      <th>170</th>\n",
       "      <td>Paraguay</td>\n",
       "      <td>MULTIPOLYGON (((-57.67267 -25.2943, -57.70639 ...</td>\n",
       "    </tr>\n",
       "    <tr>\n",
       "      <th>171</th>\n",
       "      <td>Pitcairn Islands (UK)</td>\n",
       "      <td>MULTIPOLYGON (((-128.33221 -24.32727, -128.326...</td>\n",
       "    </tr>\n",
       "    <tr>\n",
       "      <th>172</th>\n",
       "      <td>Peru</td>\n",
       "      <td>MULTIPOLYGON (((-69.5675 -10.95056, -69.56844 ...</td>\n",
       "    </tr>\n",
       "    <tr>\n",
       "      <th>196</th>\n",
       "      <td>St. Helena (UK)</td>\n",
       "      <td>MULTIPOLYGON (((-5.71298 -15.99286, -5.72917 -...</td>\n",
       "    </tr>\n",
       "    <tr>\n",
       "      <th>208</th>\n",
       "      <td>South Georgia and the South Sandwich Is (UK)</td>\n",
       "      <td>MULTIPOLYGON (((-36.99139 -54.35056, -36.99973...</td>\n",
       "    </tr>\n",
       "    <tr>\n",
       "      <th>216</th>\n",
       "      <td>Tokelau (New Zealand)</td>\n",
       "      <td>MULTIPOLYGON (((-171.84805 -9.21889, -171.8588...</td>\n",
       "    </tr>\n",
       "    <tr>\n",
       "      <th>217</th>\n",
       "      <td>Tonga</td>\n",
       "      <td>MULTIPOLYGON (((-173.93921 -18.56889, -173.933...</td>\n",
       "    </tr>\n",
       "    <tr>\n",
       "      <th>231</th>\n",
       "      <td>Uruguay</td>\n",
       "      <td>MULTIPOLYGON (((-58.38889 -33.4225, -58.4159 -...</td>\n",
       "    </tr>\n",
       "    <tr>\n",
       "      <th>239</th>\n",
       "      <td>Wallis and Futuna (France)</td>\n",
       "      <td>MULTIPOLYGON (((-176.16504 -13.35305, -176.169...</td>\n",
       "    </tr>\n",
       "    <tr>\n",
       "      <th>242</th>\n",
       "      <td>Western Samoa</td>\n",
       "      <td>MULTIPOLYGON (((-172.5965 -13.50911, -172.5519...</td>\n",
       "    </tr>\n",
       "  </tbody>\n",
       "</table>\n",
       "</div>"
      ],
      "text/plain": [
       "                                          COUNTRY  \\\n",
       "9                             American Samoa (US)   \n",
       "10                                      Argentina   \n",
       "14                                     Antarctica   \n",
       "24                                        Bolivia   \n",
       "29                                         Brazil   \n",
       "42                                          Chile   \n",
       "47                                       Colombia   \n",
       "53                     Cook Islands (New Zealand)   \n",
       "58                             Jarvis Island (US)   \n",
       "60                                        Ecuador   \n",
       "71                                           Fiji   \n",
       "72                          Falkland Islands (UK)   \n",
       "75                      French Polynesia (France)   \n",
       "158                            Niue (New Zealand)   \n",
       "169                                   New Zealand   \n",
       "170                                      Paraguay   \n",
       "171                         Pitcairn Islands (UK)   \n",
       "172                                          Peru   \n",
       "196                               St. Helena (UK)   \n",
       "208  South Georgia and the South Sandwich Is (UK)   \n",
       "216                         Tokelau (New Zealand)   \n",
       "217                                         Tonga   \n",
       "231                                       Uruguay   \n",
       "239                    Wallis and Futuna (France)   \n",
       "242                                 Western Samoa   \n",
       "\n",
       "                                              geometry  \n",
       "9    MULTIPOLYGON (((-170.7439 -14.37556, -170.7494...  \n",
       "10   MULTIPOLYGON (((-71.01648 -36.47591, -70.98195...  \n",
       "14   MULTIPOLYGON (((-45.14528 -60.76611, -45.15639...  \n",
       "24   MULTIPOLYGON (((-62.19884 -20.47139, -62.26945...  \n",
       "29   MULTIPOLYGON (((-70.62862 -9.94849, -70.62889 ...  \n",
       "42   MULTIPOLYGON (((-73.61806 -51.6339, -73.60494 ...  \n",
       "47   MULTIPOLYGON (((-81.71306 12.49028, -81.72014 ...  \n",
       "53   MULTIPOLYGON (((-165.84167 -10.89084, -165.848...  \n",
       "58   MULTIPOLYGON (((-160.02115 -0.39806, -160.0281...  \n",
       "60   MULTIPOLYGON (((-78.70903 -4.58479, -78.72348 ...  \n",
       "71   MULTIPOLYGON (((180 -16.17274, 179.98621 -16.1...  \n",
       "72   MULTIPOLYGON (((-59.79139 -51.24945, -59.73195...  \n",
       "75   MULTIPOLYGON (((-140.17783 -8.95639, -140.1894...  \n",
       "158  MULTIPOLYGON (((-169.89389 -19.14556, -169.930...  \n",
       "169  MULTIPOLYGON (((177.91779 -38.9428, 177.9097 -...  \n",
       "170  MULTIPOLYGON (((-57.67267 -25.2943, -57.70639 ...  \n",
       "171  MULTIPOLYGON (((-128.33221 -24.32727, -128.326...  \n",
       "172  MULTIPOLYGON (((-69.5675 -10.95056, -69.56844 ...  \n",
       "196  MULTIPOLYGON (((-5.71298 -15.99286, -5.72917 -...  \n",
       "208  MULTIPOLYGON (((-36.99139 -54.35056, -36.99973...  \n",
       "216  MULTIPOLYGON (((-171.84805 -9.21889, -171.8588...  \n",
       "217  MULTIPOLYGON (((-173.93921 -18.56889, -173.933...  \n",
       "231  MULTIPOLYGON (((-58.38889 -33.4225, -58.4159 -...  \n",
       "239  MULTIPOLYGON (((-176.16504 -13.35305, -176.169...  \n",
       "242  MULTIPOLYGON (((-172.5965 -13.50911, -172.5519...  "
      ]
     },
     "execution_count": 7,
     "metadata": {},
     "output_type": "execute_result"
    }
   ],
   "source": [
    "countries.cx[:0,:0]"
   ]
  },
  {
   "cell_type": "code",
   "execution_count": 10,
   "id": "27d0e4a1-8798-45ff-b122-e81b4f613100",
   "metadata": {
    "id": "27d0e4a1-8798-45ff-b122-e81b4f613100",
    "outputId": "b09dc86c-f0eb-421b-bfdc-d5708a65a5ce"
   },
   "outputs": [
    {
     "data": {
      "text/plain": [
       "<Axes: >"
      ]
     },
     "execution_count": 10,
     "metadata": {},
     "output_type": "execute_result"
    },
    {
     "data": {
      "image/png": "[encoded data removed]",
      "text/plain": [
       "<Figure size 640x480 with 1 Axes>"
      ]
     },
     "metadata": {},
     "output_type": "display_data"
    }
   ],
   "source": [
    "#then\n",
    "countries.cx[:0,:0].plot()"
   ]
  },
  {
   "cell_type": "markdown",
   "id": "1c44c596-e798-44d7-ba22-e24c00ae5044",
   "metadata": {
    "id": "1c44c596-e798-44d7-ba22-e24c00ae5044"
   },
   "source": [
    "Notice __cx__ would be cleaner if spatial element is a point."
   ]
  },
  {
   "cell_type": "markdown",
   "id": "be643505-1c8f-435c-b3ca-150aee9c4b3b",
   "metadata": {
    "id": "be643505-1c8f-435c-b3ca-150aee9c4b3b"
   },
   "source": [
    "## Clipping"
   ]
  },
  {
   "cell_type": "markdown",
   "id": "5b602bc2-9264-46ac-8b8a-b3a71514096e",
   "metadata": {
    "id": "5b602bc2-9264-46ac-8b8a-b3a71514096e"
   },
   "source": [
    "Let me keep one country:"
   ]
  },
  {
   "cell_type": "code",
   "execution_count": 12,
   "id": "fa3fd88c-b4ee-42c2-8d79-5c4855534877",
   "metadata": {
    "id": "fa3fd88c-b4ee-42c2-8d79-5c4855534877"
   },
   "outputs": [
    {
     "data": {
      "text/html": [
       "<div>\n",
       "<style scoped>\n",
       "    .dataframe tbody tr th:only-of-type {\n",
       "        vertical-align: middle;\n",
       "    }\n",
       "\n",
       "    .dataframe tbody tr th {\n",
       "        vertical-align: top;\n",
       "    }\n",
       "\n",
       "    .dataframe thead th {\n",
       "        text-align: right;\n",
       "    }\n",
       "</style>\n",
       "<table border=\"1\" class=\"dataframe\">\n",
       "  <thead>\n",
       "    <tr style=\"text-align: right;\">\n",
       "      <th></th>\n",
       "      <th>COUNTRY</th>\n",
       "      <th>geometry</th>\n",
       "    </tr>\n",
       "  </thead>\n",
       "  <tbody>\n",
       "    <tr>\n",
       "      <th>29</th>\n",
       "      <td>Brazil</td>\n",
       "      <td>MULTIPOLYGON (((-70.62862 -9.94849, -70.62889 ...</td>\n",
       "    </tr>\n",
       "  </tbody>\n",
       "</table>\n",
       "</div>"
      ],
      "text/plain": [
       "   COUNTRY                                           geometry\n",
       "29  Brazil  MULTIPOLYGON (((-70.62862 -9.94849, -70.62889 ..."
      ]
     },
     "execution_count": 12,
     "metadata": {},
     "output_type": "execute_result"
    }
   ],
   "source": [
    "brazil=countries[countries.COUNTRY=='Brazil']\n",
    "#see\n",
    "brazil"
   ]
  },
  {
   "cell_type": "markdown",
   "id": "01e11a63-f60d-46b7-90b3-29f8e554227f",
   "metadata": {
    "id": "01e11a63-f60d-46b7-90b3-29f8e554227f"
   },
   "source": [
    "Pay attention to this GDF:"
   ]
  },
  {
   "cell_type": "code",
   "execution_count": 14,
   "id": "39f32061-01f8-4459-ab57-b2e311838aba",
   "metadata": {
    "id": "39f32061-01f8-4459-ab57-b2e311838aba"
   },
   "outputs": [
    {
     "data": {
      "text/html": [
       "<div>\n",
       "<style scoped>\n",
       "    .dataframe tbody tr th:only-of-type {\n",
       "        vertical-align: middle;\n",
       "    }\n",
       "\n",
       "    .dataframe tbody tr th {\n",
       "        vertical-align: top;\n",
       "    }\n",
       "\n",
       "    .dataframe thead th {\n",
       "        text-align: right;\n",
       "    }\n",
       "</style>\n",
       "<table border=\"1\" class=\"dataframe\">\n",
       "  <thead>\n",
       "    <tr style=\"text-align: right;\">\n",
       "      <th></th>\n",
       "      <th>NAME</th>\n",
       "      <th>COUNTRY</th>\n",
       "      <th>CAPITAL</th>\n",
       "      <th>geometry</th>\n",
       "    </tr>\n",
       "  </thead>\n",
       "  <tbody>\n",
       "    <tr>\n",
       "      <th>0</th>\n",
       "      <td>Murmansk</td>\n",
       "      <td>Russia</td>\n",
       "      <td>N</td>\n",
       "      <td>POINT (33.08604 68.96355)</td>\n",
       "    </tr>\n",
       "    <tr>\n",
       "      <th>1</th>\n",
       "      <td>Arkhangelsk</td>\n",
       "      <td>Russia</td>\n",
       "      <td>N</td>\n",
       "      <td>POINT (40.64616 64.52067)</td>\n",
       "    </tr>\n",
       "    <tr>\n",
       "      <th>2</th>\n",
       "      <td>Saint Petersburg</td>\n",
       "      <td>Russia</td>\n",
       "      <td>N</td>\n",
       "      <td>POINT (30.45333 59.95189)</td>\n",
       "    </tr>\n",
       "    <tr>\n",
       "      <th>3</th>\n",
       "      <td>Magadan</td>\n",
       "      <td>Russia</td>\n",
       "      <td>N</td>\n",
       "      <td>POINT (150.78001 59.571)</td>\n",
       "    </tr>\n",
       "    <tr>\n",
       "      <th>4</th>\n",
       "      <td>Perm'</td>\n",
       "      <td>Russia</td>\n",
       "      <td>N</td>\n",
       "      <td>POINT (56.23246 58.00024)</td>\n",
       "    </tr>\n",
       "    <tr>\n",
       "      <th>...</th>\n",
       "      <td>...</td>\n",
       "      <td>...</td>\n",
       "      <td>...</td>\n",
       "      <td>...</td>\n",
       "    </tr>\n",
       "    <tr>\n",
       "      <th>605</th>\n",
       "      <td>Singapore</td>\n",
       "      <td>Singapore</td>\n",
       "      <td>N</td>\n",
       "      <td>POINT (103.82688 1.34654)</td>\n",
       "    </tr>\n",
       "    <tr>\n",
       "      <th>606</th>\n",
       "      <td>Gaza</td>\n",
       "      <td>Palestine</td>\n",
       "      <td>N</td>\n",
       "      <td>POINT (34.41939 31.46288)</td>\n",
       "    </tr>\n",
       "    <tr>\n",
       "      <th>607</th>\n",
       "      <td>Juba</td>\n",
       "      <td>South Sudan</td>\n",
       "      <td>Y</td>\n",
       "      <td>POINT (31.76671 4.57511)</td>\n",
       "    </tr>\n",
       "    <tr>\n",
       "      <th>608</th>\n",
       "      <td>Dili</td>\n",
       "      <td>East Timor</td>\n",
       "      <td>Y</td>\n",
       "      <td>POINT (125.67275 -8.56601)</td>\n",
       "    </tr>\n",
       "    <tr>\n",
       "      <th>609</th>\n",
       "      <td>Abuja</td>\n",
       "      <td>Nigeria</td>\n",
       "      <td>Y</td>\n",
       "      <td>POINT (7.45338 9.22675)</td>\n",
       "    </tr>\n",
       "  </tbody>\n",
       "</table>\n",
       "<p>610 rows × 4 columns</p>\n",
       "</div>"
      ],
      "text/plain": [
       "                 NAME      COUNTRY CAPITAL                    geometry\n",
       "0            Murmansk       Russia       N   POINT (33.08604 68.96355)\n",
       "1         Arkhangelsk       Russia       N   POINT (40.64616 64.52067)\n",
       "2    Saint Petersburg       Russia       N   POINT (30.45333 59.95189)\n",
       "3             Magadan       Russia       N    POINT (150.78001 59.571)\n",
       "4               Perm'       Russia       N   POINT (56.23246 58.00024)\n",
       "..                ...          ...     ...                         ...\n",
       "605         Singapore    Singapore       N   POINT (103.82688 1.34654)\n",
       "606              Gaza    Palestine       N   POINT (34.41939 31.46288)\n",
       "607              Juba  South Sudan       Y    POINT (31.76671 4.57511)\n",
       "608              Dili   East Timor       Y  POINT (125.67275 -8.56601)\n",
       "609             Abuja      Nigeria       Y     POINT (7.45338 9.22675)\n",
       "\n",
       "[610 rows x 4 columns]"
      ]
     },
     "execution_count": 14,
     "metadata": {},
     "output_type": "execute_result"
    }
   ],
   "source": [
    "cities"
   ]
  },
  {
   "cell_type": "markdown",
   "id": "8f48d650-8113-4e99-ba44-1c6393d3f9dd",
   "metadata": {},
   "source": [
    "The GDF has a column 'COUNTRY' too.\n",
    "\n",
    "Now, check the rivers GDF:"
   ]
  },
  {
   "cell_type": "code",
   "execution_count": 15,
   "id": "e04c8325-ac9e-416a-a15d-165a3945c028",
   "metadata": {},
   "outputs": [
    {
     "data": {
      "text/html": [
       "<div>\n",
       "<style scoped>\n",
       "    .dataframe tbody tr th:only-of-type {\n",
       "        vertical-align: middle;\n",
       "    }\n",
       "\n",
       "    .dataframe tbody tr th {\n",
       "        vertical-align: top;\n",
       "    }\n",
       "\n",
       "    .dataframe thead th {\n",
       "        text-align: right;\n",
       "    }\n",
       "</style>\n",
       "<table border=\"1\" class=\"dataframe\">\n",
       "  <thead>\n",
       "    <tr style=\"text-align: right;\">\n",
       "      <th></th>\n",
       "      <th>NAME</th>\n",
       "      <th>SYSTEM</th>\n",
       "      <th>geometry</th>\n",
       "    </tr>\n",
       "  </thead>\n",
       "  <tbody>\n",
       "    <tr>\n",
       "      <th>0</th>\n",
       "      <td>Aldan</td>\n",
       "      <td>Lena</td>\n",
       "      <td>MULTILINESTRING ((124.00678 56.47258, 123.2595...</td>\n",
       "    </tr>\n",
       "    <tr>\n",
       "      <th>1</th>\n",
       "      <td>Amazon</td>\n",
       "      <td>Amazon</td>\n",
       "      <td>MULTILINESTRING ((-61.2773 -3.60706, -60.68466...</td>\n",
       "    </tr>\n",
       "    <tr>\n",
       "      <th>2</th>\n",
       "      <td>Amu Darya</td>\n",
       "      <td>None</td>\n",
       "      <td>MULTILINESTRING ((73.98818 37.49952, 73.52595 ...</td>\n",
       "    </tr>\n",
       "    <tr>\n",
       "      <th>3</th>\n",
       "      <td>Amur</td>\n",
       "      <td>None</td>\n",
       "      <td>MULTILINESTRING ((122.63956 49.9973, 120.47874...</td>\n",
       "    </tr>\n",
       "    <tr>\n",
       "      <th>4</th>\n",
       "      <td>Angara</td>\n",
       "      <td>None</td>\n",
       "      <td>MULTILINESTRING ((105.07841 51.93053, 103.9295...</td>\n",
       "    </tr>\n",
       "    <tr>\n",
       "      <th>...</th>\n",
       "      <td>...</td>\n",
       "      <td>...</td>\n",
       "      <td>...</td>\n",
       "    </tr>\n",
       "    <tr>\n",
       "      <th>93</th>\n",
       "      <td>Yangtze</td>\n",
       "      <td>None</td>\n",
       "      <td>MULTILINESTRING ((119.82609 32.24864, 118.9707...</td>\n",
       "    </tr>\n",
       "    <tr>\n",
       "      <th>94</th>\n",
       "      <td>Yenisey</td>\n",
       "      <td>None</td>\n",
       "      <td>MULTILINESTRING ((98.94706 52.57675, 98.12095 ...</td>\n",
       "    </tr>\n",
       "    <tr>\n",
       "      <th>95</th>\n",
       "      <td>Yukon</td>\n",
       "      <td>None</td>\n",
       "      <td>MULTILINESTRING ((-130.89319 59.2448, -131.065...</td>\n",
       "    </tr>\n",
       "    <tr>\n",
       "      <th>96</th>\n",
       "      <td>Zambezi</td>\n",
       "      <td>None</td>\n",
       "      <td>MULTILINESTRING ((35.52866 -17.66773, 36.28055...</td>\n",
       "    </tr>\n",
       "    <tr>\n",
       "      <th>97</th>\n",
       "      <td>Rio Grande, South America</td>\n",
       "      <td>Parana</td>\n",
       "      <td>MULTILINESTRING ((-44.37152 -22.17241, -43.860...</td>\n",
       "    </tr>\n",
       "  </tbody>\n",
       "</table>\n",
       "<p>98 rows × 3 columns</p>\n",
       "</div>"
      ],
      "text/plain": [
       "                         NAME  SYSTEM  \\\n",
       "0                       Aldan    Lena   \n",
       "1                      Amazon  Amazon   \n",
       "2                   Amu Darya    None   \n",
       "3                        Amur    None   \n",
       "4                      Angara    None   \n",
       "..                        ...     ...   \n",
       "93                    Yangtze    None   \n",
       "94                    Yenisey    None   \n",
       "95                      Yukon    None   \n",
       "96                    Zambezi    None   \n",
       "97  Rio Grande, South America  Parana   \n",
       "\n",
       "                                             geometry  \n",
       "0   MULTILINESTRING ((124.00678 56.47258, 123.2595...  \n",
       "1   MULTILINESTRING ((-61.2773 -3.60706, -60.68466...  \n",
       "2   MULTILINESTRING ((73.98818 37.49952, 73.52595 ...  \n",
       "3   MULTILINESTRING ((122.63956 49.9973, 120.47874...  \n",
       "4   MULTILINESTRING ((105.07841 51.93053, 103.9295...  \n",
       "..                                                ...  \n",
       "93  MULTILINESTRING ((119.82609 32.24864, 118.9707...  \n",
       "94  MULTILINESTRING ((98.94706 52.57675, 98.12095 ...  \n",
       "95  MULTILINESTRING ((-130.89319 59.2448, -131.065...  \n",
       "96  MULTILINESTRING ((35.52866 -17.66773, 36.28055...  \n",
       "97  MULTILINESTRING ((-44.37152 -22.17241, -43.860...  \n",
       "\n",
       "[98 rows x 3 columns]"
      ]
     },
     "execution_count": 15,
     "metadata": {},
     "output_type": "execute_result"
    }
   ],
   "source": [
    "rivers"
   ]
  },
  {
   "cell_type": "code",
   "execution_count": null,
   "id": "f7c6d51a-d91b-462e-adec-e9e04043267c",
   "metadata": {},
   "outputs": [],
   "source": [
    "As you see, this GDF has no Country"
   ]
  },
  {
   "cell_type": "code",
   "execution_count": null,
   "id": "5b6a5884-4c38-4cf9-b452-c472e409d82b",
   "metadata": {
    "id": "39f32061-01f8-4459-ab57-b2e311838aba"
   },
   "outputs": [],
   "source": [
    "riversBrazil_clipped = gpd.clip(gdf=rivers,\n",
    "                               mask=brazil)"
   ]
  },
  {
   "cell_type": "markdown",
   "id": "59424b3b-f335-47dd-8496-c4a7a5b7ee72",
   "metadata": {
    "id": "59424b3b-f335-47dd-8496-c4a7a5b7ee72"
   },
   "source": [
    "Then, you can plot the clipped version:"
   ]
  },
  {
   "cell_type": "code",
   "execution_count": null,
   "id": "4cc43012-dcc3-45b3-b31e-35bcb26cab94",
   "metadata": {
    "id": "4cc43012-dcc3-45b3-b31e-35bcb26cab94",
    "outputId": "484acb2d-ae4f-49d4-f096-8e92b470ff6f"
   },
   "outputs": [],
   "source": [
    "base = brazil.plot(facecolor=\"greenyellow\", edgecolor='black', linewidth=0.4,figsize=(5,5))\n",
    "citiesBrazil_clipped.plot(marker='+', color='red', markersize=15,\n",
    "                    ax=base)\n",
    "riversBrazil_clipped.plot(edgecolor='blue', linewidth=0.5,\n",
    "                    ax=base)"
   ]
  },
  {
   "cell_type": "markdown",
   "id": "a565103c-95a1-4adc-be79-99cf98d5d57b",
   "metadata": {
    "id": "a565103c-95a1-4adc-be79-99cf98d5d57b"
   },
   "source": [
    "The geometry types are not modified:"
   ]
  },
  {
   "cell_type": "code",
   "execution_count": null,
   "id": "0180a0cd-311b-43e4-a68a-2fe82f46b4a0",
   "metadata": {
    "id": "0180a0cd-311b-43e4-a68a-2fe82f46b4a0",
    "outputId": "145afd88-bce2-4a48-9df3-d923379b9087"
   },
   "outputs": [],
   "source": [
    "set(brazil.geom_type), set(citiesBrazil_clipped.geom_type), set(riversBrazil_clipped.geom_type)"
   ]
  },
  {
   "cell_type": "markdown",
   "id": "0e992714-f1b7-4305-891d-e964368fa144",
   "metadata": {
    "id": "0e992714-f1b7-4305-891d-e964368fa144"
   },
   "source": [
    "### Exercise 1\n",
    "<div class=\"alert-success\">\n",
    "\n",
    "You will make two maps:\n",
    "1. Plot your country as the background. Use **cx** to plot some **points** (the cities, airports, etc.) below the centroid.\n",
    "2. Plot your country as the background. Select with **cx** all the first administrative divisions above the centroid. Then, use clip to show some **lines** (rivers, railroads, etc) that cross those divisions.\n",
    "    \n",
    "</div>"
   ]
  },
  {
   "cell_type": "markdown",
   "id": "f4045360",
   "metadata": {
    "id": "f4045360"
   },
   "source": [
    "[TOC](#0)\n",
    "\n",
    "_____________\n",
    "\n",
    "\n",
    "<a class=\"anchor\" id=\"3\"></a>\n",
    "\n",
    "# Combining GeoDF rows\n",
    "\n",
    "Let me bring the projected data from Brazil."
   ]
  },
  {
   "cell_type": "code",
   "execution_count": null,
   "id": "32827eb6-2450-4210-bec0-c45032769605",
   "metadata": {},
   "outputs": [],
   "source": [
    "LinkBrazil=\"https://github.com/CienciaDeDatosEspacial/intro_geodataframe/raw/refs/heads/main/maps/brazilMaps_5641.gpkg\"\n",
    "## we have\n",
    "listlayers(LinkBrazil)"
   ]
  },
  {
   "cell_type": "markdown",
   "id": "099c9940-1d68-4524-8494-91236904510e",
   "metadata": {},
   "source": [
    "Let me open municipalities:"
   ]
  },
  {
   "cell_type": "code",
   "execution_count": null,
   "id": "ff834b0d-e7e8-434f-a293-7c3ca2e3490a",
   "metadata": {},
   "outputs": [],
   "source": [
    "brazil_municipalities=gpd.read_file(LinkBrazil,layer='municipalities')\n",
    "brazil_municipalities.plot(facecolor='lightgrey', edgecolor='black',linewidth=0.2)"
   ]
  },
  {
   "cell_type": "code",
   "execution_count": null,
   "id": "a732d195-b51f-4bf7-8b9c-daaf8a49c0a3",
   "metadata": {
    "id": "a732d195-b51f-4bf7-8b9c-daaf8a49c0a3"
   },
   "outputs": [],
   "source": [
    "#see\n",
    "brazil_municipalities.head()"
   ]
  },
  {
   "cell_type": "code",
   "execution_count": null,
   "id": "05e89ed8-5095-46b6-a59f-c0248047fdcf",
   "metadata": {},
   "outputs": [],
   "source": [
    "## we have\n",
    "len(brazil_municipalities.ADM2_PT)"
   ]
  },
  {
   "cell_type": "code",
   "execution_count": null,
   "id": "edc01a89-ae84-405d-82e8-0ba1da113a00",
   "metadata": {
    "id": "edc01a89-ae84-405d-82e8-0ba1da113a00"
   },
   "outputs": [],
   "source": [
    "# higher level count\n",
    "len(set(brazil_municipalities.ADM1_PT))"
   ]
  },
  {
   "cell_type": "markdown",
   "id": "1d0ca18b-4d56-4a5f-9575-755e278582c2",
   "metadata": {
    "id": "1d0ca18b-4d56-4a5f-9575-755e278582c2"
   },
   "source": [
    "Then, this is Minas Gerais:"
   ]
  },
  {
   "cell_type": "code",
   "execution_count": null,
   "id": "e2954e50-2d6f-4583-a2c0-3e5aaeb20b44",
   "metadata": {
    "id": "e2954e50-2d6f-4583-a2c0-3e5aaeb20b44"
   },
   "outputs": [],
   "source": [
    "brazil_municipalities[brazil_municipalities.ADM1_PT=='Minas Gerais'].plot()"
   ]
  },
  {
   "cell_type": "markdown",
   "id": "e0ec0e20-de35-444b-9b20-daff26825402",
   "metadata": {},
   "source": [
    "Let's see the options to combine:"
   ]
  },
  {
   "cell_type": "markdown",
   "id": "97eadc14-d617-4345-ad89-1eb2b786d31f",
   "metadata": {
    "id": "97eadc14-d617-4345-ad89-1eb2b786d31f"
   },
   "source": [
    "## Unary UNION\n",
    "\n",
    "We can combine all these polygons into one:"
   ]
  },
  {
   "cell_type": "code",
   "execution_count": null,
   "id": "9ab5b1b4",
   "metadata": {},
   "outputs": [],
   "source": [
    "pip show shapely"
   ]
  },
  {
   "cell_type": "code",
   "execution_count": null,
   "id": "c00c048b-6faa-4ad6-8cf7-0f98769e17f2",
   "metadata": {
    "id": "c00c048b-6faa-4ad6-8cf7-0f98769e17f2"
   },
   "outputs": [],
   "source": [
    "brazil_municipalities[brazil_municipalities.ADM1_PT=='Minas Gerais'].union_all()"
   ]
  },
  {
   "cell_type": "markdown",
   "id": "9d3fcffd-e552-4bea-9da3-b39745de4c36",
   "metadata": {
    "id": "9d3fcffd-e552-4bea-9da3-b39745de4c36"
   },
   "source": [
    "Let's save that result:"
   ]
  },
  {
   "cell_type": "code",
   "execution_count": null,
   "id": "ce5d4b07-7f14-4dc7-8031-5c12ee2c8a92",
   "metadata": {
    "id": "ce5d4b07-7f14-4dc7-8031-5c12ee2c8a92"
   },
   "outputs": [],
   "source": [
    "MinasGerais_union=brazil_municipalities[brazil_municipalities.ADM1_PT=='Minas Gerais'].union_all()"
   ]
  },
  {
   "cell_type": "code",
   "execution_count": null,
   "id": "d71ea52f-6738-4d8b-93fb-6e6bfdd7ed21",
   "metadata": {
    "id": "d71ea52f-6738-4d8b-93fb-6e6bfdd7ed21"
   },
   "outputs": [],
   "source": [
    "# what do we have?\n",
    "type(MinasGerais_union)"
   ]
  },
  {
   "cell_type": "markdown",
   "id": "97f5eeba-ee4f-4a46-b8ac-9645f7e59766",
   "metadata": {
    "id": "97f5eeba-ee4f-4a46-b8ac-9645f7e59766"
   },
   "source": [
    "You can turn that shapely object into a GeoDF like this:"
   ]
  },
  {
   "cell_type": "code",
   "execution_count": null,
   "id": "52d84f0d-bd43-4008-b3ac-c807e7dbafc5",
   "metadata": {
    "id": "52d84f0d-bd43-4008-b3ac-c807e7dbafc5"
   },
   "outputs": [],
   "source": [
    "gpd.GeoDataFrame(index=[0],data={'ADM':'Minas Gerais'},\n",
    "                 crs=brazil_municipalities.crs,\n",
    "                 geometry=[MinasGerais_union])"
   ]
  },
  {
   "cell_type": "markdown",
   "id": "b1dee927-70dd-48e8-82b7-a04a2fa8fe3c",
   "metadata": {
    "id": "b1dee927-70dd-48e8-82b7-a04a2fa8fe3c"
   },
   "source": [
    "<a class=\"anchor\" id=\"21\"></a>\n",
    "\n",
    "## Dissolve\n",
    "\n",
    "### a. Dissolve as Union\n",
    "Using  **dissolve** is an alternative to _UNION_:"
   ]
  },
  {
   "cell_type": "code",
   "execution_count": null,
   "id": "c5768952-7e24-43ad-901e-9a7fadc3fc2c",
   "metadata": {
    "id": "c5768952-7e24-43ad-901e-9a7fadc3fc2c"
   },
   "outputs": [],
   "source": [
    "brazil_municipalities[brazil_municipalities.ADM1_PT=='Minas Gerais'].dissolve().plot()"
   ]
  },
  {
   "cell_type": "markdown",
   "id": "351fbf6a-7e61-467e-ab1c-15c7544a4632",
   "metadata": {
    "id": "351fbf6a-7e61-467e-ab1c-15c7544a4632"
   },
   "source": [
    "Let me save the result, and see the type :"
   ]
  },
  {
   "cell_type": "code",
   "execution_count": null,
   "id": "672d051e-772e-4310-86f6-8fcfca6ed287",
   "metadata": {
    "id": "672d051e-772e-4310-86f6-8fcfca6ed287"
   },
   "outputs": [],
   "source": [
    "MinasGerais_dissolve=brazil_municipalities[brazil_municipalities.ADM1_PT=='Minas Gerais'].dissolve()\n",
    "\n",
    "# we got?\n",
    "type(MinasGerais_dissolve)"
   ]
  },
  {
   "cell_type": "markdown",
   "id": "2fc5778d-ef46-46dd-bd3e-eaba9f668e03",
   "metadata": {
    "id": "2fc5778d-ef46-46dd-bd3e-eaba9f668e03"
   },
   "source": [
    "You got a GEOdf this time:"
   ]
  },
  {
   "cell_type": "code",
   "execution_count": null,
   "id": "c3f3d552-060c-41f2-bbe5-debf1de6a496",
   "metadata": {
    "id": "c3f3d552-060c-41f2-bbe5-debf1de6a496"
   },
   "outputs": [],
   "source": [
    "## see\n",
    "MinasGerais_dissolve"
   ]
  },
  {
   "cell_type": "code",
   "execution_count": null,
   "id": "95b21cb3-db50-48f1-a354-ce2b23e9b247",
   "metadata": {
    "id": "95b21cb3-db50-48f1-a354-ce2b23e9b247"
   },
   "outputs": [],
   "source": [
    "# keeping what is relevant\n",
    "MinasGerais_dissolve.drop(columns=['ADM2_PT','ADM2_PCODE','ET_ID'],inplace=True)\n",
    "\n",
    "# then\n",
    "MinasGerais_dissolve"
   ]
  },
  {
   "cell_type": "markdown",
   "id": "9321a5df-3274-4696-9278-6141e3218930",
   "metadata": {
    "id": "9321a5df-3274-4696-9278-6141e3218930"
   },
   "source": [
    "### b. Dissolve for groups\n",
    "\n",
    "Using _dissolve()_ with no arguments returns the union of the polygons, BUT also you get a GEOdf.\n",
    "However, if you have a column that represents a grouping (as we do), you can dissolve by that column:"
   ]
  },
  {
   "cell_type": "code",
   "execution_count": null,
   "id": "8b02371a-f65e-46e5-b0d2-e88d21825cd2",
   "metadata": {
    "id": "8b02371a-f65e-46e5-b0d2-e88d21825cd2"
   },
   "outputs": [],
   "source": [
    "# dissolving\n",
    "brazil_municipalities.dissolve(by='ADM1_PT').plot(facecolor='yellow', edgecolor='black',linewidth=0.2)"
   ]
  },
  {
   "cell_type": "markdown",
   "id": "ade71f08-90cb-4a1c-977a-4f5ac846f2d9",
   "metadata": {
    "id": "ade71f08-90cb-4a1c-977a-4f5ac846f2d9"
   },
   "source": [
    "Again, let me save this result:"
   ]
  },
  {
   "cell_type": "code",
   "execution_count": null,
   "id": "1a36080b-9326-4584-9190-fa1718e03f0d",
   "metadata": {
    "id": "1a36080b-9326-4584-9190-fa1718e03f0d"
   },
   "outputs": [],
   "source": [
    "Brazil_adm1_diss=brazil_municipalities.dissolve(by='ADM1_PT')"
   ]
  },
  {
   "cell_type": "markdown",
   "id": "4d1de91b-7ad7-44f5-a9cb-410dbf53656c",
   "metadata": {
    "id": "4d1de91b-7ad7-44f5-a9cb-410dbf53656c"
   },
   "source": [
    "We know we have a GeoDF; let's see contents:"
   ]
  },
  {
   "cell_type": "code",
   "execution_count": null,
   "id": "ef8b7fbb-7b5b-4624-ae40-e7aed7d4bdf6",
   "metadata": {
    "id": "ef8b7fbb-7b5b-4624-ae40-e7aed7d4bdf6"
   },
   "outputs": [],
   "source": [
    "Brazil_adm1_diss"
   ]
  },
  {
   "cell_type": "markdown",
   "id": "48b1ddda-4b45-489c-97b8-3260a2f75459",
   "metadata": {
    "id": "48b1ddda-4b45-489c-97b8-3260a2f75459"
   },
   "source": [
    "Again, we can drop columns that do not bring important information:"
   ]
  },
  {
   "cell_type": "code",
   "execution_count": null,
   "id": "bebf8290-4334-4b1f-8818-0f0db44799be",
   "metadata": {
    "id": "bebf8290-4334-4b1f-8818-0f0db44799be"
   },
   "outputs": [],
   "source": [
    "Brazil_adm1_diss.drop(columns=['ADM2_PT','ADM2_PCODE','ET_ID'],inplace=True)\n",
    "Brazil_adm1_diss.reset_index(inplace=True)\n",
    "Brazil_adm1_diss.info()"
   ]
  },
  {
   "cell_type": "markdown",
   "id": "8ce4da9c-0e99-4e00-aabb-5a291d7a935d",
   "metadata": {
    "id": "8ce4da9c-0e99-4e00-aabb-5a291d7a935d"
   },
   "source": [
    "### c. Dissolve and aggregate\n",
    "\n",
    "In pandas, you have can aggregate data using some statistics. Dissolve can be used in the same way. Let me use the _indicators_ layer:"
   ]
  },
  {
   "cell_type": "code",
   "execution_count": null,
   "id": "f842ce68-8353-4af7-9ed9-5e1a8e856f39",
   "metadata": {
    "id": "f842ce68-8353-4af7-9ed9-5e1a8e856f39"
   },
   "outputs": [],
   "source": [
    "indicators.head()"
   ]
  },
  {
   "cell_type": "markdown",
   "id": "88614604-ef84-49c0-aaf4-4dc4858ae8e0",
   "metadata": {
    "id": "88614604-ef84-49c0-aaf4-4dc4858ae8e0"
   },
   "source": [
    "We have numerical columns, and a grouping column named _region_. Let's get some averages by region, while combining the polygons:"
   ]
  },
  {
   "cell_type": "code",
   "execution_count": null,
   "id": "abc8cfa8-6a02-4dd2-af74-07f1bbbf0191",
   "metadata": {
    "id": "abc8cfa8-6a02-4dd2-af74-07f1bbbf0191"
   },
   "outputs": [],
   "source": [
    "indicators.dissolve(\n",
    "     by=\"region\",\n",
    "     aggfunc={\n",
    "         \"COUNTRY\": \"count\",\n",
    "         \"fragility\": [\"mean\"],\n",
    "         \"co2\": [\"mean\"],\n",
    "         \"ForestRev_gdp\": [\"mean\"]\n",
    "     },as_index=False,\n",
    " )"
   ]
  },
  {
   "cell_type": "markdown",
   "id": "72648464-821b-47b1-87a9-f21260ee06d6",
   "metadata": {
    "id": "72648464-821b-47b1-87a9-f21260ee06d6"
   },
   "source": [
    "Let me save and plot:"
   ]
  },
  {
   "cell_type": "code",
   "execution_count": null,
   "id": "794f3048-257d-4193-89d0-deda71523b9c",
   "metadata": {
    "id": "794f3048-257d-4193-89d0-deda71523b9c"
   },
   "outputs": [],
   "source": [
    "indicatorsByRegion=indicators.dissolve(\n",
    "     by=\"region\",\n",
    "     aggfunc={\n",
    "         \"COUNTRY\": \"count\",\n",
    "         \"fragility\": [\"mean\"],\n",
    "         \"co2\": [\"mean\"],\n",
    "         \"ForestRev_gdp\": [\"mean\"]\n",
    "     },as_index=False,\n",
    " )\n",
    "\n",
    "\n",
    "indicatorsByRegion.plot(column = 'region')"
   ]
  },
  {
   "cell_type": "markdown",
   "id": "ce73aadb-aaad-458f-abf1-dc24be193949",
   "metadata": {
    "id": "ce73aadb-aaad-458f-abf1-dc24be193949"
   },
   "source": [
    "Without renaming, you can request a choropleth:"
   ]
  },
  {
   "cell_type": "code",
   "execution_count": null,
   "id": "509d432c-35bb-48c2-9365-02b6aa6227ee",
   "metadata": {
    "id": "509d432c-35bb-48c2-9365-02b6aa6227ee"
   },
   "outputs": [],
   "source": [
    "indicatorsByRegion.plot(column =('fragility', 'mean'),scheme='quantiles', cmap='OrRd',\n",
    "                        legend=True,\n",
    "                        legend_kwds={\"title\": \"Fragility\",'loc': 'lower left'},\n",
    "                        edgecolor='black',linewidth=0.2,\n",
    "                        figsize=(15, 10))"
   ]
  },
  {
   "cell_type": "markdown",
   "id": "0ac51cc2",
   "metadata": {
    "id": "0ac51cc2"
   },
   "source": [
    "## Exercise 2\n",
    "\n",
    "\n",
    "<div class=\"alert-success\">\n",
    "\n",
    "1. Create some subset of polygons with your country data at the municipal (or similar level). Use Unary UNION with those  polygons, and create a geoDF with the result.\n",
    "2. Dissolve your municipalities by another higher level administrative level. Plot the result.\n",
    "3. If possible, color some areas of your country by aggregating; if not, plot the \"median\" values in the _indicators_ map.\n",
    "    \n",
    "</div>"
   ]
  },
  {
   "cell_type": "markdown",
   "id": "29bdb1b3",
   "metadata": {
    "id": "29bdb1b3"
   },
   "source": [
    "[TOC](#0)\n",
    "_____________\n",
    "\n",
    "\n",
    "<a class=\"anchor\" id=\"4\"></a>\n",
    "\n",
    "# The convex hull\n",
    "\n",
    "Some time you may have the need to create a polygon that serves as an envelope to a set of points.\n",
    "\n",
    "For this example, let me compute the centroid coordinates:"
   ]
  },
  {
   "cell_type": "code",
   "execution_count": null,
   "id": "e05a431e-bfd6-4622-851d-66535cc0dcbe",
   "metadata": {
    "id": "e05a431e-bfd6-4622-851d-66535cc0dcbe"
   },
   "outputs": [],
   "source": [
    "brazil_5641=gpd.read_file(LinkBrazil,layer='country')\n",
    "brazil_5641.centroid"
   ]
  },
  {
   "cell_type": "code",
   "execution_count": null,
   "id": "1ee85d85-1033-40a3-95ae-624bdffea30e",
   "metadata": {
    "id": "1ee85d85-1033-40a3-95ae-624bdffea30e"
   },
   "outputs": [],
   "source": [
    "# then\n",
    "brazil_5641.centroid.x.values[0],brazil_5641.centroid.y.values[0]"
   ]
  },
  {
   "cell_type": "markdown",
   "id": "0b565daa-4e4e-4901-a1c0-51cc0545a48e",
   "metadata": {},
   "source": [
    "Let me open the airports:"
   ]
  },
  {
   "cell_type": "code",
   "execution_count": null,
   "id": "eb203997-8c36-4a17-a5a7-f80ccd3ad0e7",
   "metadata": {
    "id": "eb203997-8c36-4a17-a5a7-f80ccd3ad0e7"
   },
   "outputs": [],
   "source": [
    "airports_5641=gpd.read_file(LinkBrazil,layer='airports')\n",
    "airports_5641.head()"
   ]
  },
  {
   "cell_type": "markdown",
   "id": "36dd3b3a-6ac1-4ef1-a5ab-43de7baff144",
   "metadata": {},
   "source": [
    "Now, let me plot some airports, using the centroid:"
   ]
  },
  {
   "cell_type": "code",
   "execution_count": null,
   "id": "10d1d989",
   "metadata": {
    "id": "10d1d989"
   },
   "outputs": [],
   "source": [
    "# coordinates\n",
    "centroidX,centroidY=brazil_5641.centroid.x.values[0],brazil_5641.centroid.y.values[0]\n",
    "\n",
    "# subsets of medium airports\n",
    "Brazil_AirTopLeft=airports_5641[airports_5641.kind=='medium_airport'].cx[:centroidX,centroidY:]\n",
    "Brazil_AirTopRight=airports_5641[airports_5641.kind=='medium_airport'].cx[centroidX:,centroidY:]\n",
    "Brazil_AirBottomLeft=airports_5641[airports_5641.kind=='medium_airport'].cx[:centroidX,:centroidY]\n",
    "Brazil_AirBottomRight=airports_5641[airports_5641.kind=='medium_airport'].cx[centroidX:,:centroidY]"
   ]
  },
  {
   "cell_type": "markdown",
   "id": "791300a1-b45f-4f35-b7bf-8b4011a2af71",
   "metadata": {
    "id": "791300a1-b45f-4f35-b7bf-8b4011a2af71"
   },
   "source": [
    "Let me plot the subsets:"
   ]
  },
  {
   "cell_type": "code",
   "execution_count": null,
   "id": "cbc423fd",
   "metadata": {
    "id": "cbc423fd"
   },
   "outputs": [],
   "source": [
    "base=Brazil_AirTopLeft.plot(facecolor='grey', alpha=0.4)\n",
    "Brazil_AirTopRight.plot(ax=base,facecolor='orange', alpha=0.4)\n",
    "Brazil_AirBottomLeft.plot(ax=base,facecolor='green', alpha=0.4)\n",
    "Brazil_AirBottomRight.plot(ax=base,facecolor='red', alpha=0.4)"
   ]
  },
  {
   "cell_type": "markdown",
   "id": "cbfa5551-87ae-4b98-92fb-fbb08afab7fd",
   "metadata": {
    "id": "cbfa5551-87ae-4b98-92fb-fbb08afab7fd"
   },
   "source": [
    "Notice we have simple points in each subset:"
   ]
  },
  {
   "cell_type": "code",
   "execution_count": null,
   "id": "9edfce2c-6fb1-4e7d-83e2-289572a004d3",
   "metadata": {
    "id": "9edfce2c-6fb1-4e7d-83e2-289572a004d3"
   },
   "outputs": [],
   "source": [
    "Brazil_AirBottomLeft"
   ]
  },
  {
   "cell_type": "markdown",
   "id": "551f294a-15f2-4d59-8d39-a6c3f4bc78a5",
   "metadata": {
    "id": "551f294a-15f2-4d59-8d39-a6c3f4bc78a5"
   },
   "source": [
    "In this situation, you can NOT make a _convex hull_:"
   ]
  },
  {
   "cell_type": "code",
   "execution_count": null,
   "id": "83742721-0143-4ea3-90bf-d881e0d49625",
   "metadata": {
    "id": "83742721-0143-4ea3-90bf-d881e0d49625"
   },
   "outputs": [],
   "source": [
    "Brazil_AirBottomLeft.convex_hull.plot()"
   ]
  },
  {
   "cell_type": "markdown",
   "id": "95a53c9f-cdf5-47ce-a4d3-8f90ef2311db",
   "metadata": {
    "id": "95a53c9f-cdf5-47ce-a4d3-8f90ef2311db"
   },
   "source": [
    "You first need to **dissolve**, and then you create a hull, an envelope of  convex angles:"
   ]
  },
  {
   "cell_type": "code",
   "execution_count": null,
   "id": "026b2289",
   "metadata": {
    "id": "026b2289"
   },
   "outputs": [],
   "source": [
    "Brazil_AirBottomLeft.dissolve().convex_hull.plot()"
   ]
  },
  {
   "cell_type": "markdown",
   "id": "a4615ea0-73d3-407e-8331-b3ce8fff87af",
   "metadata": {
    "id": "a4615ea0-73d3-407e-8331-b3ce8fff87af"
   },
   "source": [
    "As we saw, the convex hull is a polygon:"
   ]
  },
  {
   "cell_type": "code",
   "execution_count": null,
   "id": "46326bc8-79c7-4804-8289-4abef9fad8c4",
   "metadata": {
    "id": "46326bc8-79c7-4804-8289-4abef9fad8c4"
   },
   "outputs": [],
   "source": [
    "Brazil_AirBottomLeft.dissolve().convex_hull"
   ]
  },
  {
   "cell_type": "markdown",
   "id": "83219eda-90dc-477d-b566-c23c27e470e0",
   "metadata": {
    "id": "83219eda-90dc-477d-b566-c23c27e470e0"
   },
   "source": [
    "What if we the polygons had not been previously combined?"
   ]
  },
  {
   "cell_type": "code",
   "execution_count": null,
   "id": "1a327e0f-4f9d-49d2-bfaa-521ff54a915c",
   "metadata": {
    "id": "1a327e0f-4f9d-49d2-bfaa-521ff54a915c"
   },
   "outputs": [],
   "source": [
    "brazil_municipalities.cx[:centroidX,:centroidY].convex_hull.plot(edgecolor='red')"
   ]
  },
  {
   "cell_type": "markdown",
   "id": "d908fc2f",
   "metadata": {
    "id": "d908fc2f"
   },
   "source": [
    "That is, you get a convex hull for each geometry.\n",
    "\n",
    "We can also use _union_ before creating a convex hull:"
   ]
  },
  {
   "cell_type": "code",
   "execution_count": null,
   "id": "2649d471",
   "metadata": {
    "id": "2649d471"
   },
   "outputs": [],
   "source": [
    "# just the union\n",
    "large_airport=airports_5641[airports_5641.kind=='large_airport']\n",
    "large_airport.union_all()"
   ]
  },
  {
   "cell_type": "code",
   "execution_count": null,
   "id": "ce05689b-acde-4373-8b60-51ca6bc19c5b",
   "metadata": {
    "id": "ce05689b-acde-4373-8b60-51ca6bc19c5b"
   },
   "outputs": [],
   "source": [
    "# hull of the union\n",
    "large_airport.union_all().convex_hull"
   ]
  },
  {
   "cell_type": "markdown",
   "id": "46a0e7b3",
   "metadata": {
    "id": "46a0e7b3"
   },
   "source": [
    "Let's turn the GS into a GDF:"
   ]
  },
  {
   "cell_type": "code",
   "execution_count": null,
   "id": "14037793-1df7-4dfa-8438-7dc7734580fe",
   "metadata": {
    "id": "14037793-1df7-4dfa-8438-7dc7734580fe"
   },
   "outputs": [],
   "source": [
    "LargeAirport_hull= gpd.GeoDataFrame(index=[0],\n",
    "                                    crs=large_airport.crs,\n",
    "                                    geometry=[large_airport.union_all().convex_hull])\n",
    "LargeAirport_hull['name']='large airports hull' # optional\n",
    "\n",
    "# then\n",
    "\n",
    "LargeAirport_hull"
   ]
  },
  {
   "cell_type": "markdown",
   "id": "c67c1b31",
   "metadata": {
    "id": "c67c1b31"
   },
   "source": [
    "Let's use the GDF in plotting:"
   ]
  },
  {
   "cell_type": "code",
   "execution_count": null,
   "id": "e73b691b",
   "metadata": {
    "id": "e73b691b"
   },
   "outputs": [],
   "source": [
    "base=brazil_5641.plot(facecolor='yellow')\n",
    "large_airport.plot(ax=base)\n",
    "LargeAirport_hull.plot(ax=base,facecolor='green',\n",
    "                       edgecolor='white',alpha=0.4,\n",
    "                       hatch='X')"
   ]
  },
  {
   "cell_type": "markdown",
   "id": "b0d78b91",
   "metadata": {
    "id": "b0d78b91"
   },
   "source": [
    "### Exercise 3\n",
    "\n",
    "<div class=\"alert-success\">\n",
    "\n",
    "1. Select some points from your maps.\n",
    "    \n",
    "2. Create the convex hull for those points.\n",
    "    \n",
    "3. Turn the hull into a GDF.\n",
    "    \n",
    "4. Plot the hull on top of the country.\n",
    "    \n",
    "</div>"
   ]
  },
  {
   "cell_type": "markdown",
   "id": "6852f4a7-24bb-4540-9324-bf9f67c54637",
   "metadata": {
    "id": "6852f4a7-24bb-4540-9324-bf9f67c54637"
   },
   "source": [
    "[TOC](#0)\n",
    "_____________\n",
    "\n",
    "<a class=\"anchor\" id=\"5\"></a>\n",
    "# Spatial Overlay\n",
    "\n",
    "We might need to create or find some geometries from the geometries we already have. Using a set theory approach, we will se the use of _intersection_, _union_, _difference_, and _symmetric difference_.\n",
    "\n",
    "Let me create this GeoDFs:"
   ]
  },
  {
   "cell_type": "code",
   "execution_count": null,
   "id": "b3a47ad4-44ab-4bfb-be52-f86e40d402bf",
   "metadata": {
    "id": "b3a47ad4-44ab-4bfb-be52-f86e40d402bf"
   },
   "outputs": [],
   "source": [
    "# the north\n",
    "MunisN_brazil=brazil_municipalities.cx[:,centroidY:]\n",
    "# the south\n",
    "MunisS_brazil=brazil_municipalities.cx[:,:centroidY]\n",
    "# the west\n",
    "MunisW_brazil=brazil_municipalities.cx[:centroidX,:]\n",
    "# the east\n",
    "MunisE_brazil=brazil_municipalities.cx[centroidX:,:]"
   ]
  },
  {
   "cell_type": "markdown",
   "id": "ffe06cd8-163f-4a45-859d-20d24b56ae74",
   "metadata": {
    "id": "ffe06cd8-163f-4a45-859d-20d24b56ae74"
   },
   "source": [
    "Let me plot:"
   ]
  },
  {
   "cell_type": "code",
   "execution_count": null,
   "id": "7a5a27d5-7117-43a5-bf61-6542de99e280",
   "metadata": {
    "id": "7a5a27d5-7117-43a5-bf61-6542de99e280"
   },
   "outputs": [],
   "source": [
    "base=MunisN_brazil.plot(facecolor='yellow', edgecolor='black',linewidth=0.2, alpha=0.6)\n",
    "MunisS_brazil.plot(facecolor='grey', edgecolor='black',linewidth=0.2,ax=base, alpha=0.4)"
   ]
  },
  {
   "cell_type": "code",
   "execution_count": null,
   "id": "1e119335-f1d0-42fb-8c7a-bcd5f0231578",
   "metadata": {
    "id": "1e119335-f1d0-42fb-8c7a-bcd5f0231578"
   },
   "outputs": [],
   "source": [
    "base=MunisE_brazil.plot(facecolor='yellow', edgecolor='black',linewidth=0.2, alpha=0.6)\n",
    "MunisW_brazil.plot(facecolor='grey', edgecolor='black',linewidth=0.2,ax=base, alpha=0.4)"
   ]
  },
  {
   "cell_type": "markdown",
   "id": "b751684b-270f-4b3a-9b7d-d51ae7f2b641",
   "metadata": {
    "id": "b751684b-270f-4b3a-9b7d-d51ae7f2b641"
   },
   "source": [
    "## Intersection\n",
    "\n",
    "We keep what is common between GeoDFs:"
   ]
  },
  {
   "cell_type": "code",
   "execution_count": null,
   "id": "b6517bb9-b20a-46f9-ba77-d8a0f120f97c",
   "metadata": {
    "id": "b6517bb9-b20a-46f9-ba77-d8a0f120f97c"
   },
   "outputs": [],
   "source": [
    "munisNS_brazil=MunisN_brazil.overlay(MunisS_brazil, how=\"intersection\",keep_geom_type=True)\n",
    "munisNS_brazil.plot()"
   ]
  },
  {
   "cell_type": "code",
   "execution_count": null,
   "id": "a65bd362-ddde-4d7d-98c7-151d7a1d1b0b",
   "metadata": {
    "id": "a65bd362-ddde-4d7d-98c7-151d7a1d1b0b"
   },
   "outputs": [],
   "source": [
    "# keeping the overlay\n",
    "munisWE_brazil=MunisW_brazil.overlay(MunisE_brazil, how=\"intersection\",keep_geom_type=True)\n",
    "munisWE_brazil.plot(edgecolor='white',linewidth=0.1)"
   ]
  },
  {
   "cell_type": "markdown",
   "id": "ec14306e-6c6e-4759-88e0-66a02b4294ec",
   "metadata": {
    "id": "ec14306e-6c6e-4759-88e0-66a02b4294ec"
   },
   "source": [
    "## Union\n",
    "\n",
    "Let me unite any polygons that touche each other. First, take a look at each one:"
   ]
  },
  {
   "cell_type": "code",
   "execution_count": null,
   "id": "4bbcc6ab-975e-4e47-8a07-9ad723c68368",
   "metadata": {
    "id": "4bbcc6ab-975e-4e47-8a07-9ad723c68368"
   },
   "outputs": [],
   "source": [
    "munisNS_brazil.info()"
   ]
  },
  {
   "cell_type": "code",
   "execution_count": null,
   "id": "c69c559c-987a-4335-b18c-bc9e0f9fea2b",
   "metadata": {
    "id": "c69c559c-987a-4335-b18c-bc9e0f9fea2b"
   },
   "outputs": [],
   "source": [
    "munisWE_brazil.info()"
   ]
  },
  {
   "cell_type": "markdown",
   "id": "a0ecfadb-7711-41fc-b225-a538324f09bb",
   "metadata": {
    "id": "a0ecfadb-7711-41fc-b225-a538324f09bb"
   },
   "source": [
    "Let me subset and show you:"
   ]
  },
  {
   "cell_type": "code",
   "execution_count": null,
   "id": "f8348693-7e68-49ca-b752-8a80178097d6",
   "metadata": {
    "id": "f8348693-7e68-49ca-b752-8a80178097d6"
   },
   "outputs": [],
   "source": [
    "keep=['ADM0_EN_1','ADM1_PT_1','ADM2_PT_1','geometry']\n",
    "munisNS_brazil=munisNS_brazil.loc[:,keep]\n",
    "munisWE_brazil=munisWE_brazil.loc[:,keep]"
   ]
  },
  {
   "cell_type": "code",
   "execution_count": null,
   "id": "5dfab57c-04e5-468d-b60a-0cc82ddeb1de",
   "metadata": {
    "id": "5dfab57c-04e5-468d-b60a-0cc82ddeb1de"
   },
   "outputs": [],
   "source": [
    "# now\n",
    "munisNS_brazil.overlay(munisWE_brazil,how=\"union\",keep_geom_type=True)"
   ]
  },
  {
   "cell_type": "markdown",
   "id": "4630ac7f-d8f5-4f98-b88b-4b3e201cdba3",
   "metadata": {
    "id": "4630ac7f-d8f5-4f98-b88b-4b3e201cdba3"
   },
   "source": [
    "As you see, geometries are fine, but not attributes. It is strictly NOT appending the GeoDFs:"
   ]
  },
  {
   "cell_type": "code",
   "execution_count": null,
   "id": "dd26202c-f697-4635-9596-5eed71dc777d",
   "metadata": {
    "id": "dd26202c-f697-4635-9596-5eed71dc777d"
   },
   "outputs": [],
   "source": [
    "# appending\n",
    "import pandas as pd\n",
    "\n",
    "pd.concat([munisNS_brazil,munisWE_brazil],ignore_index=True)"
   ]
  },
  {
   "cell_type": "markdown",
   "id": "9d264f8c-2d50-4526-8011-e1de5b227694",
   "metadata": {
    "id": "9d264f8c-2d50-4526-8011-e1de5b227694"
   },
   "source": [
    "This are different operations. UNION will combine any geometries that have overlaping portions in common."
   ]
  },
  {
   "cell_type": "code",
   "execution_count": null,
   "id": "f083eed4-13d4-4c84-9ca4-692cc073d276",
   "metadata": {
    "id": "f083eed4-13d4-4c84-9ca4-692cc073d276"
   },
   "outputs": [],
   "source": [
    "munisNS_brazil.overlay(munisWE_brazil, how=\"union\",keep_geom_type=True).dissolve().plot()"
   ]
  },
  {
   "cell_type": "markdown",
   "id": "2741107f-24c9-4dd0-bdd9-910a3666b61d",
   "metadata": {
    "id": "2741107f-24c9-4dd0-bdd9-910a3666b61d"
   },
   "source": [
    "Let me create an object to save the previous result:"
   ]
  },
  {
   "cell_type": "code",
   "execution_count": null,
   "id": "cc7b3bca-13b5-4bae-a431-3a23811f1a73",
   "metadata": {
    "id": "cc7b3bca-13b5-4bae-a431-3a23811f1a73"
   },
   "outputs": [],
   "source": [
    "muniMidBrazil=munisNS_brazil.overlay(munisWE_brazil, how=\"union\",keep_geom_type=True).dissolve()\n",
    "muniMidBrazil"
   ]
  },
  {
   "cell_type": "code",
   "execution_count": null,
   "id": "df9d6897-4e84-4b6b-8a76-398b19985d49",
   "metadata": {
    "id": "df9d6897-4e84-4b6b-8a76-398b19985d49"
   },
   "outputs": [],
   "source": [
    "# some cleaning\n",
    "\n",
    "muniMidBrazil['zone']='middles'\n",
    "muniMidBrazil=muniMidBrazil.loc[:,['ADM0_EN_1_1','zone','geometry']]\n",
    "muniMidBrazil"
   ]
  },
  {
   "cell_type": "markdown",
   "id": "bd80963c-3d9e-4708-af62-6d19149a6a4b",
   "metadata": {
    "id": "bd80963c-3d9e-4708-af62-6d19149a6a4b"
   },
   "source": [
    "## Difference\n",
    "\n",
    "Here, you keep what belongs to the GeoDF to left that is not in the GeoDF to the right:"
   ]
  },
  {
   "cell_type": "code",
   "execution_count": null,
   "id": "667a9eeb-dadb-4fcf-9c67-23ce0f6da08a",
   "metadata": {
    "id": "667a9eeb-dadb-4fcf-9c67-23ce0f6da08a"
   },
   "outputs": [],
   "source": [
    "# with the municipalities\n",
    "brazil_municipalities.overlay(muniMidBrazil, how='difference').plot()"
   ]
  },
  {
   "cell_type": "markdown",
   "id": "8170b033-0707-43e8-b4ee-dca39e46f17a",
   "metadata": {
    "id": "8170b033-0707-43e8-b4ee-dca39e46f17a"
   },
   "source": [
    "## Symmetric Difference"
   ]
  },
  {
   "cell_type": "markdown",
   "id": "5f2728ec-f142-47a9-8de2-a65fef18680f",
   "metadata": {
    "id": "5f2728ec-f142-47a9-8de2-a65fef18680f"
   },
   "source": [
    "This is the opposite to *intersection*, you keep what is not in the intersection:"
   ]
  },
  {
   "cell_type": "code",
   "execution_count": null,
   "id": "1a3e81f0-3f80-4a88-98c7-5f6611c50cfe",
   "metadata": {
    "id": "1a3e81f0-3f80-4a88-98c7-5f6611c50cfe"
   },
   "outputs": [],
   "source": [
    "MunisN_brazil.overlay(MunisS_brazil, how=\"symmetric_difference\",keep_geom_type=True).plot()"
   ]
  },
  {
   "cell_type": "code",
   "execution_count": null,
   "id": "a634707c-71d2-4e04-905d-e6cf23fa5cdf",
   "metadata": {
    "id": "a634707c-71d2-4e04-905d-e6cf23fa5cdf"
   },
   "outputs": [],
   "source": [
    "MunisW_brazil.overlay(muniMidBrazil, how=\"symmetric_difference\",keep_geom_type=False).plot()"
   ]
  },
  {
   "cell_type": "markdown",
   "id": "1c7274fc-0397-4f36-aef8-7fab2f6fc65a",
   "metadata": {
    "id": "1c7274fc-0397-4f36-aef8-7fab2f6fc65a"
   },
   "source": [
    "# Exercise 4\n",
    "\n",
    "<div class=\"alert-success\">\n",
    "\n",
    "Apply two spatial overlays to your maps. If possible. If not, try the codes below.\n",
    "\n",
    "        \n",
    "</div>"
   ]
  },
  {
   "cell_type": "markdown",
   "id": "7caa0e58",
   "metadata": {
    "id": "7caa0e58"
   },
   "source": [
    "[TOC](#0)\n",
    "_____________\n",
    "\n",
    "<a class=\"anchor\" id=\"6\"></a>\n",
    "\n",
    "# Validity of Geometry\n",
    "\n",
    "Geometries are created in a way that some issues may appear, especially in (multi) polygons.\n",
    "Let's check if our recent maps on states and municipalities are valid:"
   ]
  },
  {
   "cell_type": "code",
   "execution_count": null,
   "id": "3a27c1ca",
   "metadata": {
    "id": "3a27c1ca"
   },
   "outputs": [],
   "source": [
    "# non valid\n",
    "MunisS_brazil[~MunisS_brazil.is_valid]"
   ]
  },
  {
   "cell_type": "code",
   "execution_count": null,
   "id": "ee29926a",
   "metadata": {
    "id": "ee29926a"
   },
   "outputs": [],
   "source": [
    "# see the invalid:\n",
    "MunisS_brazil[~MunisS_brazil.is_valid].plot()"
   ]
  },
  {
   "cell_type": "markdown",
   "id": "735abaa5",
   "metadata": {
    "id": "735abaa5"
   },
   "source": [
    "It is difficult to see what is wrong. Let's get some information:"
   ]
  },
  {
   "cell_type": "code",
   "execution_count": null,
   "id": "7c6591e0",
   "metadata": {
    "id": "7c6591e0"
   },
   "outputs": [],
   "source": [
    "# what is wrong?\n",
    "\n",
    "from shapely.validation import explain_validity, make_valid\n",
    "\n",
    "explain_validity(MunisS_brazil[~MunisS_brazil.is_valid].geometry)"
   ]
  },
  {
   "cell_type": "code",
   "execution_count": null,
   "id": "6d90a783",
   "metadata": {
    "id": "6d90a783"
   },
   "outputs": [],
   "source": [
    "# varieties?\n",
    "MunisS_brazil['validity']=[x.split('[')[0] for x in MunisS_brazil.geometry.apply(lambda x: explain_validity(x))]\n",
    "MunisS_brazil['validity'].value_counts()"
   ]
  },
  {
   "cell_type": "code",
   "execution_count": null,
   "id": "d69f261b",
   "metadata": {
    "id": "d69f261b"
   },
   "outputs": [],
   "source": [
    "# solving the issue:\n",
    "MunisS_brazil.drop(columns=['validity'],inplace=True)\n",
    "\n",
    "MunisS_brazil_valid=MunisS_brazil.copy()\n",
    "\n",
    "MunisS_brazil_valid['geometry'] = [make_valid(row)  if not row.is_valid else row for row in MunisS_brazil_valid['geometry'] ]\n",
    "#any invalid?\n",
    "MunisS_brazil_valid[~MunisS_brazil_valid.is_valid]"
   ]
  },
  {
   "cell_type": "markdown",
   "id": "cfa45bcf",
   "metadata": {
    "id": "cfa45bcf"
   },
   "source": [
    "The _solution_ we got may help for some advanced techniques, but may also give us some extra trouble. Notice that once geopandas solved the problem, you  have created **collections**:"
   ]
  },
  {
   "cell_type": "code",
   "execution_count": null,
   "id": "c072a9dc-411c-4d7d-a94b-0c2f2de9cf97",
   "metadata": {
    "id": "c072a9dc-411c-4d7d-a94b-0c2f2de9cf97"
   },
   "outputs": [],
   "source": [
    "pd.Series([type(x) for x in MunisS_brazil_valid.geometry]).value_counts()"
   ]
  },
  {
   "cell_type": "markdown",
   "id": "f2345fc4",
   "metadata": {},
   "source": [
    "Let's do the same for the other GDFs:"
   ]
  },
  {
   "cell_type": "code",
   "execution_count": null,
   "id": "09f2a711",
   "metadata": {},
   "outputs": [],
   "source": [
    "# solving the issue:\n",
    "\n",
    "MunisN_brazil_valid=MunisN_brazil.copy()\n",
    "MunisE_brazil_valid=MunisE_brazil.copy()\n",
    "MunisW_brazil_valid=MunisW_brazil.copy()\n",
    "\n",
    "MunisN_brazil_valid['geometry'] = [make_valid(row)  if not row.is_valid else row for row in MunisN_brazil_valid['geometry'] ]\n",
    "MunisE_brazil_valid['geometry'] = [make_valid(row)  if not row.is_valid else row for row in MunisE_brazil_valid['geometry'] ]\n",
    "MunisW_brazil_valid['geometry'] = [make_valid(row)  if not row.is_valid else row for row in MunisW_brazil_valid['geometry'] ]\n"
   ]
  },
  {
   "cell_type": "code",
   "execution_count": null,
   "id": "dc37c818",
   "metadata": {},
   "outputs": [],
   "source": [
    "MunisN_brazil_valid.overlay(MunisS_brazil_valid, how=\"symmetric_difference\",keep_geom_type=True).plot()"
   ]
  },
  {
   "cell_type": "code",
   "execution_count": null,
   "id": "963a075b",
   "metadata": {},
   "outputs": [],
   "source": [
    "MunisN_brazil_cleaned = MunisN_brazil_valid.copy()\n",
    "MunisS_brazil_cleaned = MunisS_brazil_valid.copy()\n",
    "MunisE_brazil_cleaned = MunisE_brazil_valid.copy()\n",
    "MunisW_brazil_cleaned = MunisW_brazil_valid.copy()\n",
    "\n",
    "# Apply buffer(0) to potentially fix remaining issues\n",
    "MunisN_brazil_cleaned['geometry'] = MunisN_brazil_cleaned.geometry.buffer(0)\n",
    "MunisS_brazil_cleaned['geometry'] = MunisS_brazil_cleaned.geometry.buffer(0)\n",
    "MunisE_brazil_cleaned['geometry'] = MunisE_brazil_cleaned.geometry.buffer(0)\n",
    "MunisW_brazil_cleaned['geometry'] = MunisW_brazil_cleaned.geometry.buffer(0)"
   ]
  },
  {
   "cell_type": "code",
   "execution_count": null,
   "id": "a1808c4e",
   "metadata": {},
   "outputs": [],
   "source": [
    "# Try the overlay with the cleaned dataframes\n",
    "MunisN_brazil_cleaned.overlay(MunisS_brazil_cleaned, how=\"symmetric_difference\", keep_geom_type=True).plot()"
   ]
  },
  {
   "cell_type": "code",
   "execution_count": null,
   "id": "3dc3c220",
   "metadata": {},
   "outputs": [],
   "source": [
    "MunisE_brazil_cleaned.overlay(MunisW_brazil_cleaned, how=\"symmetric_difference\", keep_geom_type=True).plot()"
   ]
  }
 ],
 "metadata": {
  "anaconda-cloud": {
   "attach-environment": true,
   "summary": "test"
  },
  "colab": {
   "provenance": []
  },
  "hide_input": false,
  "jupytext": {
   "cell_metadata_filter": "-all",
   "notebook_metadata_filter": "-all"
  },
  "kernelspec": {
   "display_name": "Python 3 (ipykernel)",
   "language": "python",
   "name": "python3"
  },
  "language_info": {
   "codemirror_mode": {
    "name": "ipython",
    "version": 3
   },
   "file_extension": ".py",
   "mimetype": "text/x-python",
   "name": "python",
   "nbconvert_exporter": "python",
   "pygments_lexer": "ipython3",
   "version": "3.11.13"
  },
  "toc-autonumbering": false
 },
 "nbformat": 4,
 "nbformat_minor": 5
}
