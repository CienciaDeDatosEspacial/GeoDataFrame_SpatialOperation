{
 "cells": [
  {
   "cell_type": "markdown",
   "id": "f8746832",
   "metadata": {},
   "source": [
    "<center><img src=\"https://i.imgur.com/zRrFdsf.png\" width=\"700\"></center>"
   ]
  },
  {
   "cell_type": "markdown",
   "id": "af76d2a2",
   "metadata": {},
   "source": [
    "# Basic spatial operations in  Geo Dataframes\n",
    "\n",
    "We will review some important formatting processes for geodataframes. As usual, let's do this: \n",
    "\n",
    "1. Create a repository named: **geodfprepro**.\n",
    "2. Clone that repo to a local folder in your computer.\n",
    "3. In that local folder in your computer, create a folder named **maps** and **data**.\n",
    "4. Put the **brazilMaps_5641.gpkg**  file that contains the three maps prepared last class into the map folder.\n",
    "5. Download the shapefile of \"Brazil - Subnational Administrative Boundaries\" from [here](https://data.humdata.org/dataset/cod-ab-bra) and save it in the maps folder (you need to unzip the file).\n",
    "6. Download a **CSV** file with information on the airports in Brazil from this [website](https://data.humdata.org/dataset/ourairports-bra), I will save it in my **data** folder:\n",
    "7. Commit and push."
   ]
  },
  {
   "cell_type": "markdown",
   "id": "244a5266",
   "metadata": {},
   "source": [
    "Let's read _Brazil_5641.gpkg_ from the GitHub link with the help of **geopandas**:"
   ]
  },
  {
   "cell_type": "code",
   "execution_count": null,
   "id": "32c597da",
   "metadata": {},
   "outputs": [],
   "source": [
    "import os\n",
    "\n",
    "\n",
    "import geopandas as gpd\n",
    "from  fiona import listlayers\n",
    "\n",
    "#maps\n",
    "brazilMaps='https://github.com/CienciaDeDatosEspacial/geodfprepro/raw/main/maps/brazilMaps_5641.gpkg'\n",
    "\n",
    "#layers in maps\n",
    "listlayers(brazilMaps)"
   ]
  },
  {
   "cell_type": "markdown",
   "id": "ad00c172",
   "metadata": {},
   "source": [
    "Retrieving each map (layer):"
   ]
  },
  {
   "cell_type": "code",
   "execution_count": null,
   "id": "79c39157",
   "metadata": {},
   "outputs": [],
   "source": [
    "brazil=gpd.read_file(brazilMaps,layer='country')\n",
    "brazil_cities=gpd.read_file(brazilMaps,layer='cities')\n",
    "brazil_rivers=gpd.read_file(brazilMaps,layer='rivers')"
   ]
  },
  {
   "cell_type": "markdown",
   "id": "b4ca8fae",
   "metadata": {},
   "source": [
    "We know they share the same CRS:"
   ]
  },
  {
   "cell_type": "code",
   "execution_count": null,
   "id": "6896b67b",
   "metadata": {},
   "outputs": [],
   "source": [
    "brazil.crs.to_epsg()==brazil_cities.crs.to_epsg()==brazil_rivers.crs.to_epsg()"
   ]
  },
  {
   "cell_type": "markdown",
   "id": "6e07ca21",
   "metadata": {},
   "source": [
    "We also remember that having the same CRS allows one plot with several layers of maps:"
   ]
  },
  {
   "cell_type": "code",
   "execution_count": null,
   "id": "01f5aa46",
   "metadata": {},
   "outputs": [],
   "source": [
    "# plotting\n",
    "base = brazil.plot(facecolor=\"greenyellow\")\n",
    "brazil_rivers.plot(edgecolor='blue', linewidth=0.5,ax=base)\n",
    "brazil_cities.plot(marker='+', color='red', markersize=15,ax=base)"
   ]
  },
  {
   "cell_type": "markdown",
   "id": "c2fc940f",
   "metadata": {},
   "source": [
    "Now, let's see some important spatial operations:\n",
    "\n",
    "1. [Projection](#1)\n",
    "    * [Projecting Geoseries](#11)\n",
    "    * \n",
    "    * [Projecting Naive Geodata](#12)\n",
    "    * \n",
    "    * [Creating long/lat as spatial data and Re projecting](#13)\n",
    "    \n",
    "2. [Dissolving](#2)\n",
    "3. [Creating Spatial Points](#3)\n",
    "    * [Creating a convex hull](#31)\n",
    "4. [Checking Validity](#4)\n",
    "\n"
   ]
  },
  {
   "cell_type": "markdown",
   "id": "1a244be3",
   "metadata": {},
   "source": [
    "<a class=\"anchor\" id=\"11\"></a>\n",
    "\n",
    "## Formating Geoseries projections\n",
    "\n"
   ]
  },
  {
   "cell_type": "markdown",
   "id": "56f39f71",
   "metadata": {},
   "source": [
    "You know **brazil_5641** is a multipolygon:"
   ]
  },
  {
   "cell_type": "code",
   "execution_count": null,
   "id": "0c0f557c",
   "metadata": {},
   "outputs": [],
   "source": [
    "brazil"
   ]
  },
  {
   "cell_type": "markdown",
   "id": "a1623e72",
   "metadata": {},
   "source": [
    "Sometime, you just need the border (lines):"
   ]
  },
  {
   "cell_type": "code",
   "execution_count": null,
   "id": "39db903a",
   "metadata": {},
   "outputs": [],
   "source": [
    "brazil.boundary"
   ]
  },
  {
   "cell_type": "code",
   "execution_count": null,
   "id": "ef42fd87",
   "metadata": {},
   "outputs": [],
   "source": [
    "# This is just the borderline\n",
    "brazil.boundary.plot()"
   ]
  },
  {
   "cell_type": "markdown",
   "id": "24f53d89",
   "metadata": {},
   "source": [
    "Always check the data type:"
   ]
  },
  {
   "cell_type": "code",
   "execution_count": null,
   "id": "a18b7ce2",
   "metadata": {},
   "outputs": [],
   "source": [
    "# does 'boundary' return a GDF?\n",
    "type(brazil.boundary)"
   ]
  },
  {
   "cell_type": "markdown",
   "id": "5b3845aa",
   "metadata": {},
   "source": [
    "Some operations in geopandas require GDF or GS. If you need a GDF instead of a GS:"
   ]
  },
  {
   "cell_type": "code",
   "execution_count": null,
   "id": "c4899f6e",
   "metadata": {},
   "outputs": [],
   "source": [
    "# converting into GDF\n",
    "brazil.boundary.to_frame()"
   ]
  },
  {
   "cell_type": "markdown",
   "id": "ee31770d",
   "metadata": {},
   "source": [
    "Notice you get a very simple GDF, and you may want to add some information:"
   ]
  },
  {
   "cell_type": "code",
   "execution_count": null,
   "id": "1aa88edb",
   "metadata": {},
   "outputs": [],
   "source": [
    "# conversion\n",
    "brazil_border=brazil.boundary.to_frame() \n",
    "\n",
    "# new column (optional)\n",
    "brazil_border['name']='Brazil' \n",
    "\n",
    "# renaming the geometry column\n",
    "brazil_border.rename(columns={0:'geometry'},inplace=True) \n",
    "\n",
    "#setting the geometry (the name is not enough)\n",
    "brazil_border = brazil_border.set_geometry(\"geometry\")\n",
    "\n",
    "# verifying:\n",
    "brazil_border.crs"
   ]
  },
  {
   "cell_type": "markdown",
   "id": "04150fbd-9be0-4115-a71b-76d3ce3b7c8d",
   "metadata": {},
   "source": [
    "You see you _multistring_:"
   ]
  },
  {
   "cell_type": "code",
   "execution_count": null,
   "id": "dccd5e49-dd7c-4867-ba12-a242c38b8617",
   "metadata": {},
   "outputs": [],
   "source": [
    "brazil_border"
   ]
  },
  {
   "cell_type": "markdown",
   "id": "56253f89",
   "metadata": {},
   "source": [
    "You can add this GDF as a layer:"
   ]
  },
  {
   "cell_type": "markdown",
   "id": "a1a60dee",
   "metadata": {},
   "source": [
    "### Exercise 1\n",
    "\n",
    "<div class=\"alert-success\"> \n",
    "    \n",
    "1. Check if your country is a polygon or multipolygon.\n",
    "    \n",
    "2. Recover just the boundaries of that country.\n",
    "    \n",
    "3. Turn the boundary into a GDF.\n",
    "</div>"
   ]
  },
  {
   "cell_type": "markdown",
   "id": "2c049934",
   "metadata": {},
   "source": [
    "<a class=\"anchor\" id=\"12\"></a>\n",
    "\n",
    "## Lacking CRS information"
   ]
  },
  {
   "cell_type": "markdown",
   "id": "ae03899d",
   "metadata": {},
   "source": [
    "Reprojecting seems a simple process, but you might find some interesting cases. Let's read the maps on _states_ and _municipalities_:"
   ]
  },
  {
   "cell_type": "code",
   "execution_count": null,
   "id": "8f1ffae0",
   "metadata": {},
   "outputs": [],
   "source": [
    "brazil_states=gpd.read_file(os.path.join(\"maps\",\"bra_adm_ibge_2020_shp\",\"bra_admbnda_adm1_ibge_2020.shp\"))\n",
    "brazil_municipalities=gpd.read_file(os.path.join(\"maps\",\"bra_adm_ibge_2020_shp\",\"bra_admbnda_adm2_ibge_2020.shp\"))"
   ]
  },
  {
   "cell_type": "markdown",
   "id": "1fc50b42",
   "metadata": {},
   "source": [
    "Notice this:"
   ]
  },
  {
   "cell_type": "code",
   "execution_count": null,
   "id": "fcf97ff7",
   "metadata": {},
   "outputs": [],
   "source": [
    "brazil_states.crs, brazil_municipalities.crs"
   ]
  },
  {
   "cell_type": "markdown",
   "id": "d5d3fb9f",
   "metadata": {},
   "source": [
    "They do not have crs information, however they can be plotted:"
   ]
  },
  {
   "cell_type": "code",
   "execution_count": null,
   "id": "55f99615",
   "metadata": {},
   "outputs": [],
   "source": [
    "import matplotlib.pyplot as plt\n",
    "\n",
    "fig, (ax1, ax2) = plt.subplots(ncols=2, sharex=False, sharey=False, figsize=(12,12))\n",
    "\n",
    "brazil_states.plot(ax=ax1, facecolor='lightgrey', edgecolor='black')\n",
    "brazil_municipalities.plot(ax=ax2, facecolor='lightgrey', edgecolor='black',linewidth=0.2)\n"
   ]
  },
  {
   "cell_type": "markdown",
   "id": "1b744542",
   "metadata": {},
   "source": [
    "Since we are using the crs 5641 for Brazil, the initial strategy could be to set the CRS with the right projection :"
   ]
  },
  {
   "cell_type": "code",
   "execution_count": null,
   "id": "931bfad1",
   "metadata": {},
   "outputs": [],
   "source": [
    "# brazil_states.to_crs(5641)"
   ]
  },
  {
   "cell_type": "markdown",
   "id": "4c6125eb",
   "metadata": {},
   "source": [
    "Python says _\"Please set a crs on the object first\"_. This would mean to know the actual projection, of the geometry:"
   ]
  },
  {
   "cell_type": "code",
   "execution_count": null,
   "id": "4d1a7698",
   "metadata": {},
   "outputs": [],
   "source": [
    "brazil_states.geometry.head()"
   ]
  },
  {
   "cell_type": "markdown",
   "id": "947b1955",
   "metadata": {},
   "source": [
    "From the plots above and the previous rows, we conclude the maps are unprojected map; then:"
   ]
  },
  {
   "cell_type": "code",
   "execution_count": null,
   "id": "b0cea549",
   "metadata": {},
   "outputs": [],
   "source": [
    "brazil_states.crs = \"EPSG:4326\"\n",
    "brazil_municipalities.crs = \"EPSG:4326\""
   ]
  },
  {
   "cell_type": "markdown",
   "id": "370b9b22",
   "metadata": {},
   "source": [
    "Now, we can reproject:"
   ]
  },
  {
   "cell_type": "code",
   "execution_count": null,
   "id": "b5931b04",
   "metadata": {},
   "outputs": [],
   "source": [
    "brazil_states=brazil_states.to_crs(5641)\n",
    "brazil_municipalities=brazil_municipalities.to_crs(5641)"
   ]
  },
  {
   "cell_type": "markdown",
   "id": "4bd63172",
   "metadata": {},
   "source": [
    "### Exercise 2\n",
    "\n",
    "<div class=\"alert-success\">\n",
    "\n",
    "1. Look for sub administrative divisions of your country\n",
    "2. Check all the CRSs of those divisions\n",
    "3. If you find one CRS is missing, fill the CRS with the right projection.\n",
    "</div>"
   ]
  },
  {
   "cell_type": "markdown",
   "id": "98a03337",
   "metadata": {},
   "source": [
    "<a class=\"anchor\" id=\"13\"></a>\n",
    "\n",
    "## Projecting Naive Points\n",
    "\n",
    "You will get Lines and Polygons as maps for sure, but that may not be the case with points. These points came as a CSV file:"
   ]
  },
  {
   "cell_type": "code",
   "execution_count": null,
   "id": "e08c2311",
   "metadata": {},
   "outputs": [],
   "source": [
    "import pandas as pd \n",
    "infoairports=pd.read_csv(os.path.join(\"data\",\"br-airports.csv\"))\n",
    "\n",
    "# see\n",
    "\n",
    "infoairports"
   ]
  },
  {
   "cell_type": "markdown",
   "id": "00e98ce6",
   "metadata": {},
   "source": [
    "This needs some cleaning, as the first row has column names, and some columns are not needed:"
   ]
  },
  {
   "cell_type": "code",
   "execution_count": null,
   "id": "0773fe68",
   "metadata": {},
   "outputs": [],
   "source": [
    "# bye first row \n",
    "infoairports.drop(index=0,inplace=True)\n",
    "infoairports.reset_index(drop=True, inplace=True)\n",
    "\n",
    "# keep the  columns needed\n",
    "keep=['name','type','latitude_deg', 'longitude_deg','elevation_ft','region_name','municipality']\n",
    "infoairports=infoairports.loc[:,keep]\n",
    "infoairports.info()"
   ]
  },
  {
   "cell_type": "markdown",
   "id": "3cc1ef58",
   "metadata": {},
   "source": [
    "Some formatting is needed, because numeric data columns are not the right type:"
   ]
  },
  {
   "cell_type": "code",
   "execution_count": null,
   "id": "47c13297",
   "metadata": {},
   "outputs": [],
   "source": [
    "numericCols=['latitude_deg', 'longitude_deg','elevation_ft']\n",
    "infoairports[numericCols]=infoairports.loc[:,numericCols].apply(lambda x:pd.to_numeric(x))\n",
    "\n",
    "# now \n",
    "infoairports.info()"
   ]
  },
  {
   "cell_type": "code",
   "execution_count": null,
   "id": "a03af58c",
   "metadata": {},
   "outputs": [],
   "source": [
    "# let's plot\n",
    "\n",
    "base = brazil.plot(color='white', edgecolor='black') #unprojected\n",
    "\n",
    "infoairports.plot.scatter(x = 'longitude_deg', y = 'latitude_deg',ax=base)"
   ]
  },
  {
   "cell_type": "markdown",
   "id": "f15ef762",
   "metadata": {},
   "source": [
    "We get it wrong because coordinates of both do not match. Let's try this:\n",
    "\n",
    "1. Create a GeoDataFrame with the points, keeping them unprojected:"
   ]
  },
  {
   "cell_type": "code",
   "execution_count": null,
   "id": "86461262",
   "metadata": {},
   "outputs": [],
   "source": [
    "airports=gpd.GeoDataFrame(data=infoairports.copy(),\n",
    "                 geometry=gpd.points_from_xy(infoairports.longitude_deg,\n",
    "                                             infoairports.latitude_deg), \n",
    "                 crs=4326)# the coordinates were in degrees - unprojected"
   ]
  },
  {
   "cell_type": "markdown",
   "id": "ade1b35a-31a2-44b5-a7e5-227b5175cf8b",
   "metadata": {},
   "source": [
    "2. Reproject the GeoDataFrame:"
   ]
  },
  {
   "cell_type": "code",
   "execution_count": null,
   "id": "bb570d51-62be-4f50-98b9-bde4f685f892",
   "metadata": {},
   "outputs": [],
   "source": [
    "airports=airports.to_crs(5641)"
   ]
  },
  {
   "cell_type": "markdown",
   "id": "ff3c54d0-e0b4-4696-8f3b-8996bc38d9f1",
   "metadata": {},
   "source": [
    "Does it look better?"
   ]
  },
  {
   "cell_type": "code",
   "execution_count": null,
   "id": "21650c04",
   "metadata": {},
   "outputs": [],
   "source": [
    "# let's plot\n",
    "\n",
    "base = brazil.plot(color='white', edgecolor='red')\n",
    "airports.plot(ax=base,markersize=1)"
   ]
  },
  {
   "cell_type": "markdown",
   "id": "8aeb28a4-fa82-43db-8c1f-dbd66502076b",
   "metadata": {},
   "source": [
    "Now we have a spatial points:"
   ]
  },
  {
   "cell_type": "code",
   "execution_count": null,
   "id": "dca4947f",
   "metadata": {},
   "outputs": [],
   "source": [
    "#remember:\n",
    "type(airports), type(infoairports)"
   ]
  },
  {
   "cell_type": "markdown",
   "id": "f619aee9",
   "metadata": {},
   "source": [
    "Remember you have type of airports:"
   ]
  },
  {
   "cell_type": "code",
   "execution_count": null,
   "id": "01aeff93",
   "metadata": {},
   "outputs": [],
   "source": [
    "airports['type'].value_counts() # this will not work: airports.type.value_counts()"
   ]
  },
  {
   "cell_type": "markdown",
   "id": "257eec98",
   "metadata": {},
   "source": [
    "We may use that in the future. For now, just give the **type** column a different name."
   ]
  },
  {
   "cell_type": "code",
   "execution_count": null,
   "id": "fd5abd97",
   "metadata": {},
   "outputs": [],
   "source": [
    "airports.rename(columns={'type':'kind'},inplace=True)"
   ]
  },
  {
   "cell_type": "markdown",
   "id": "dc6d8e5a",
   "metadata": {},
   "source": [
    "Let's play with this:"
   ]
  },
  {
   "cell_type": "code",
   "execution_count": null,
   "id": "ae30fb08",
   "metadata": {
    "scrolled": true
   },
   "outputs": [],
   "source": [
    "from folium import LayerControl\n",
    "\n",
    "\n",
    "m = airports[airports.kind=='small_airport'].explore(color=\"red\",name=\"small\",show=False)\n",
    "m = airports[airports.kind=='medium_airport'].explore(m=m, color=\"blue\",name=\"medium\",show=False)\n",
    "m = airports[airports.kind=='large_airport'].explore(m=m, color=\"black\",name=\"large\",show=True)\n",
    "m = airports[airports.kind=='seaplane_base'].explore(m=m, color=\"green\",name=\"seaplane\",show=False)\n",
    "m = airports[airports.kind=='closed'].explore(m=m, color=\"white\",name=\"closed\",show=False)\n",
    "m = airports[airports.kind=='heliport'].explore(m=m, color=\"orange\",name=\"heliport\",show=False)\n",
    "\n",
    "LayerControl(collapsed=False).add_to(m) #optional\n",
    "\n",
    "m"
   ]
  },
  {
   "cell_type": "markdown",
   "id": "e0a0cfb0",
   "metadata": {},
   "source": [
    "\n",
    "### Exercise 3 \n",
    "<div class=\"alert-success\">\n",
    "\n",
    "1. Look for some points in a CSV file about your country.\n",
    "    \n",
    "2. Turn those points into a spatial object.\n",
    "    \n",
    "3. Save the layer.\n",
    "    \n",
    "</div>"
   ]
  },
  {
   "cell_type": "markdown",
   "id": "f4045360",
   "metadata": {},
   "source": [
    "<a class=\"anchor\" id=\"2\"></a>\n",
    "\n",
    "## Dissolve and Union\n",
    "\n",
    "Let me divide Brazil municipalities using the centroid of Brazil:"
   ]
  },
  {
   "cell_type": "code",
   "execution_count": null,
   "id": "a732d195-b51f-4bf7-8b9c-daaf8a49c0a3",
   "metadata": {},
   "outputs": [],
   "source": [
    "centroBrazil=brazil.centroid\n",
    "centroBrazil"
   ]
  },
  {
   "cell_type": "markdown",
   "id": "e786ff52-c376-4ecf-abd7-262143ec143b",
   "metadata": {},
   "source": [
    "Notice:"
   ]
  },
  {
   "cell_type": "code",
   "execution_count": null,
   "id": "a9a4ea55-7027-4fd9-9e9d-f9834aa45fe9",
   "metadata": {},
   "outputs": [],
   "source": [
    "type(centroBrazil), type(centroBrazil.x)"
   ]
  },
  {
   "cell_type": "markdown",
   "id": "20c6e836-0e27-4d00-80b6-54eb4b6a5120",
   "metadata": {},
   "source": [
    "The previous values are complex structures, not simple values. Then:"
   ]
  },
  {
   "cell_type": "code",
   "execution_count": null,
   "id": "b25585e1-9f22-4aa5-8a8e-7d111ff3aa43",
   "metadata": {},
   "outputs": [],
   "source": [
    "type(centroBrazil.x[0]),type(centroBrazil.y[0])"
   ]
  },
  {
   "cell_type": "markdown",
   "id": "6f1f227c-be1f-4ca4-8a08-e22608ce0c89",
   "metadata": {},
   "source": [
    "Let me now subset using  geopandas'  **cx**, which does subsetting **by location**:"
   ]
  },
  {
   "cell_type": "code",
   "execution_count": null,
   "id": "b0917b7e",
   "metadata": {},
   "outputs": [],
   "source": [
    "fig, axs = plt.subplots(nrows=2,ncols=2,sharex=False, sharey=False,figsize=(8,8))\n",
    "\n",
    "centroidX=centroBrazil.x[0]\n",
    "centroidY=centroBrazil.y[0]\n",
    "\n",
    "axs[0,0].set_title('LeftOf_Centroid, Above_Centroid',fontsize=5)\n",
    "brazil_municipalities.cx[:centroidX,centroidY:].plot(ax=axs[0,0]) \n",
    "\n",
    "axs[0,1].set_title('RightOf_Centroid, Above_Centroid',fontsize=5)\n",
    "brazil_municipalities.cx[centroidX:,centroidY:].plot(ax=axs[0,1]) \n",
    "\n",
    "axs[1,0].set_title('LeftOf_Centroid, Below_Centroid',fontsize=5)\n",
    "brazil_municipalities.cx[:centroidX,:centroidY].plot(ax=axs[1,0]) \n",
    "\n",
    "axs[1,1].set_title('RightOf_Centroid, Below_Centroid',fontsize=5)\n",
    "brazil_municipalities.cx[centroidX:,:centroidY].plot(ax=axs[1,1]) ;"
   ]
  },
  {
   "cell_type": "markdown",
   "id": "8815d605",
   "metadata": {},
   "source": [
    "You can create a polygon with one of these:"
   ]
  },
  {
   "cell_type": "code",
   "execution_count": null,
   "id": "44bccfaf",
   "metadata": {},
   "outputs": [],
   "source": [
    "#instead of:\n",
    "brazil_municipalities.cx[:centroidX,centroidY:]"
   ]
  },
  {
   "cell_type": "markdown",
   "id": "b1dee927-70dd-48e8-82b7-a04a2fa8fe3c",
   "metadata": {},
   "source": [
    "Let's compare **dissolve** and **union** (_unary union_):"
   ]
  },
  {
   "cell_type": "code",
   "execution_count": null,
   "id": "8b02371a-f65e-46e5-b0d2-e88d21825cd2",
   "metadata": {},
   "outputs": [],
   "source": [
    "# dissolving\n",
    "brazil_municipalities.cx[:centroidX,centroidY:].dissolve()"
   ]
  },
  {
   "cell_type": "code",
   "execution_count": null,
   "id": "f6937879-a52e-4c75-8878-fa62777d1c01",
   "metadata": {},
   "outputs": [],
   "source": [
    "#uniting\n",
    "brazil_municipalities.cx[:centroidX,centroidY:].unary_union"
   ]
  },
  {
   "cell_type": "markdown",
   "id": "5ca42cdc-9c79-4777-b2bd-067e2c91bb99",
   "metadata": {},
   "source": [
    "After uniting, you do not see the points. You need to convert the result into a geopandas geoseries:"
   ]
  },
  {
   "cell_type": "code",
   "execution_count": null,
   "id": "f5c3e25c-057d-4b89-b2a3-bf280e9f5ed0",
   "metadata": {},
   "outputs": [],
   "source": [
    "gpd.GeoSeries(brazil_municipalities.cx[:centroidX,centroidY:].unary_union)"
   ]
  },
  {
   "cell_type": "markdown",
   "id": "efecdc9e-62af-422c-a7ee-626a2ac62434",
   "metadata": {},
   "source": [
    "They look the same, but _dissolve()_ can combine **by** groups:"
   ]
  },
  {
   "cell_type": "code",
   "execution_count": null,
   "id": "ab26163e-5a55-43a3-beff-488de12a7770",
   "metadata": {},
   "outputs": [],
   "source": [
    "brazil_municipalities.cx[:centroidX,centroidY:].dissolve(by='ADM1_PT').plot(edgecolor='red')"
   ]
  },
  {
   "cell_type": "markdown",
   "id": "7b67d89a-88cc-409a-af43-bfa7cc4b426c",
   "metadata": {},
   "source": [
    "Let's keep using use dissolve:"
   ]
  },
  {
   "cell_type": "code",
   "execution_count": null,
   "id": "5067cf48",
   "metadata": {},
   "outputs": [],
   "source": [
    "# you create\n",
    "Brazil_topLeft=brazil_municipalities.cx[:centroidX,centroidY:].dissolve()\n",
    "# you get\n",
    "Brazil_topLeft"
   ]
  },
  {
   "cell_type": "markdown",
   "id": "b283dd1f",
   "metadata": {},
   "source": [
    "Aside from the geometry column, the rest in wrong, then:"
   ]
  },
  {
   "cell_type": "code",
   "execution_count": null,
   "id": "ca7f8999",
   "metadata": {},
   "outputs": [],
   "source": [
    "Brazil_topLeft['zone']='NW'\n",
    "Brazil_topLeft=Brazil_topLeft.loc[:,['ADM0_EN','zone','geometry']]   \n",
    "Brazil_topLeft"
   ]
  },
  {
   "cell_type": "code",
   "execution_count": null,
   "id": "466f1f0e",
   "metadata": {},
   "outputs": [],
   "source": [
    "# this is the plot\n",
    "\n",
    "Brazil_topLeft.plot()"
   ]
  },
  {
   "cell_type": "markdown",
   "id": "32abaf89-dd69-4e2d-83ee-a7c6ea3f3d9b",
   "metadata": {},
   "source": [
    "We can do the same with the other parts:"
   ]
  },
  {
   "cell_type": "code",
   "execution_count": null,
   "id": "51752c0d-3177-48e7-8eba-68bb3f1ac9f2",
   "metadata": {},
   "outputs": [],
   "source": [
    "Brazil_topRight=brazil_municipalities.cx[centroidX:,centroidY:].dissolve()\n",
    "Brazil_bottomLeft=brazil_municipalities.cx[:centroidX,:centroidY].dissolve()\n",
    "Brazil_bottomRight=brazil_municipalities.cx[centroidX:,:centroidY].dissolve()\n",
    "\n",
    "Brazil_topRight['zone']='NE'\n",
    "Brazil_topRight=Brazil_topRight.loc[:,['ADM0_EN','zone','geometry']] \n",
    "\n",
    "Brazil_bottomLeft['zone']='NE'\n",
    "Brazil_bottomLeft=Brazil_bottomLeft.loc[:,['ADM0_EN','zone','geometry']] \n",
    "\n",
    "Brazil_bottomRight['zone']='NE'\n",
    "Brazil_bottomRight=Brazil_bottomRight.loc[:,['ADM0_EN','zone','geometry']] \n"
   ]
  },
  {
   "cell_type": "markdown",
   "id": "6f4bc949",
   "metadata": {},
   "source": [
    "Keep in mind that with **CX** you may not get a perfect partition:"
   ]
  },
  {
   "cell_type": "code",
   "execution_count": null,
   "id": "bc669d23",
   "metadata": {},
   "outputs": [],
   "source": [
    "rowsCX=(brazil_municipalities.cx[:centroBrazil.x[0],centroBrazil.y[0]:].shape[0],\\\n",
    "brazil_municipalities.cx[centroBrazil.x[0]:,centroBrazil.y[0]:].shape[0],\\\n",
    "brazil_municipalities.cx[:centroBrazil.x[0],:centroBrazil.y[0]].shape[0],\\\n",
    "brazil_municipalities.cx[centroBrazil.x[0]:,:centroBrazil.y[0]].shape[0])\n",
    "sum(rowsCX)"
   ]
  },
  {
   "cell_type": "markdown",
   "id": "57f6903c",
   "metadata": {},
   "source": [
    "So, you have duplicated polygons across the zones:"
   ]
  },
  {
   "cell_type": "code",
   "execution_count": null,
   "id": "c70f189b",
   "metadata": {},
   "outputs": [],
   "source": [
    "sum(rowsCX)-brazil_municipalities.shape[0]"
   ]
  },
  {
   "cell_type": "markdown",
   "id": "ebc2ddf7-bfd6-4cf1-bc66-49b3d348d1ff",
   "metadata": {},
   "source": [
    "Take a look:"
   ]
  },
  {
   "cell_type": "code",
   "execution_count": null,
   "id": "8baa4f7a-c4df-4cc0-92cf-3aa611890d0e",
   "metadata": {},
   "outputs": [],
   "source": [
    "base=Brazil_topLeft.plot(facecolor='grey', alpha=0.4)\n",
    "Brazil_topRight.plot(ax=base,facecolor='orange', alpha=0.4)\n",
    "Brazil_bottomLeft.plot(ax=base,facecolor='green', alpha=0.4)\n",
    "Brazil_bottomRight.plot(ax=base,facecolor='red', alpha=0.4)\n"
   ]
  },
  {
   "cell_type": "markdown",
   "id": "0ac51cc2",
   "metadata": {},
   "source": [
    "### Exercise 4\n",
    "\n",
    "\n",
    "<div class=\"alert-success\"> \n",
    "\n",
    "1. Compute the centroid of your country.\n",
    "\n",
    "2. Dissolve all the polygons to the north, and also all the polygons to the south. Plot both results.\n",
    "\n",
    "3. Detect the amount of duplicates after the dissolving process.\n",
    "\n",
    "4. Plot both maps so that duplicates appear\n",
    "    \n",
    "</div>"
   ]
  },
  {
   "cell_type": "markdown",
   "id": "29bdb1b3",
   "metadata": {},
   "source": [
    "<a class=\"anchor\" id=\"31\"></a>\n",
    "\n",
    "## Creating the convex hull\n",
    "\n",
    "Some time you may have the need to create a polygon that serves as an envelope to a set of points:"
   ]
  },
  {
   "cell_type": "code",
   "execution_count": null,
   "id": "10d1d989",
   "metadata": {},
   "outputs": [],
   "source": [
    "Brazil_AirTopLeft=airports[airports.kind=='medium_airport'].cx[:centroidX,centroidY:]\n",
    "Brazil_AirTopRight=airports[airports.kind=='medium_airport'].cx[centroidX:,centroidY:]\n",
    "Brazil_AirBottomLeft=airports[airports.kind=='medium_airport'].cx[:centroidX,:centroidY]\n",
    "Brazil_AirBottomRight=airports[airports.kind=='medium_airport'].cx[centroidX:,:centroidY]"
   ]
  },
  {
   "cell_type": "code",
   "execution_count": null,
   "id": "cbc423fd",
   "metadata": {},
   "outputs": [],
   "source": [
    "base=Brazil_AirTopLeft.plot(facecolor='grey', alpha=0.4)\n",
    "Brazil_AirTopRight.plot(ax=base,facecolor='orange', alpha=0.4)\n",
    "Brazil_AirBottomLeft.plot(ax=base,facecolor='green', alpha=0.4)\n",
    "Brazil_AirBottomRight.plot(ax=base,facecolor='red', alpha=0.4)"
   ]
  },
  {
   "cell_type": "markdown",
   "id": "cbfa5551-87ae-4b98-92fb-fbb08afab7fd",
   "metadata": {},
   "source": [
    "Notice we have simple points:"
   ]
  },
  {
   "cell_type": "code",
   "execution_count": null,
   "id": "9edfce2c-6fb1-4e7d-83e2-289572a004d3",
   "metadata": {},
   "outputs": [],
   "source": [
    "Brazil_AirBottomLeft"
   ]
  },
  {
   "cell_type": "markdown",
   "id": "551f294a-15f2-4d59-8d39-a6c3f4bc78a5",
   "metadata": {},
   "source": [
    "In this situation, you can not make a _convex hull_:"
   ]
  },
  {
   "cell_type": "code",
   "execution_count": null,
   "id": "83742721-0143-4ea3-90bf-d881e0d49625",
   "metadata": {},
   "outputs": [],
   "source": [
    "Brazil_AirBottomLeft.convex_hull.plot()"
   ]
  },
  {
   "cell_type": "markdown",
   "id": "95a53c9f-cdf5-47ce-a4d3-8f90ef2311db",
   "metadata": {},
   "source": [
    "You first need to dissolve, and then you create a hull, an envelope of  convex angles:"
   ]
  },
  {
   "cell_type": "code",
   "execution_count": null,
   "id": "026b2289",
   "metadata": {},
   "outputs": [],
   "source": [
    "Brazil_AirBottomLeft.dissolve().convex_hull.plot()"
   ]
  },
  {
   "cell_type": "markdown",
   "id": "a4615ea0-73d3-407e-8331-b3ce8fff87af",
   "metadata": {},
   "source": [
    "As we saw, the convex hull is a polygon: "
   ]
  },
  {
   "cell_type": "code",
   "execution_count": null,
   "id": "46326bc8-79c7-4804-8289-4abef9fad8c4",
   "metadata": {},
   "outputs": [],
   "source": [
    "Brazil_AirBottomLeft.dissolve().convex_hull"
   ]
  },
  {
   "cell_type": "markdown",
   "id": "7adc6aff-e268-4982-b4b4-b3bec3e663cf",
   "metadata": {},
   "source": [
    "We can make hulls from any spatial object:"
   ]
  },
  {
   "cell_type": "code",
   "execution_count": null,
   "id": "a35691d1-4cd8-4b00-8e47-94b1643c650e",
   "metadata": {},
   "outputs": [],
   "source": [
    "# SW of Brazil as convex hull\n",
    "Brazil_bottomLeft.convex_hull.plot()"
   ]
  },
  {
   "cell_type": "markdown",
   "id": "83219eda-90dc-477d-b566-c23c27e470e0",
   "metadata": {},
   "source": [
    "In this last case, what if we the polygons had not been dissolved?"
   ]
  },
  {
   "cell_type": "code",
   "execution_count": null,
   "id": "1a327e0f-4f9d-49d2-bfaa-521ff54a915c",
   "metadata": {},
   "outputs": [],
   "source": [
    "brazil_municipalities.cx[:centroidX,:centroidY].convex_hull.plot(edgecolor='red')"
   ]
  },
  {
   "cell_type": "markdown",
   "id": "d908fc2f",
   "metadata": {},
   "source": [
    "That is, you get a convex hull for each row of the geometry. \n",
    "\n",
    "We can also use _union_ before creating a convex hull:"
   ]
  },
  {
   "cell_type": "code",
   "execution_count": null,
   "id": "2649d471",
   "metadata": {},
   "outputs": [],
   "source": [
    "# just the union\n",
    "large_airport=airports[airports.kind=='large_airport']\n",
    "gpd.GeoSeries(large_airport.unary_union)"
   ]
  },
  {
   "cell_type": "code",
   "execution_count": null,
   "id": "ce05689b-acde-4373-8b60-51ca6bc19c5b",
   "metadata": {},
   "outputs": [],
   "source": [
    "# hull of the union\n",
    "gpd.GeoSeries(large_airport.unary_union.convex_hull)"
   ]
  },
  {
   "cell_type": "markdown",
   "id": "46a0e7b3",
   "metadata": {},
   "source": [
    "Let's turn the GS into a GDF:"
   ]
  },
  {
   "cell_type": "code",
   "execution_count": null,
   "id": "93eda10e",
   "metadata": {},
   "outputs": [],
   "source": [
    "# as gdf\n",
    "LargeAirport_hull=gpd.GeoSeries(large_airport.unary_union.convex_hull).to_frame()\n",
    "LargeAirport_hull"
   ]
  },
  {
   "cell_type": "code",
   "execution_count": null,
   "id": "4967ab5c",
   "metadata": {},
   "outputs": [],
   "source": [
    "#next steps\n",
    "LargeAirport_hull.rename(columns={0:'geometry'},inplace=True)\n",
    "LargeAirport_hull['name']='large airports hull' # optional\n",
    "LargeAirport_hull=LargeAirport_hull.set_geometry('geometry')\n",
    "LargeAirport_hull.crs=\"EPSG:5641\"\n",
    "# verifying:\n",
    "LargeAirport_hull.crs"
   ]
  },
  {
   "cell_type": "markdown",
   "id": "c67c1b31",
   "metadata": {},
   "source": [
    "Let's use the GDF in plotting:"
   ]
  },
  {
   "cell_type": "code",
   "execution_count": null,
   "id": "e73b691b",
   "metadata": {},
   "outputs": [],
   "source": [
    "base=brazil.plot(facecolor='yellow')\n",
    "large_airport.plot(ax=base)\n",
    "LargeAirport_hull.plot(ax=base,facecolor='green',\n",
    "                       edgecolor='white',alpha=0.4,\n",
    "                       hatch='X')"
   ]
  },
  {
   "cell_type": "markdown",
   "id": "b0d78b91",
   "metadata": {},
   "source": [
    "### Exercise 5 \n",
    "\n",
    "<div class=\"alert-success\">\n",
    "\n",
    "1. Select some points from your maps.\n",
    "    \n",
    "2. Create the convex hull for those points.\n",
    "    \n",
    "3. Turn the hull into a GDF.\n",
    "    \n",
    "4. Plot the hull on top of the country.\n",
    "    \n",
    "</div>"
   ]
  },
  {
   "cell_type": "markdown",
   "id": "6852f4a7-24bb-4540-9324-bf9f67c54637",
   "metadata": {},
   "source": [
    "## Spatial Overlay\n",
    "\n",
    "We might need to create or find some geometries from the geometries we already have. Using a set theory approach, we will se the use of _intersection_, _union_, _difference_, and _symmetric difference_.\n",
    "\n",
    "Let me create this GeoDFs:"
   ]
  },
  {
   "cell_type": "code",
   "execution_count": null,
   "id": "b3a47ad4-44ab-4bfb-be52-f86e40d402bf",
   "metadata": {},
   "outputs": [],
   "source": [
    "# the north\n",
    "MunisN_brazil=brazil_municipalities.cx[:,centroidY:]\n",
    "# the south\n",
    "MunisS_brazil=brazil_municipalities.cx[:,:centroidY]\n",
    "# the west\n",
    "MunisW_brazil=brazil_municipalities.cx[:centroidX,:]\n",
    "# the east\n",
    "MunisE_brazil=brazil_municipalities.cx[centroidX:,:]"
   ]
  },
  {
   "cell_type": "markdown",
   "id": "b751684b-270f-4b3a-9b7d-d51ae7f2b641",
   "metadata": {},
   "source": [
    "### Intersection\n",
    "\n",
    "We keep what id common in both GeoDFs:"
   ]
  },
  {
   "cell_type": "code",
   "execution_count": null,
   "id": "b6517bb9-b20a-46f9-ba77-d8a0f120f97c",
   "metadata": {},
   "outputs": [],
   "source": [
    "munisMidNS_brazil=MunisN_brazil.overlay(MunisS_brazil, how=\"intersection\",keep_geom_type=False)\n",
    "munisMidNS_brazil.plot()"
   ]
  },
  {
   "cell_type": "code",
   "execution_count": null,
   "id": "a65bd362-ddde-4d7d-98c7-151d7a1d1b0b",
   "metadata": {},
   "outputs": [],
   "source": [
    "munisMidWE_brazil=MunisW_brazil.overlay(MunisE_brazil, how=\"intersection\",keep_geom_type=False)\n",
    "munisMidWE_brazil.plot()"
   ]
  },
  {
   "cell_type": "markdown",
   "id": "ec14306e-6c6e-4759-88e0-66a02b4294ec",
   "metadata": {},
   "source": [
    "### Union\n",
    "\n",
    "We combine all the geometries in two GeoDFs. Let me try to combine the previous results:"
   ]
  },
  {
   "cell_type": "code",
   "execution_count": null,
   "id": "4bbcc6ab-975e-4e47-8a07-9ad723c68368",
   "metadata": {},
   "outputs": [],
   "source": [
    "#munisMidNS_brazil.overlay(munisMidWE_brazil, how=\"union\",keep_geom_type=False)"
   ]
  },
  {
   "cell_type": "markdown",
   "id": "a65ea544-3fe2-497e-8172-2bd2ed7445b3",
   "metadata": {},
   "source": [
    "The errors appears because of the mixed geometries:"
   ]
  },
  {
   "cell_type": "code",
   "execution_count": null,
   "id": "d8bdbea4-1feb-4fa0-aea3-ff7720a6037f",
   "metadata": {},
   "outputs": [],
   "source": [
    "munisMidNS_brazil.geometry"
   ]
  },
  {
   "cell_type": "code",
   "execution_count": null,
   "id": "b075bf05-ebbe-47dd-8aff-9e15a42cbe7b",
   "metadata": {},
   "outputs": [],
   "source": [
    "munisMidWE_brazil.geometry"
   ]
  },
  {
   "cell_type": "markdown",
   "id": "dc7c7f7c-878e-45eb-912b-aa9cabf5801e",
   "metadata": {},
   "source": [
    "The strategy should be to dissolve both before the union:"
   ]
  },
  {
   "cell_type": "code",
   "execution_count": null,
   "id": "4361fe4e-9397-47e0-b5d3-30202f3da1bc",
   "metadata": {},
   "outputs": [],
   "source": [
    "munisMidNS_brazil.dissolve().overlay(munisMidWE_brazil.dissolve(), how=\"union\",keep_geom_type=False).geometry"
   ]
  },
  {
   "cell_type": "markdown",
   "id": "3a4e8d1a-366d-4f77-8833-a77e76968b79",
   "metadata": {},
   "source": [
    "Or to apply *unary_union*:"
   ]
  },
  {
   "cell_type": "code",
   "execution_count": null,
   "id": "879cbcec-cb9c-42a1-8116-01a05eda4bc3",
   "metadata": {},
   "outputs": [],
   "source": [
    "munisMidNS_brazil.dissolve().overlay(munisMidWE_brazil.dissolve(), how=\"union\",keep_geom_type=False).unary_union"
   ]
  },
  {
   "cell_type": "markdown",
   "id": "3572eef6-10ab-47b6-9dc9-23c03d624e83",
   "metadata": {},
   "source": [
    "Let me use dissolve, and dissolve the result:"
   ]
  },
  {
   "cell_type": "code",
   "execution_count": null,
   "id": "31baf490-8680-46b8-90ad-aac88b3b8ccf",
   "metadata": {},
   "outputs": [],
   "source": [
    "munisMidNS_brazil.dissolve().overlay(munisMidWE_brazil.dissolve(), how=\"union\",keep_geom_type=False).dissolve()"
   ]
  },
  {
   "cell_type": "code",
   "execution_count": null,
   "id": "f083eed4-13d4-4c84-9ca4-692cc073d276",
   "metadata": {},
   "outputs": [],
   "source": [
    "munisMidNS_brazil.dissolve().overlay(munisMidWE_brazil.dissolve(), how=\"union\",keep_geom_type=False).dissolve().plot()"
   ]
  },
  {
   "cell_type": "markdown",
   "id": "2741107f-24c9-4dd0-bdd9-910a3666b61d",
   "metadata": {},
   "source": [
    "Let me create an object to save the previous result:"
   ]
  },
  {
   "cell_type": "code",
   "execution_count": null,
   "id": "cc7b3bca-13b5-4bae-a431-3a23811f1a73",
   "metadata": {},
   "outputs": [],
   "source": [
    "muniMidBrazil=munisMidNS_brazil.dissolve().overlay(munisMidWE_brazil.dissolve(), how=\"union\",keep_geom_type=False).dissolve()\n",
    "muniMidBrazil"
   ]
  },
  {
   "cell_type": "code",
   "execution_count": null,
   "id": "df9d6897-4e84-4b6b-8a76-398b19985d49",
   "metadata": {},
   "outputs": [],
   "source": [
    "# some cleaning\n",
    "\n",
    "muniMidBrazil['zone']='middles'\n",
    "muniMidBrazil=muniMidBrazil.loc[:,['ADM0_EN_1_1','zone','geometry']]   \n",
    "muniMidBrazil"
   ]
  },
  {
   "cell_type": "markdown",
   "id": "bd80963c-3d9e-4708-af62-6d19149a6a4b",
   "metadata": {},
   "source": [
    "### Difference\n",
    "\n",
    "Here, you keep what belongs to the GeoDF to left that is not in the GeoDF to the right:"
   ]
  },
  {
   "cell_type": "code",
   "execution_count": null,
   "id": "667a9eeb-dadb-4fcf-9c67-23ce0f6da08a",
   "metadata": {},
   "outputs": [],
   "source": [
    "# with the municipalities\n",
    "brazil_municipalities.overlay(muniMidBrazil, how='difference').plot()"
   ]
  },
  {
   "cell_type": "code",
   "execution_count": null,
   "id": "f0249b4f-c5df-4b9f-9581-1b9ddeb4f83c",
   "metadata": {},
   "outputs": [],
   "source": [
    "# with the zones\n",
    "Brazil_topLeft.overlay(muniMidBrazil, how='difference').plot()"
   ]
  },
  {
   "cell_type": "markdown",
   "id": "8170b033-0707-43e8-b4ee-dca39e46f17a",
   "metadata": {},
   "source": [
    "### Symmetric Difference"
   ]
  },
  {
   "cell_type": "markdown",
   "id": "5f2728ec-f142-47a9-8de2-a65fef18680f",
   "metadata": {},
   "source": [
    "This is the opposite to *intersection*, you keep what is not in the intersection:"
   ]
  },
  {
   "cell_type": "code",
   "execution_count": null,
   "id": "1a3e81f0-3f80-4a88-98c7-5f6611c50cfe",
   "metadata": {},
   "outputs": [],
   "source": [
    "MunisN_brazil.overlay(MunisS_brazil, how=\"symmetric_difference\",keep_geom_type=False).plot()"
   ]
  },
  {
   "cell_type": "code",
   "execution_count": null,
   "id": "a634707c-71d2-4e04-905d-e6cf23fa5cdf",
   "metadata": {},
   "outputs": [],
   "source": [
    "MunisW_brazil.overlay(MunisE_brazil, how=\"symmetric_difference\",keep_geom_type=False).plot()"
   ]
  },
  {
   "cell_type": "markdown",
   "id": "1c7274fc-0397-4f36-aef8-7fab2f6fc65a",
   "metadata": {},
   "source": [
    "### Exercise 6 \n",
    "\n",
    "<div class=\"alert-success\">\n",
    "\n",
    "1. Apply two of these operations to your maps.\n",
    "2. Apply two of these operations to these  maps.\n",
    "        \n",
    "</div>"
   ]
  },
  {
   "cell_type": "code",
   "execution_count": null,
   "id": "04d400c9-7614-4022-8861-a061373b08c0",
   "metadata": {},
   "outputs": [],
   "source": [
    "# hulls for the mid size airports:\n",
    "Brazil_AirTopLeft_hull=Brazil_AirTopLeft.dissolve().convex_hull\n",
    "Brazil_AirTopRight_hull=Brazil_AirTopRight.dissolve().convex_hull\n",
    "Brazil_AirBottomLeft_hull=Brazil_AirBottomLeft.dissolve().convex_hull\n",
    "Brazil_AirBottomRight_hull=Brazil_AirBottomRight.dissolve().convex_hull"
   ]
  },
  {
   "cell_type": "code",
   "execution_count": null,
   "id": "e6e2be5b-7cc8-47e4-803f-fec8601a8fd6",
   "metadata": {},
   "outputs": [],
   "source": [
    "base = brazil.plot(color='white', edgecolor='black') #unprojected\n",
    "muniMidBrazil.plot(ax=base,facecolor='magenta',alpha=0.4) #unprojected\n",
    "LargeAirport_hull.plot(ax=base,facecolor='purple',alpha=0.4)\n",
    "Brazil_AirTopLeft_hull.plot(ax=base,facecolor='grey', alpha=0.4)\n",
    "Brazil_AirTopRight_hull.plot(ax=base,facecolor='orange', alpha=0.4)\n",
    "Brazil_AirBottomLeft_hull.plot(ax=base,facecolor='green', alpha=0.4)\n",
    "Brazil_AirBottomRight_hull.plot(ax=base,facecolor='red', alpha=0.4)"
   ]
  },
  {
   "cell_type": "markdown",
   "id": "7caa0e58",
   "metadata": {},
   "source": [
    "<a class=\"anchor\" id=\"4\"></a>\n",
    "\n",
    "## Validity of Geometry\n",
    "\n",
    "Geometries are created in a way that some issues may appear, especially in (multi) polygons.\n",
    "Let's check if our recent maps on states and municipalities are valid:"
   ]
  },
  {
   "cell_type": "code",
   "execution_count": null,
   "id": "3a27c1ca",
   "metadata": {},
   "outputs": [],
   "source": [
    "# non valid\n",
    "brazil_municipalities[~brazil_municipalities.is_valid]"
   ]
  },
  {
   "cell_type": "code",
   "execution_count": null,
   "id": "ee29926a",
   "metadata": {},
   "outputs": [],
   "source": [
    "# see the invalid:\n",
    "brazil_municipalities[~brazil_municipalities.is_valid].plot()"
   ]
  },
  {
   "cell_type": "markdown",
   "id": "735abaa5",
   "metadata": {},
   "source": [
    "It is difficult to see what is wrong. Let's get some information:"
   ]
  },
  {
   "cell_type": "code",
   "execution_count": null,
   "id": "7c6591e0",
   "metadata": {},
   "outputs": [],
   "source": [
    "# what is wrong?\n",
    "\n",
    "from shapely.validation import explain_validity, make_valid\n",
    "\n",
    "explain_validity(brazil_municipalities[~brazil_municipalities.is_valid].geometry)"
   ]
  },
  {
   "cell_type": "code",
   "execution_count": null,
   "id": "6d90a783",
   "metadata": {},
   "outputs": [],
   "source": [
    "# varieties?\n",
    "brazil_municipalities['validity']=[x.split('[')[0] for x in brazil_municipalities.geometry.apply(lambda x: explain_validity(x))]\n",
    "brazil_municipalities['validity'].value_counts()"
   ]
  },
  {
   "cell_type": "code",
   "execution_count": null,
   "id": "d69f261b",
   "metadata": {},
   "outputs": [],
   "source": [
    "# solving the issue:\n",
    "brazil_municipalities.drop(columns=['validity'],inplace=True)\n",
    "\n",
    "brazil_municipalities_valid=brazil_municipalities.copy()\n",
    "\n",
    "brazil_municipalities_valid['geometry'] = [make_valid(row)  if not row.is_valid else row for row in brazil_municipalities_valid['geometry'] ]\n",
    "#any invalid?\n",
    "brazil_municipalities_valid[~brazil_municipalities_valid.is_valid]"
   ]
  },
  {
   "cell_type": "markdown",
   "id": "cfa45bcf",
   "metadata": {},
   "source": [
    "The _solution_ we got may help for some advanced techniques, but may also give us some extra trouble. Notice that once geopandas solved the problem, you  have created **collections**:"
   ]
  },
  {
   "cell_type": "code",
   "execution_count": null,
   "id": "bd3b43b7",
   "metadata": {},
   "outputs": [],
   "source": [
    "[x for x in brazil_municipalities_valid[\"geometry\"]]"
   ]
  },
  {
   "cell_type": "code",
   "execution_count": null,
   "id": "c072a9dc-411c-4d7d-a94b-0c2f2de9cf97",
   "metadata": {},
   "outputs": [],
   "source": [
    "pd.Series([type(x) for x in brazil_municipalities_valid.geometry]).value_counts()"
   ]
  },
  {
   "cell_type": "code",
   "execution_count": null,
   "id": "b4dafc6d-13af-4eac-a90a-6167fed25cb3",
   "metadata": {},
   "outputs": [],
   "source": [
    "brazil.to_file(os.path.join(\"maps\",\"brazilMaps_5641_all.gpkg\"),layer='country', driver=\"GPKG\")\n",
    "brazil_cities.to_file(os.path.join(\"maps\",\"brazilMaps_5641_all.gpkg\"),layer='cities', driver=\"GPKG\")\n",
    "brazil_rivers.to_file(os.path.join(\"maps\",\"brazilMaps_5641_all.gpkg\"),layer='rivers', driver=\"GPKG\")\n",
    "airports.to_file(os.path.join(\"maps\",\"brazilMaps_5641_all.gpkg\"),layer='airports', driver=\"GPKG\")\n",
    "brazil_border.to_file(os.path.join(\"maps\",\"brazilMaps_5641_all.gpkg\"), layer='border', driver=\"GPKG\")\n",
    "brazil_states.to_file(os.path.join(\"maps\",\"brazilMaps_5641_all.gpkg\"), layer='states', driver=\"GPKG\")\n",
    "brazil_municipalities.to_file(os.path.join(\"maps\",\"brazilMaps_5641_all.gpkg\"), layer='municipalities', driver=\"GPKG\")"
   ]
  }
 ],
 "metadata": {
  "anaconda-cloud": {
   "attach-environment": true,
   "summary": "test"
  },
  "hide_input": false,
  "jupytext": {
   "cell_metadata_filter": "-all",
   "notebook_metadata_filter": "-all"
  },
  "kernelspec": {
   "display_name": "Python 3 (ipykernel)",
   "language": "python",
   "name": "python3"
  },
  "language_info": {
   "codemirror_mode": {
    "name": "ipython",
    "version": 3
   },
   "file_extension": ".py",
   "mimetype": "text/x-python",
   "name": "python",
   "nbconvert_exporter": "python",
   "pygments_lexer": "ipython3",
   "version": "3.11.5"
  },
  "toc-autonumbering": false
 },
 "nbformat": 4,
 "nbformat_minor": 5
}
