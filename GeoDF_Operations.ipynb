{
 "cells": [
  {
   "cell_type": "markdown",
   "id": "f8746832",
   "metadata": {},
   "source": [
    "<center><img src=\"https://i.imgur.com/zRrFdsf.png\" width=\"700\"></center>\n",
    "\n"
   ]
  },
  {
   "cell_type": "markdown",
   "id": "af76d2a2",
   "metadata": {},
   "source": [
    "<a target=\"_blank\" href=\"https://colab.research.google.com/github/CienciaDeDatosEspacial/GeoDataFrame_SpatialOperation/blob/main/GeoDF_Operations.ipynb\">\n",
    "  <img src=\"https://colab.research.google.com/assets/colab-badge.svg\" alt=\"Open In Colab\"/>\n",
    "</a>\n",
    "\n",
    "# Basic spatial operations in  Geo Dataframes\n",
    "\n",
    "We will review some important operations for geodataframes. As usual, let's do this: \n",
    "\n",
    "1. Create a repository named: **geodf_operations**.\n",
    "2. Clone that repo to a local folder in your computer.\n",
    "3. In that local folder in your computer, create a folder named **maps** and **data**.\n",
    "4. Download the shapefile of \"Brazil - Subnational Administrative Boundaries\"(bra_adm_ibge_2020_SHP.zip) from [here](https://data.humdata.org/dataset/cod-ab-bra) and save it in the maps folder (you need to unzip the file).\n",
    "5. Download a **CSV** file with information on the airports in Brazil from this [website](https://data.humdata.org/dataset/ourairports-bra), Save it in my **data** folder:\n",
    "6. Commit and push."
   ]
  },
  {
   "cell_type": "markdown",
   "id": "244a5266",
   "metadata": {},
   "source": [
    "Let's remember the contents of the world map from last session:"
   ]
  },
  {
   "cell_type": "code",
   "execution_count": 1,
   "id": "f5bcb405-dfc6-4b14-8499-d9e42805336d",
   "metadata": {},
   "outputs": [
    {
     "data": {
      "text/plain": [
       "['countries', 'rivers', 'cities', 'indicators']"
      ]
     },
     "execution_count": 1,
     "metadata": {},
     "output_type": "execute_result"
    }
   ],
   "source": [
    "linkWorldMap=\"https://github.com/CienciaDeDatosEspacial/intro_geodataframe/raw/main/maps/worldMaps.gpkg\"\n",
    "\n",
    "\n",
    "import geopandas as gpd\n",
    "from  fiona import listlayers\n",
    "listlayers(linkWorldMap)"
   ]
  },
  {
   "cell_type": "markdown",
   "id": "0ea5e97e-6d16-4803-a70e-f7d5982af275",
   "metadata": {},
   "source": [
    "Let's open all the layers"
   ]
  },
  {
   "cell_type": "code",
   "execution_count": 2,
   "id": "fad3435e-317c-49e5-ab61-ef7261c92cfe",
   "metadata": {},
   "outputs": [],
   "source": [
    "countries=gpd.read_file(linkWorldMap,layer='countries')\n",
    "rivers=gpd.read_file(linkWorldMap,layer='rivers')\n",
    "cities=gpd.read_file(linkWorldMap,layer='cities')\n",
    "indicators=gpd.read_file(linkWorldMap,layer='indicators')"
   ]
  },
  {
   "cell_type": "markdown",
   "id": "c2fc940f",
   "metadata": {},
   "source": [
    "<a class=\"anchor\" id=\"0\"></a>\n",
    "\n",
    "Now, let's see some important spatial operations:\n",
    "\n",
    "1. [Subsetting](#1)\n",
    "2. [Projections](#2)\n",
    "3. [Combining GeoDF rows](#3)\n",
    "4. [The convex hull](#4)\n",
    "5. [Spatial Overlays](#5)\n",
    "6. [Checking Validity](#6)\n",
    "\n",
    "\n"
   ]
  },
  {
   "cell_type": "markdown",
   "id": "cbba7a88-a1b1-41d1-8aff-a1f912f964a9",
   "metadata": {},
   "source": [
    "<a class=\"anchor\" id=\"1\"></a>\n",
    "\n",
    "# Subsetting\n",
    "\n",
    "## Filtering\n",
    "\n",
    "You can keep some elements by subsetting by *filtering*, as we used to do n common pandas data frames."
   ]
  },
  {
   "cell_type": "code",
   "execution_count": 3,
   "id": "4ed1361d-8624-41eb-868c-0010ed9c9475",
   "metadata": {},
   "outputs": [
    {
     "data": {
      "text/html": [
       "<div>\n",
       "<style scoped>\n",
       "    .dataframe tbody tr th:only-of-type {\n",
       "        vertical-align: middle;\n",
       "    }\n",
       "\n",
       "    .dataframe tbody tr th {\n",
       "        vertical-align: top;\n",
       "    }\n",
       "\n",
       "    .dataframe thead th {\n",
       "        text-align: right;\n",
       "    }\n",
       "</style>\n",
       "<table border=\"1\" class=\"dataframe\">\n",
       "  <thead>\n",
       "    <tr style=\"text-align: right;\">\n",
       "      <th></th>\n",
       "      <th>COUNTRY</th>\n",
       "      <th>geometry</th>\n",
       "    </tr>\n",
       "  </thead>\n",
       "  <tbody>\n",
       "    <tr>\n",
       "      <th>0</th>\n",
       "      <td>Aruba (Netherlands)</td>\n",
       "      <td>POLYGON ((-69.88223 12.41111, -69.94695 12.436...</td>\n",
       "    </tr>\n",
       "    <tr>\n",
       "      <th>1</th>\n",
       "      <td>Antigua and Barbuda</td>\n",
       "      <td>MULTIPOLYGON (((-61.73889 17.54055, -61.75195 ...</td>\n",
       "    </tr>\n",
       "    <tr>\n",
       "      <th>2</th>\n",
       "      <td>Afghanistan</td>\n",
       "      <td>POLYGON ((61.27656 35.60725, 61.29638 35.62853...</td>\n",
       "    </tr>\n",
       "    <tr>\n",
       "      <th>3</th>\n",
       "      <td>Algeria</td>\n",
       "      <td>POLYGON ((-5.15213 30.18047, -5.13917 30.19236...</td>\n",
       "    </tr>\n",
       "    <tr>\n",
       "      <th>4</th>\n",
       "      <td>Azerbaijan</td>\n",
       "      <td>MULTIPOLYGON (((46.54037 38.87559, 46.49554 38...</td>\n",
       "    </tr>\n",
       "  </tbody>\n",
       "</table>\n",
       "</div>"
      ],
      "text/plain": [
       "               COUNTRY                                           geometry\n",
       "0  Aruba (Netherlands)  POLYGON ((-69.88223 12.41111, -69.94695 12.436...\n",
       "1  Antigua and Barbuda  MULTIPOLYGON (((-61.73889 17.54055, -61.75195 ...\n",
       "2          Afghanistan  POLYGON ((61.27656 35.60725, 61.29638 35.62853...\n",
       "3              Algeria  POLYGON ((-5.15213 30.18047, -5.13917 30.19236...\n",
       "4           Azerbaijan  MULTIPOLYGON (((46.54037 38.87559, 46.49554 38..."
      ]
     },
     "execution_count": 3,
     "metadata": {},
     "output_type": "execute_result"
    }
   ],
   "source": [
    "countries.head()"
   ]
  },
  {
   "cell_type": "code",
   "execution_count": 4,
   "id": "a41ade83-f334-4d7a-ae1d-61b66e6b5b92",
   "metadata": {},
   "outputs": [
    {
     "data": {
      "text/html": [
       "<div>\n",
       "<style scoped>\n",
       "    .dataframe tbody tr th:only-of-type {\n",
       "        vertical-align: middle;\n",
       "    }\n",
       "\n",
       "    .dataframe tbody tr th {\n",
       "        vertical-align: top;\n",
       "    }\n",
       "\n",
       "    .dataframe thead th {\n",
       "        text-align: right;\n",
       "    }\n",
       "</style>\n",
       "<table border=\"1\" class=\"dataframe\">\n",
       "  <thead>\n",
       "    <tr style=\"text-align: right;\">\n",
       "      <th></th>\n",
       "      <th>COUNTRY</th>\n",
       "      <th>geometry</th>\n",
       "    </tr>\n",
       "  </thead>\n",
       "  <tbody>\n",
       "    <tr>\n",
       "      <th>50</th>\n",
       "      <td>Central African Republic</td>\n",
       "      <td>POLYGON ((20.45330 4.52379, 20.45798 4.61931, ...</td>\n",
       "    </tr>\n",
       "    <tr>\n",
       "      <th>51</th>\n",
       "      <td>Cuba</td>\n",
       "      <td>MULTIPOLYGON (((-76.94608 21.45221, -76.88390 ...</td>\n",
       "    </tr>\n",
       "    <tr>\n",
       "      <th>52</th>\n",
       "      <td>Cape Verde</td>\n",
       "      <td>MULTIPOLYGON (((-25.28139 16.91333, -25.29861 ...</td>\n",
       "    </tr>\n",
       "    <tr>\n",
       "      <th>53</th>\n",
       "      <td>Cook Islands (New Zealand)</td>\n",
       "      <td>MULTIPOLYGON (((-165.84167 -10.89084, -165.848...</td>\n",
       "    </tr>\n",
       "    <tr>\n",
       "      <th>54</th>\n",
       "      <td>Cyprus</td>\n",
       "      <td>POLYGON ((33.27229 34.70955, 33.21722 34.69944...</td>\n",
       "    </tr>\n",
       "    <tr>\n",
       "      <th>...</th>\n",
       "      <td>...</td>\n",
       "      <td>...</td>\n",
       "    </tr>\n",
       "    <tr>\n",
       "      <th>247</th>\n",
       "      <td>South Sudan</td>\n",
       "      <td>POLYGON ((34.21807 9.96458, 34.20722 9.90500, ...</td>\n",
       "    </tr>\n",
       "    <tr>\n",
       "      <th>248</th>\n",
       "      <td>Indonesia</td>\n",
       "      <td>MULTIPOLYGON (((123.21846 -10.80917, 123.19832...</td>\n",
       "    </tr>\n",
       "    <tr>\n",
       "      <th>249</th>\n",
       "      <td>East Timor</td>\n",
       "      <td>MULTIPOLYGON (((124.41824 -9.30010, 124.40446 ...</td>\n",
       "    </tr>\n",
       "    <tr>\n",
       "      <th>250</th>\n",
       "      <td>Curacao (Netherlands)</td>\n",
       "      <td>POLYGON ((-68.96556 12.19889, -68.91196 12.181...</td>\n",
       "    </tr>\n",
       "    <tr>\n",
       "      <th>251</th>\n",
       "      <td>Bonaire (Netherlands)</td>\n",
       "      <td>POLYGON ((-68.19736 12.22264, -68.19292 12.207...</td>\n",
       "    </tr>\n",
       "  </tbody>\n",
       "</table>\n",
       "<p>202 rows × 2 columns</p>\n",
       "</div>"
      ],
      "text/plain": [
       "                        COUNTRY  \\\n",
       "50     Central African Republic   \n",
       "51                         Cuba   \n",
       "52                   Cape Verde   \n",
       "53   Cook Islands (New Zealand)   \n",
       "54                       Cyprus   \n",
       "..                          ...   \n",
       "247                 South Sudan   \n",
       "248                   Indonesia   \n",
       "249                  East Timor   \n",
       "250       Curacao (Netherlands)   \n",
       "251       Bonaire (Netherlands)   \n",
       "\n",
       "                                              geometry  \n",
       "50   POLYGON ((20.45330 4.52379, 20.45798 4.61931, ...  \n",
       "51   MULTIPOLYGON (((-76.94608 21.45221, -76.88390 ...  \n",
       "52   MULTIPOLYGON (((-25.28139 16.91333, -25.29861 ...  \n",
       "53   MULTIPOLYGON (((-165.84167 -10.89084, -165.848...  \n",
       "54   POLYGON ((33.27229 34.70955, 33.21722 34.69944...  \n",
       "..                                                 ...  \n",
       "247  POLYGON ((34.21807 9.96458, 34.20722 9.90500, ...  \n",
       "248  MULTIPOLYGON (((123.21846 -10.80917, 123.19832...  \n",
       "249  MULTIPOLYGON (((124.41824 -9.30010, 124.40446 ...  \n",
       "250  POLYGON ((-68.96556 12.19889, -68.91196 12.181...  \n",
       "251  POLYGON ((-68.19736 12.22264, -68.19292 12.207...  \n",
       "\n",
       "[202 rows x 2 columns]"
      ]
     },
     "execution_count": 4,
     "metadata": {},
     "output_type": "execute_result"
    }
   ],
   "source": [
    "# as DF\n",
    "countries.iloc[50:,]"
   ]
  },
  {
   "cell_type": "code",
   "execution_count": 5,
   "id": "17e5a1bf-ee01-41b0-81f4-bfbc4657857c",
   "metadata": {},
   "outputs": [
    {
     "data": {
      "text/plain": [
       "50     POLYGON ((20.45330 4.52379, 20.45798 4.61931, ...\n",
       "51     MULTIPOLYGON (((-76.94608 21.45221, -76.88390 ...\n",
       "52     MULTIPOLYGON (((-25.28139 16.91333, -25.29861 ...\n",
       "53     MULTIPOLYGON (((-165.84167 -10.89084, -165.848...\n",
       "54     POLYGON ((33.27229 34.70955, 33.21722 34.69944...\n",
       "                             ...                        \n",
       "247    POLYGON ((34.21807 9.96458, 34.20722 9.90500, ...\n",
       "248    MULTIPOLYGON (((123.21846 -10.80917, 123.19832...\n",
       "249    MULTIPOLYGON (((124.41824 -9.30010, 124.40446 ...\n",
       "250    POLYGON ((-68.96556 12.19889, -68.91196 12.181...\n",
       "251    POLYGON ((-68.19736 12.22264, -68.19292 12.207...\n",
       "Name: geometry, Length: 202, dtype: geometry"
      ]
     },
     "execution_count": 5,
     "metadata": {},
     "output_type": "execute_result"
    }
   ],
   "source": [
    "# as DF\n",
    "countries.loc[50:,'geometry']"
   ]
  },
  {
   "cell_type": "markdown",
   "id": "6a3dfc54-46a0-4531-998c-3f11c9735fec",
   "metadata": {},
   "source": [
    "But as a GeDF, you can also filter using a coordinate point via __cx__. Let me get the bounding box of the map:"
   ]
  },
  {
   "cell_type": "code",
   "execution_count": 6,
   "id": "80f8a267-da8a-4831-be2b-7d83bac3c595",
   "metadata": {},
   "outputs": [
    {
     "data": {
      "text/plain": [
       "array([-180.        ,  -90.        ,  180.        ,   83.62359619])"
      ]
     },
     "execution_count": 6,
     "metadata": {},
     "output_type": "execute_result"
    }
   ],
   "source": [
    "countries.total_bounds"
   ]
  },
  {
   "cell_type": "markdown",
   "id": "66a83e6d-4073-44fc-8e07-b1ddabc5582a",
   "metadata": {},
   "source": [
    "As you are getting __[minx, miny, maxx, maxy]__ let me select a valid coordinate, i.e. (0,0)"
   ]
  },
  {
   "cell_type": "code",
   "execution_count": 7,
   "id": "50632acb-1595-4207-927c-ee9b4d030b83",
   "metadata": {},
   "outputs": [
    {
     "data": {
      "text/html": [
       "<div>\n",
       "<style scoped>\n",
       "    .dataframe tbody tr th:only-of-type {\n",
       "        vertical-align: middle;\n",
       "    }\n",
       "\n",
       "    .dataframe tbody tr th {\n",
       "        vertical-align: top;\n",
       "    }\n",
       "\n",
       "    .dataframe thead th {\n",
       "        text-align: right;\n",
       "    }\n",
       "</style>\n",
       "<table border=\"1\" class=\"dataframe\">\n",
       "  <thead>\n",
       "    <tr style=\"text-align: right;\">\n",
       "      <th></th>\n",
       "      <th>COUNTRY</th>\n",
       "      <th>geometry</th>\n",
       "    </tr>\n",
       "  </thead>\n",
       "  <tbody>\n",
       "    <tr>\n",
       "      <th>9</th>\n",
       "      <td>American Samoa (US)</td>\n",
       "      <td>POLYGON ((-170.74390 -14.37556, -170.74942 -14...</td>\n",
       "    </tr>\n",
       "    <tr>\n",
       "      <th>10</th>\n",
       "      <td>Argentina</td>\n",
       "      <td>MULTIPOLYGON (((-71.01648 -36.47591, -70.98195...</td>\n",
       "    </tr>\n",
       "    <tr>\n",
       "      <th>14</th>\n",
       "      <td>Antarctica</td>\n",
       "      <td>MULTIPOLYGON (((-45.14528 -60.76611, -45.15639...</td>\n",
       "    </tr>\n",
       "    <tr>\n",
       "      <th>24</th>\n",
       "      <td>Bolivia</td>\n",
       "      <td>POLYGON ((-62.19884 -20.47139, -62.26945 -20.5...</td>\n",
       "    </tr>\n",
       "    <tr>\n",
       "      <th>29</th>\n",
       "      <td>Brazil</td>\n",
       "      <td>MULTIPOLYGON (((-70.62862 -9.94849, -70.62889 ...</td>\n",
       "    </tr>\n",
       "    <tr>\n",
       "      <th>42</th>\n",
       "      <td>Chile</td>\n",
       "      <td>MULTIPOLYGON (((-73.61806 -51.63390, -73.60494...</td>\n",
       "    </tr>\n",
       "    <tr>\n",
       "      <th>47</th>\n",
       "      <td>Colombia</td>\n",
       "      <td>MULTIPOLYGON (((-81.71306 12.49028, -81.72014 ...</td>\n",
       "    </tr>\n",
       "    <tr>\n",
       "      <th>53</th>\n",
       "      <td>Cook Islands (New Zealand)</td>\n",
       "      <td>MULTIPOLYGON (((-165.84167 -10.89084, -165.848...</td>\n",
       "    </tr>\n",
       "    <tr>\n",
       "      <th>58</th>\n",
       "      <td>Jarvis Island (US)</td>\n",
       "      <td>POLYGON ((-160.02115 -0.39806, -160.02811 -0.3...</td>\n",
       "    </tr>\n",
       "    <tr>\n",
       "      <th>60</th>\n",
       "      <td>Ecuador</td>\n",
       "      <td>MULTIPOLYGON (((-78.70903 -4.58479, -78.72348 ...</td>\n",
       "    </tr>\n",
       "    <tr>\n",
       "      <th>71</th>\n",
       "      <td>Fiji</td>\n",
       "      <td>MULTIPOLYGON (((180.00000 -16.17274, 179.98621...</td>\n",
       "    </tr>\n",
       "    <tr>\n",
       "      <th>72</th>\n",
       "      <td>Falkland Islands (UK)</td>\n",
       "      <td>MULTIPOLYGON (((-59.79139 -51.24945, -59.73195...</td>\n",
       "    </tr>\n",
       "    <tr>\n",
       "      <th>75</th>\n",
       "      <td>French Polynesia (France)</td>\n",
       "      <td>MULTIPOLYGON (((-140.17783 -8.95639, -140.1894...</td>\n",
       "    </tr>\n",
       "    <tr>\n",
       "      <th>158</th>\n",
       "      <td>Niue (New Zealand)</td>\n",
       "      <td>POLYGON ((-169.89389 -19.14556, -169.93088 -19...</td>\n",
       "    </tr>\n",
       "    <tr>\n",
       "      <th>169</th>\n",
       "      <td>New Zealand</td>\n",
       "      <td>MULTIPOLYGON (((177.91779 -38.94280, 177.90970...</td>\n",
       "    </tr>\n",
       "    <tr>\n",
       "      <th>170</th>\n",
       "      <td>Paraguay</td>\n",
       "      <td>POLYGON ((-57.67267 -25.29430, -57.70639 -25.2...</td>\n",
       "    </tr>\n",
       "    <tr>\n",
       "      <th>171</th>\n",
       "      <td>Pitcairn Islands (UK)</td>\n",
       "      <td>MULTIPOLYGON (((-128.33221 -24.32727, -128.326...</td>\n",
       "    </tr>\n",
       "    <tr>\n",
       "      <th>172</th>\n",
       "      <td>Peru</td>\n",
       "      <td>POLYGON ((-69.56750 -10.95056, -69.56844 -10.9...</td>\n",
       "    </tr>\n",
       "    <tr>\n",
       "      <th>196</th>\n",
       "      <td>St. Helena (UK)</td>\n",
       "      <td>POLYGON ((-5.71298 -15.99286, -5.72917 -16.005...</td>\n",
       "    </tr>\n",
       "    <tr>\n",
       "      <th>208</th>\n",
       "      <td>South Georgia and the South Sandwich Is (UK)</td>\n",
       "      <td>MULTIPOLYGON (((-36.99139 -54.35056, -36.99973...</td>\n",
       "    </tr>\n",
       "    <tr>\n",
       "      <th>216</th>\n",
       "      <td>Tokelau (New Zealand)</td>\n",
       "      <td>POLYGON ((-171.84805 -9.21889, -171.85886 -9.2...</td>\n",
       "    </tr>\n",
       "    <tr>\n",
       "      <th>217</th>\n",
       "      <td>Tonga</td>\n",
       "      <td>MULTIPOLYGON (((-173.93921 -18.56889, -173.933...</td>\n",
       "    </tr>\n",
       "    <tr>\n",
       "      <th>231</th>\n",
       "      <td>Uruguay</td>\n",
       "      <td>POLYGON ((-58.38889 -33.42250, -58.41590 -33.4...</td>\n",
       "    </tr>\n",
       "    <tr>\n",
       "      <th>239</th>\n",
       "      <td>Wallis and Futuna (France)</td>\n",
       "      <td>MULTIPOLYGON (((-176.16504 -13.35305, -176.169...</td>\n",
       "    </tr>\n",
       "    <tr>\n",
       "      <th>242</th>\n",
       "      <td>Western Samoa</td>\n",
       "      <td>MULTIPOLYGON (((-172.59650 -13.50911, -172.551...</td>\n",
       "    </tr>\n",
       "  </tbody>\n",
       "</table>\n",
       "</div>"
      ],
      "text/plain": [
       "                                          COUNTRY  \\\n",
       "9                             American Samoa (US)   \n",
       "10                                      Argentina   \n",
       "14                                     Antarctica   \n",
       "24                                        Bolivia   \n",
       "29                                         Brazil   \n",
       "42                                          Chile   \n",
       "47                                       Colombia   \n",
       "53                     Cook Islands (New Zealand)   \n",
       "58                             Jarvis Island (US)   \n",
       "60                                        Ecuador   \n",
       "71                                           Fiji   \n",
       "72                          Falkland Islands (UK)   \n",
       "75                      French Polynesia (France)   \n",
       "158                            Niue (New Zealand)   \n",
       "169                                   New Zealand   \n",
       "170                                      Paraguay   \n",
       "171                         Pitcairn Islands (UK)   \n",
       "172                                          Peru   \n",
       "196                               St. Helena (UK)   \n",
       "208  South Georgia and the South Sandwich Is (UK)   \n",
       "216                         Tokelau (New Zealand)   \n",
       "217                                         Tonga   \n",
       "231                                       Uruguay   \n",
       "239                    Wallis and Futuna (France)   \n",
       "242                                 Western Samoa   \n",
       "\n",
       "                                              geometry  \n",
       "9    POLYGON ((-170.74390 -14.37556, -170.74942 -14...  \n",
       "10   MULTIPOLYGON (((-71.01648 -36.47591, -70.98195...  \n",
       "14   MULTIPOLYGON (((-45.14528 -60.76611, -45.15639...  \n",
       "24   POLYGON ((-62.19884 -20.47139, -62.26945 -20.5...  \n",
       "29   MULTIPOLYGON (((-70.62862 -9.94849, -70.62889 ...  \n",
       "42   MULTIPOLYGON (((-73.61806 -51.63390, -73.60494...  \n",
       "47   MULTIPOLYGON (((-81.71306 12.49028, -81.72014 ...  \n",
       "53   MULTIPOLYGON (((-165.84167 -10.89084, -165.848...  \n",
       "58   POLYGON ((-160.02115 -0.39806, -160.02811 -0.3...  \n",
       "60   MULTIPOLYGON (((-78.70903 -4.58479, -78.72348 ...  \n",
       "71   MULTIPOLYGON (((180.00000 -16.17274, 179.98621...  \n",
       "72   MULTIPOLYGON (((-59.79139 -51.24945, -59.73195...  \n",
       "75   MULTIPOLYGON (((-140.17783 -8.95639, -140.1894...  \n",
       "158  POLYGON ((-169.89389 -19.14556, -169.93088 -19...  \n",
       "169  MULTIPOLYGON (((177.91779 -38.94280, 177.90970...  \n",
       "170  POLYGON ((-57.67267 -25.29430, -57.70639 -25.2...  \n",
       "171  MULTIPOLYGON (((-128.33221 -24.32727, -128.326...  \n",
       "172  POLYGON ((-69.56750 -10.95056, -69.56844 -10.9...  \n",
       "196  POLYGON ((-5.71298 -15.99286, -5.72917 -16.005...  \n",
       "208  MULTIPOLYGON (((-36.99139 -54.35056, -36.99973...  \n",
       "216  POLYGON ((-171.84805 -9.21889, -171.85886 -9.2...  \n",
       "217  MULTIPOLYGON (((-173.93921 -18.56889, -173.933...  \n",
       "231  POLYGON ((-58.38889 -33.42250, -58.41590 -33.4...  \n",
       "239  MULTIPOLYGON (((-176.16504 -13.35305, -176.169...  \n",
       "242  MULTIPOLYGON (((-172.59650 -13.50911, -172.551...  "
      ]
     },
     "execution_count": 7,
     "metadata": {},
     "output_type": "execute_result"
    }
   ],
   "source": [
    "countries.cx[:0,:0]"
   ]
  },
  {
   "cell_type": "code",
   "execution_count": 8,
   "id": "27d0e4a1-8798-45ff-b122-e81b4f613100",
   "metadata": {},
   "outputs": [
    {
     "data": {
      "text/plain": [
       "<Axes: >"
      ]
     },
     "execution_count": 8,
     "metadata": {},
     "output_type": "execute_result"
    },
    {
     "data": {
      "image/png": "[encoded data removed]",
      "text/plain": [
       "<Figure size 640x480 with 1 Axes>"
      ]
     },
     "metadata": {},
     "output_type": "display_data"
    }
   ],
   "source": [
    "#then\n",
    "countries.cx[:0,:0].plot()"
   ]
  },
  {
   "cell_type": "markdown",
   "id": "1c44c596-e798-44d7-ba22-e24c00ae5044",
   "metadata": {},
   "source": [
    "Notice __cx__ would be cleaner if spatial element is a point."
   ]
  },
  {
   "cell_type": "markdown",
   "id": "5b602bc2-9264-46ac-8b8a-b3a71514096e",
   "metadata": {},
   "source": [
    "Let me keep one country:"
   ]
  },
  {
   "cell_type": "code",
   "execution_count": 9,
   "id": "fa3fd88c-b4ee-42c2-8d79-5c4855534877",
   "metadata": {},
   "outputs": [],
   "source": [
    "brazil=countries[countries.COUNTRY=='Brazil']"
   ]
  },
  {
   "cell_type": "markdown",
   "id": "be643505-1c8f-435c-b3ca-150aee9c4b3b",
   "metadata": {},
   "source": [
    "## Clipping"
   ]
  },
  {
   "cell_type": "markdown",
   "id": "01e11a63-f60d-46b7-90b3-29f8e554227f",
   "metadata": {},
   "source": [
    "But you can also subset by *clipping*, as sometimes other data frames may not have the same fields for filtering:"
   ]
  },
  {
   "cell_type": "code",
   "execution_count": 10,
   "id": "39f32061-01f8-4459-ab57-b2e311838aba",
   "metadata": {},
   "outputs": [],
   "source": [
    "citiesBrazil_clipped = gpd.clip(gdf=cities,\n",
    "                          mask=brazil)\n",
    "riversBrazil_clipped = gpd.clip(gdf=rivers,\n",
    "                               mask=brazil)"
   ]
  },
  {
   "cell_type": "markdown",
   "id": "59424b3b-f335-47dd-8496-c4a7a5b7ee72",
   "metadata": {},
   "source": [
    "Then, you can plot the clipped version:"
   ]
  },
  {
   "cell_type": "code",
   "execution_count": 11,
   "id": "4cc43012-dcc3-45b3-b31e-35bcb26cab94",
   "metadata": {},
   "outputs": [
    {
     "data": {
      "text/plain": [
       "<Axes: >"
      ]
     },
     "execution_count": 11,
     "metadata": {},
     "output_type": "execute_result"
    },
    {
     "data": {
      "image/png": "[encoded data removed]",
      "text/plain": [
       "<Figure size 500x500 with 1 Axes>"
      ]
     },
     "metadata": {},
     "output_type": "display_data"
    }
   ],
   "source": [
    "base = brazil.plot(facecolor=\"greenyellow\", edgecolor='black', linewidth=0.4,figsize=(5,5))\n",
    "citiesBrazil_clipped.plot(marker='+', color='red', markersize=15,\n",
    "                    ax=base)\n",
    "riversBrazil_clipped.plot(edgecolor='blue', linewidth=0.5,\n",
    "                    ax=base)"
   ]
  },
  {
   "cell_type": "markdown",
   "id": "a565103c-95a1-4adc-be79-99cf98d5d57b",
   "metadata": {},
   "source": [
    "The geometry types are not modified:"
   ]
  },
  {
   "cell_type": "code",
   "execution_count": 12,
   "id": "0180a0cd-311b-43e4-a68a-2fe82f46b4a0",
   "metadata": {},
   "outputs": [
    {
     "data": {
      "text/plain": [
       "({'MultiPolygon'}, {'Point'}, {'LineString', 'MultiLineString'})"
      ]
     },
     "execution_count": 12,
     "metadata": {},
     "output_type": "execute_result"
    }
   ],
   "source": [
    "set(brazil.geom_type), set(citiesBrazil_clipped.geom_type), set(riversBrazil_clipped.geom_type)"
   ]
  },
  {
   "cell_type": "markdown",
   "id": "0e992714-f1b7-4305-891d-e964368fa144",
   "metadata": {},
   "source": [
    "### Exercise 1\n",
    "<div class=\"alert-success\">\n",
    "\n",
    "1. Follow the same steps in this last section to plot three maps of one country. Do not use Brazil.\n",
    "2. Plot your three layers.\n",
    "    \n",
    "</div>"
   ]
  },
  {
   "cell_type": "markdown",
   "id": "acfb54f3-247c-4a37-a049-7fdbba2653d4",
   "metadata": {},
   "source": [
    "[TOC](#0)\n",
    "_____________\n",
    "\n",
    "<a class=\"anchor\" id=\"2\"></a>\n",
    "\n",
    "# Map Projection\n",
    "\n",
    "The CRS is a very important property of the maps. They affect three some aspects:\n",
    "\n",
    "* shape\n",
    "* area\n",
    "* scale\n",
    "* direction\n",
    "\n",
    "Most maps come with a default CRS: 4326. Pay attention:"
   ]
  },
  {
   "cell_type": "code",
   "execution_count": 13,
   "id": "032135e2-edb7-42fd-908e-8873d3e6683e",
   "metadata": {},
   "outputs": [
    {
     "data": {
      "text/plain": [
       "<Geographic 2D CRS: EPSG:4326>\n",
       "Name: WGS 84\n",
       "Axis Info [ellipsoidal]:\n",
       "- Lat[north]: Geodetic latitude (degree)\n",
       "- Lon[east]: Geodetic longitude (degree)\n",
       "Area of Use:\n",
       "- name: World.\n",
       "- bounds: (-180.0, -90.0, 180.0, 90.0)\n",
       "Datum: World Geodetic System 1984 ensemble\n",
       "- Ellipsoid: WGS 84\n",
       "- Prime Meridian: Greenwich"
      ]
     },
     "execution_count": 13,
     "metadata": {},
     "output_type": "execute_result"
    }
   ],
   "source": [
    "brazil.crs"
   ]
  },
  {
   "cell_type": "code",
   "execution_count": 14,
   "id": "d6125ed3-d5da-46ed-b530-532a30ec35f8",
   "metadata": {},
   "outputs": [
    {
     "data": {
      "text/plain": [
       "[Axis(name=Geodetic latitude, abbrev=Lat, direction=north, unit_auth_code=EPSG, unit_code=9122, unit_name=degree),\n",
       " Axis(name=Geodetic longitude, abbrev=Lon, direction=east, unit_auth_code=EPSG, unit_code=9122, unit_name=degree)]"
      ]
     },
     "execution_count": 14,
     "metadata": {},
     "output_type": "execute_result"
    }
   ],
   "source": [
    "# check units of measurement\n",
    "brazil.crs.axis_info"
   ]
  },
  {
   "cell_type": "code",
   "execution_count": 15,
   "id": "7b4fa59a-25e3-4ef2-8b2e-9e868d92c5a1",
   "metadata": {},
   "outputs": [
    {
     "data": {
      "text/plain": [
       "False"
      ]
     },
     "execution_count": 15,
     "metadata": {},
     "output_type": "execute_result"
    }
   ],
   "source": [
    "# is this CRS projected?\n",
    "brazil.crs.is_projected"
   ]
  },
  {
   "cell_type": "markdown",
   "id": "2005d64e-0437-4b66-8f93-e170ffe5f1d1",
   "metadata": {},
   "source": [
    "Polygons have a centroid. When we try getting a centroid from an **unprojected** polygon, you get:"
   ]
  },
  {
   "cell_type": "code",
   "execution_count": 16,
   "id": "d1dde3fd-bfcb-4004-89fa-2c9bb3f8d784",
   "metadata": {},
   "outputs": [
    {
     "name": "stderr",
     "output_type": "stream",
     "text": [
      "/var/folders/2n/bkfhfqq16r78g3hf7pdj56y40000gn/T/ipykernel_94039/515368123.py:2: UserWarning: Geometry is in a geographic CRS. Results from 'centroid' are likely incorrect. Use 'GeoSeries.to_crs()' to re-project geometries to a projected CRS before this operation.\n",
      "\n",
      "  brazil.centroid\n"
     ]
    },
    {
     "data": {
      "text/plain": [
       "29    POINT (-53.09009 -10.77302)\n",
       "dtype: geometry"
      ]
     },
     "execution_count": 16,
     "metadata": {},
     "output_type": "execute_result"
    }
   ],
   "source": [
    "# centroid\n",
    "brazil.centroid"
   ]
  },
  {
   "cell_type": "markdown",
   "id": "a182ba5b-fb0a-4c43-beeb-0a6c2a4fcfc8",
   "metadata": {},
   "source": [
    "## Reprojecting\n",
    "\n",
    "A projected CRS will have units in meters or feet (or similar). You can request a crs per country [here](https://epsg.io/?q=brazil+kind%3APROJCRS):"
   ]
  },
  {
   "cell_type": "code",
   "execution_count": 17,
   "id": "8c63293a-d9a0-4869-a7e8-7fbe2f4bbb59",
   "metadata": {},
   "outputs": [
    {
     "data": {
      "text/plain": [
       "[Axis(name=Easting, abbrev=X, direction=east, unit_auth_code=EPSG, unit_code=9001, unit_name=metre),\n",
       " Axis(name=Northing, abbrev=Y, direction=north, unit_auth_code=EPSG, unit_code=9001, unit_name=metre)]"
      ]
     },
     "execution_count": 17,
     "metadata": {},
     "output_type": "execute_result"
    }
   ],
   "source": [
    "# recommended for Brazil (meters)\n",
    "brazil.to_crs(5641).crs.axis_info"
   ]
  },
  {
   "cell_type": "code",
   "execution_count": 18,
   "id": "3c24db6e-8716-4f59-9a81-fead758b59e6",
   "metadata": {},
   "outputs": [
    {
     "data": {
      "text/plain": [
       "29    POINT (3884486.179 8756856.093)\n",
       "dtype: geometry"
      ]
     },
     "execution_count": 18,
     "metadata": {},
     "output_type": "execute_result"
    }
   ],
   "source": [
    "# now this works with no warning\n",
    "brazil.to_crs(5641).centroid"
   ]
  },
  {
   "cell_type": "code",
   "execution_count": 19,
   "id": "7c8e31a4-54d4-4c95-adb7-81b1466e9938",
   "metadata": {},
   "outputs": [
    {
     "data": {
      "text/plain": [
       "<Axes: >"
      ]
     },
     "execution_count": 19,
     "metadata": {},
     "output_type": "execute_result"
    },
    {
     "data": {
      "image/png": "[encoded data removed]",
      "text/plain": [
       "<Figure size 640x480 with 1 Axes>"
      ]
     },
     "metadata": {},
     "output_type": "display_data"
    }
   ],
   "source": [
    "# replotting:\n",
    "\n",
    "base5641=brazil.to_crs(5641).plot()\n",
    "brazil.to_crs(5641).centroid.plot(color='red',ax=base5641)"
   ]
  },
  {
   "cell_type": "markdown",
   "id": "7402b0e4-fda8-431b-ad8d-62e0c12278f6",
   "metadata": {},
   "source": [
    "Let's keep the projected version for all our maps:"
   ]
  },
  {
   "cell_type": "code",
   "execution_count": 20,
   "id": "71d42ed2-f296-480a-b603-7213575761c6",
   "metadata": {},
   "outputs": [],
   "source": [
    "brazil_5641=brazil.to_crs(5641)\n",
    "cities_brazil_5641=citiesBrazil_clipped.to_crs(brazil_5641.crs)\n",
    "rivers_brazil_5641=riversBrazil_clipped.to_crs(brazil_5641.crs)"
   ]
  },
  {
   "cell_type": "code",
   "execution_count": 21,
   "id": "2f54a006-ca29-43db-9942-fdfa5c38e075",
   "metadata": {},
   "outputs": [],
   "source": [
    "## saving\n",
    "\n",
    "\n",
    "import os\n",
    "\n",
    "brazil_5641.to_file(os.path.join(\"maps\",\"brazilMaps_5641.gpkg\"), layer='country', driver=\"GPKG\")\n",
    "cities_brazil_5641.to_file(os.path.join(\"maps\",\"brazilMaps_5641.gpkg\"), layer='cities', driver=\"GPKG\")\n",
    "rivers_brazil_5641.to_file(os.path.join(\"maps\",\"brazilMaps_5641.gpkg\"), layer='rivers', driver=\"GPKG\")\n",
    "brazil_5641.centroid.to_file(os.path.join(\"maps\",\"brazilMaps_5641.gpkg\"), layer='centroid', driver=\"GPKG\")"
   ]
  },
  {
   "cell_type": "markdown",
   "id": "67c0b63b-c198-4b76-8f24-68f2f4e24ccf",
   "metadata": {},
   "source": [
    "### Exercise 2\n",
    "<div class=\"alert-success\">\n",
    "\n",
    "1. Reproject your country's map layers.\n",
    "2. Plot the reprojected layers\n",
    "3. Save the reprojected layers\n",
    "    \n",
    "</div>"
   ]
  },
  {
   "cell_type": "markdown",
   "id": "57780f1f-2c19-49b4-8fbe-b3cc954a83f2",
   "metadata": {},
   "source": [
    "## Creating Spatial data\n",
    "\n",
    "You will get Lines and Polygons as maps for sure, but that may not be the case with points. Let's open the **CSV** with information on the airports in Brazil:"
   ]
  },
  {
   "cell_type": "code",
   "execution_count": 22,
   "id": "c95003f5-30f7-4941-85d1-fd2d87743c80",
   "metadata": {},
   "outputs": [
    {
     "data": {
      "text/html": [
       "<div>\n",
       "<style scoped>\n",
       "    .dataframe tbody tr th:only-of-type {\n",
       "        vertical-align: middle;\n",
       "    }\n",
       "\n",
       "    .dataframe tbody tr th {\n",
       "        vertical-align: top;\n",
       "    }\n",
       "\n",
       "    .dataframe thead th {\n",
       "        text-align: right;\n",
       "    }\n",
       "</style>\n",
       "<table border=\"1\" class=\"dataframe\">\n",
       "  <thead>\n",
       "    <tr style=\"text-align: right;\">\n",
       "      <th></th>\n",
       "      <th>id</th>\n",
       "      <th>ident</th>\n",
       "      <th>type</th>\n",
       "      <th>name</th>\n",
       "      <th>latitude_deg</th>\n",
       "      <th>longitude_deg</th>\n",
       "      <th>elevation_ft</th>\n",
       "      <th>continent</th>\n",
       "      <th>country_name</th>\n",
       "      <th>iso_country</th>\n",
       "      <th>...</th>\n",
       "      <th>municipality</th>\n",
       "      <th>scheduled_service</th>\n",
       "      <th>gps_code</th>\n",
       "      <th>iata_code</th>\n",
       "      <th>local_code</th>\n",
       "      <th>home_link</th>\n",
       "      <th>wikipedia_link</th>\n",
       "      <th>keywords</th>\n",
       "      <th>score</th>\n",
       "      <th>last_updated</th>\n",
       "    </tr>\n",
       "  </thead>\n",
       "  <tbody>\n",
       "    <tr>\n",
       "      <th>0</th>\n",
       "      <td>#meta +id</td>\n",
       "      <td>#meta +code</td>\n",
       "      <td>#loc +airport +type</td>\n",
       "      <td>#loc +airport +name</td>\n",
       "      <td>#geo +lat</td>\n",
       "      <td>#geo +lon</td>\n",
       "      <td>#geo +elevation +ft</td>\n",
       "      <td>#region +continent +code</td>\n",
       "      <td>#country +name</td>\n",
       "      <td>#country +code +iso2</td>\n",
       "      <td>...</td>\n",
       "      <td>#loc +municipality +name</td>\n",
       "      <td>#status +scheduled</td>\n",
       "      <td>#loc +airport +code +gps</td>\n",
       "      <td>#loc +airport +code +iata</td>\n",
       "      <td>#loc +airport +code +local</td>\n",
       "      <td>#meta +url +airport</td>\n",
       "      <td>#meta +url +wikipedia</td>\n",
       "      <td>#meta +keywords</td>\n",
       "      <td>#meta +score</td>\n",
       "      <td>#date +updated</td>\n",
       "    </tr>\n",
       "    <tr>\n",
       "      <th>1</th>\n",
       "      <td>5910</td>\n",
       "      <td>SBGR</td>\n",
       "      <td>large_airport</td>\n",
       "      <td>Guarulhos - Governador André Franco Montoro In...</td>\n",
       "      <td>-23.431944</td>\n",
       "      <td>-46.467778</td>\n",
       "      <td>2461</td>\n",
       "      <td>SA</td>\n",
       "      <td>Brazil</td>\n",
       "      <td>BR</td>\n",
       "      <td>...</td>\n",
       "      <td>São Paulo</td>\n",
       "      <td>1</td>\n",
       "      <td>SBGR</td>\n",
       "      <td>GRU</td>\n",
       "      <td>SP0002</td>\n",
       "      <td>http://www.aeroportoguarulhos.net/</td>\n",
       "      <td>https://en.wikipedia.org/wiki/S%C3%A3o_Paulo-G...</td>\n",
       "      <td>Cumbica</td>\n",
       "      <td>1016675</td>\n",
       "      <td>2021-10-28T15:52:55+00:00</td>\n",
       "    </tr>\n",
       "    <tr>\n",
       "      <th>2</th>\n",
       "      <td>5906</td>\n",
       "      <td>SBGL</td>\n",
       "      <td>large_airport</td>\n",
       "      <td>Rio Galeão – Tom Jobim International Airport</td>\n",
       "      <td>-22.809999</td>\n",
       "      <td>-43.250557</td>\n",
       "      <td>28</td>\n",
       "      <td>SA</td>\n",
       "      <td>Brazil</td>\n",
       "      <td>BR</td>\n",
       "      <td>...</td>\n",
       "      <td>Rio De Janeiro</td>\n",
       "      <td>1</td>\n",
       "      <td>SBGL</td>\n",
       "      <td>GIG</td>\n",
       "      <td>RJ0001</td>\n",
       "      <td>NaN</td>\n",
       "      <td>https://en.wikipedia.org/wiki/Rio_de_Janeiro-G...</td>\n",
       "      <td>Galeão - Antônio Carlos Jobim International Ai...</td>\n",
       "      <td>51475</td>\n",
       "      <td>2021-10-14T18:09:35+00:00</td>\n",
       "    </tr>\n",
       "    <tr>\n",
       "      <th>3</th>\n",
       "      <td>5974</td>\n",
       "      <td>SBSP</td>\n",
       "      <td>medium_airport</td>\n",
       "      <td>Congonhas Airport</td>\n",
       "      <td>-23.627657</td>\n",
       "      <td>-46.654601</td>\n",
       "      <td>2631</td>\n",
       "      <td>SA</td>\n",
       "      <td>Brazil</td>\n",
       "      <td>BR</td>\n",
       "      <td>...</td>\n",
       "      <td>São Paulo</td>\n",
       "      <td>1</td>\n",
       "      <td>SBSP</td>\n",
       "      <td>CGH</td>\n",
       "      <td>SP0001</td>\n",
       "      <td>http://www.infraero.gov.br/usa/aero_prev_home....</td>\n",
       "      <td>https://en.wikipedia.org/wiki/Congonhas-S%C3%A...</td>\n",
       "      <td>http://www.infraero.gov.br/usa/aero_prev_home....</td>\n",
       "      <td>750</td>\n",
       "      <td>2022-05-03T20:10:35+00:00</td>\n",
       "    </tr>\n",
       "    <tr>\n",
       "      <th>6668</th>\n",
       "      <td>309669</td>\n",
       "      <td>SSVR</td>\n",
       "      <td>closed</td>\n",
       "      <td>Volta Redonda Airport</td>\n",
       "      <td>-22.4978</td>\n",
       "      <td>-44.085</td>\n",
       "      <td>1245</td>\n",
       "      <td>SA</td>\n",
       "      <td>Brazil</td>\n",
       "      <td>BR</td>\n",
       "      <td>...</td>\n",
       "      <td>Volta Redonda</td>\n",
       "      <td>0</td>\n",
       "      <td>NaN</td>\n",
       "      <td>NaN</td>\n",
       "      <td>NaN</td>\n",
       "      <td>NaN</td>\n",
       "      <td>NaN</td>\n",
       "      <td>SSVR, SSVR, QVR</td>\n",
       "      <td>0</td>\n",
       "      <td>2013-09-28T14:52:12+00:00</td>\n",
       "    </tr>\n",
       "    <tr>\n",
       "      <th>6669</th>\n",
       "      <td>505308</td>\n",
       "      <td>BR-1760</td>\n",
       "      <td>heliport</td>\n",
       "      <td>Unimed Volta Redonda Helipad</td>\n",
       "      <td>-22.533988</td>\n",
       "      <td>-44.076918</td>\n",
       "      <td>1385</td>\n",
       "      <td>SA</td>\n",
       "      <td>Brazil</td>\n",
       "      <td>BR</td>\n",
       "      <td>...</td>\n",
       "      <td>Volta Redonda</td>\n",
       "      <td>0</td>\n",
       "      <td>SSKV</td>\n",
       "      <td>NaN</td>\n",
       "      <td>RJ0147</td>\n",
       "      <td>NaN</td>\n",
       "      <td>NaN</td>\n",
       "      <td>NaN</td>\n",
       "      <td>0</td>\n",
       "      <td>2022-12-06T21:28:25+00:00</td>\n",
       "    </tr>\n",
       "    <tr>\n",
       "      <th>6670</th>\n",
       "      <td>341727</td>\n",
       "      <td>BR-1429</td>\n",
       "      <td>heliport</td>\n",
       "      <td>Santa Helena Heliport</td>\n",
       "      <td>-23.59851</td>\n",
       "      <td>-47.441196</td>\n",
       "      <td>2254</td>\n",
       "      <td>SA</td>\n",
       "      <td>Brazil</td>\n",
       "      <td>BR</td>\n",
       "      <td>...</td>\n",
       "      <td>Votorantim</td>\n",
       "      <td>0</td>\n",
       "      <td>SWHE</td>\n",
       "      <td>NaN</td>\n",
       "      <td>SP0807</td>\n",
       "      <td>NaN</td>\n",
       "      <td>NaN</td>\n",
       "      <td>NaN</td>\n",
       "      <td>0</td>\n",
       "      <td>2021-03-07T10:30:07+00:00</td>\n",
       "    </tr>\n",
       "    <tr>\n",
       "      <th>6671</th>\n",
       "      <td>343017</td>\n",
       "      <td>BR-1493</td>\n",
       "      <td>heliport</td>\n",
       "      <td>Bandeiras Centro Empresarial Heliport</td>\n",
       "      <td>-23.536615</td>\n",
       "      <td>-47.449475</td>\n",
       "      <td>1827</td>\n",
       "      <td>SA</td>\n",
       "      <td>Brazil</td>\n",
       "      <td>BR</td>\n",
       "      <td>...</td>\n",
       "      <td>Votorantim</td>\n",
       "      <td>0</td>\n",
       "      <td>SWST</td>\n",
       "      <td>NaN</td>\n",
       "      <td>SP1306</td>\n",
       "      <td>NaN</td>\n",
       "      <td>NaN</td>\n",
       "      <td>NaN</td>\n",
       "      <td>0</td>\n",
       "      <td>2021-04-14T20:12:01+00:00</td>\n",
       "    </tr>\n",
       "  </tbody>\n",
       "</table>\n",
       "<p>8 rows × 23 columns</p>\n",
       "</div>"
      ],
      "text/plain": [
       "             id        ident                 type  \\\n",
       "0     #meta +id  #meta +code  #loc +airport +type   \n",
       "1          5910         SBGR        large_airport   \n",
       "2          5906         SBGL        large_airport   \n",
       "3          5974         SBSP       medium_airport   \n",
       "6668     309669         SSVR               closed   \n",
       "6669     505308      BR-1760             heliport   \n",
       "6670     341727      BR-1429             heliport   \n",
       "6671     343017      BR-1493             heliport   \n",
       "\n",
       "                                                   name latitude_deg  \\\n",
       "0                                   #loc +airport +name    #geo +lat   \n",
       "1     Guarulhos - Governador André Franco Montoro In...   -23.431944   \n",
       "2          Rio Galeão – Tom Jobim International Airport   -22.809999   \n",
       "3                                     Congonhas Airport   -23.627657   \n",
       "6668                              Volta Redonda Airport     -22.4978   \n",
       "6669                       Unimed Volta Redonda Helipad   -22.533988   \n",
       "6670                              Santa Helena Heliport    -23.59851   \n",
       "6671              Bandeiras Centro Empresarial Heliport   -23.536615   \n",
       "\n",
       "     longitude_deg         elevation_ft                 continent  \\\n",
       "0        #geo +lon  #geo +elevation +ft  #region +continent +code   \n",
       "1       -46.467778                 2461                        SA   \n",
       "2       -43.250557                   28                        SA   \n",
       "3       -46.654601                 2631                        SA   \n",
       "6668       -44.085                 1245                        SA   \n",
       "6669    -44.076918                 1385                        SA   \n",
       "6670    -47.441196                 2254                        SA   \n",
       "6671    -47.449475                 1827                        SA   \n",
       "\n",
       "        country_name           iso_country  ...              municipality  \\\n",
       "0     #country +name  #country +code +iso2  ...  #loc +municipality +name   \n",
       "1             Brazil                    BR  ...                 São Paulo   \n",
       "2             Brazil                    BR  ...            Rio De Janeiro   \n",
       "3             Brazil                    BR  ...                 São Paulo   \n",
       "6668          Brazil                    BR  ...             Volta Redonda   \n",
       "6669          Brazil                    BR  ...             Volta Redonda   \n",
       "6670          Brazil                    BR  ...                Votorantim   \n",
       "6671          Brazil                    BR  ...                Votorantim   \n",
       "\n",
       "       scheduled_service                  gps_code                  iata_code  \\\n",
       "0     #status +scheduled  #loc +airport +code +gps  #loc +airport +code +iata   \n",
       "1                      1                      SBGR                        GRU   \n",
       "2                      1                      SBGL                        GIG   \n",
       "3                      1                      SBSP                        CGH   \n",
       "6668                   0                       NaN                        NaN   \n",
       "6669                   0                      SSKV                        NaN   \n",
       "6670                   0                      SWHE                        NaN   \n",
       "6671                   0                      SWST                        NaN   \n",
       "\n",
       "                      local_code  \\\n",
       "0     #loc +airport +code +local   \n",
       "1                         SP0002   \n",
       "2                         RJ0001   \n",
       "3                         SP0001   \n",
       "6668                         NaN   \n",
       "6669                      RJ0147   \n",
       "6670                      SP0807   \n",
       "6671                      SP1306   \n",
       "\n",
       "                                              home_link  \\\n",
       "0                                   #meta +url +airport   \n",
       "1                    http://www.aeroportoguarulhos.net/   \n",
       "2                                                   NaN   \n",
       "3     http://www.infraero.gov.br/usa/aero_prev_home....   \n",
       "6668                                                NaN   \n",
       "6669                                                NaN   \n",
       "6670                                                NaN   \n",
       "6671                                                NaN   \n",
       "\n",
       "                                         wikipedia_link  \\\n",
       "0                                 #meta +url +wikipedia   \n",
       "1     https://en.wikipedia.org/wiki/S%C3%A3o_Paulo-G...   \n",
       "2     https://en.wikipedia.org/wiki/Rio_de_Janeiro-G...   \n",
       "3     https://en.wikipedia.org/wiki/Congonhas-S%C3%A...   \n",
       "6668                                                NaN   \n",
       "6669                                                NaN   \n",
       "6670                                                NaN   \n",
       "6671                                                NaN   \n",
       "\n",
       "                                               keywords         score  \\\n",
       "0                                       #meta +keywords  #meta +score   \n",
       "1                                               Cumbica       1016675   \n",
       "2     Galeão - Antônio Carlos Jobim International Ai...         51475   \n",
       "3     http://www.infraero.gov.br/usa/aero_prev_home....           750   \n",
       "6668                                    SSVR, SSVR, QVR             0   \n",
       "6669                                                NaN             0   \n",
       "6670                                                NaN             0   \n",
       "6671                                                NaN             0   \n",
       "\n",
       "                   last_updated  \n",
       "0                #date +updated  \n",
       "1     2021-10-28T15:52:55+00:00  \n",
       "2     2021-10-14T18:09:35+00:00  \n",
       "3     2022-05-03T20:10:35+00:00  \n",
       "6668  2013-09-28T14:52:12+00:00  \n",
       "6669  2022-12-06T21:28:25+00:00  \n",
       "6670  2021-03-07T10:30:07+00:00  \n",
       "6671  2021-04-14T20:12:01+00:00  \n",
       "\n",
       "[8 rows x 23 columns]"
      ]
     },
     "execution_count": 22,
     "metadata": {},
     "output_type": "execute_result"
    }
   ],
   "source": [
    "import pandas as pd\n",
    "infoairports=pd.read_csv(os.path.join(\"data\",\"br-airports.csv\"))\n",
    "\n",
    "# some rows\n",
    "\n",
    "infoairports.iloc[[0,1,2,3,-4,-3,-2,-1],:] #head and tail\n"
   ]
  },
  {
   "cell_type": "markdown",
   "id": "186b6ca4-e5f0-4502-91b4-dea1021fcdd2",
   "metadata": {},
   "source": [
    "This needs some cleaning:"
   ]
  },
  {
   "cell_type": "code",
   "execution_count": 23,
   "id": "faf009a8-7a75-461c-ba05-0e5760c971ff",
   "metadata": {},
   "outputs": [
    {
     "data": {
      "text/html": [
       "<div>\n",
       "<style scoped>\n",
       "    .dataframe tbody tr th:only-of-type {\n",
       "        vertical-align: middle;\n",
       "    }\n",
       "\n",
       "    .dataframe tbody tr th {\n",
       "        vertical-align: top;\n",
       "    }\n",
       "\n",
       "    .dataframe thead th {\n",
       "        text-align: right;\n",
       "    }\n",
       "</style>\n",
       "<table border=\"1\" class=\"dataframe\">\n",
       "  <thead>\n",
       "    <tr style=\"text-align: right;\">\n",
       "      <th></th>\n",
       "      <th>id</th>\n",
       "      <th>ident</th>\n",
       "      <th>type</th>\n",
       "      <th>name</th>\n",
       "      <th>latitude_deg</th>\n",
       "      <th>longitude_deg</th>\n",
       "      <th>elevation_ft</th>\n",
       "      <th>continent</th>\n",
       "      <th>country_name</th>\n",
       "      <th>iso_country</th>\n",
       "      <th>...</th>\n",
       "      <th>municipality</th>\n",
       "      <th>scheduled_service</th>\n",
       "      <th>gps_code</th>\n",
       "      <th>iata_code</th>\n",
       "      <th>local_code</th>\n",
       "      <th>home_link</th>\n",
       "      <th>wikipedia_link</th>\n",
       "      <th>keywords</th>\n",
       "      <th>score</th>\n",
       "      <th>last_updated</th>\n",
       "    </tr>\n",
       "  </thead>\n",
       "  <tbody>\n",
       "    <tr>\n",
       "      <th>0</th>\n",
       "      <td>5910</td>\n",
       "      <td>SBGR</td>\n",
       "      <td>large_airport</td>\n",
       "      <td>Guarulhos - Governador André Franco Montoro In...</td>\n",
       "      <td>-23.431944</td>\n",
       "      <td>-46.467778</td>\n",
       "      <td>2461</td>\n",
       "      <td>SA</td>\n",
       "      <td>Brazil</td>\n",
       "      <td>BR</td>\n",
       "      <td>...</td>\n",
       "      <td>São Paulo</td>\n",
       "      <td>1</td>\n",
       "      <td>SBGR</td>\n",
       "      <td>GRU</td>\n",
       "      <td>SP0002</td>\n",
       "      <td>http://www.aeroportoguarulhos.net/</td>\n",
       "      <td>https://en.wikipedia.org/wiki/S%C3%A3o_Paulo-G...</td>\n",
       "      <td>Cumbica</td>\n",
       "      <td>1016675</td>\n",
       "      <td>2021-10-28T15:52:55+00:00</td>\n",
       "    </tr>\n",
       "    <tr>\n",
       "      <th>1</th>\n",
       "      <td>5906</td>\n",
       "      <td>SBGL</td>\n",
       "      <td>large_airport</td>\n",
       "      <td>Rio Galeão – Tom Jobim International Airport</td>\n",
       "      <td>-22.809999</td>\n",
       "      <td>-43.250557</td>\n",
       "      <td>28</td>\n",
       "      <td>SA</td>\n",
       "      <td>Brazil</td>\n",
       "      <td>BR</td>\n",
       "      <td>...</td>\n",
       "      <td>Rio De Janeiro</td>\n",
       "      <td>1</td>\n",
       "      <td>SBGL</td>\n",
       "      <td>GIG</td>\n",
       "      <td>RJ0001</td>\n",
       "      <td>NaN</td>\n",
       "      <td>https://en.wikipedia.org/wiki/Rio_de_Janeiro-G...</td>\n",
       "      <td>Galeão - Antônio Carlos Jobim International Ai...</td>\n",
       "      <td>51475</td>\n",
       "      <td>2021-10-14T18:09:35+00:00</td>\n",
       "    </tr>\n",
       "    <tr>\n",
       "      <th>2</th>\n",
       "      <td>5974</td>\n",
       "      <td>SBSP</td>\n",
       "      <td>medium_airport</td>\n",
       "      <td>Congonhas Airport</td>\n",
       "      <td>-23.627657</td>\n",
       "      <td>-46.654601</td>\n",
       "      <td>2631</td>\n",
       "      <td>SA</td>\n",
       "      <td>Brazil</td>\n",
       "      <td>BR</td>\n",
       "      <td>...</td>\n",
       "      <td>São Paulo</td>\n",
       "      <td>1</td>\n",
       "      <td>SBSP</td>\n",
       "      <td>CGH</td>\n",
       "      <td>SP0001</td>\n",
       "      <td>http://www.infraero.gov.br/usa/aero_prev_home....</td>\n",
       "      <td>https://en.wikipedia.org/wiki/Congonhas-S%C3%A...</td>\n",
       "      <td>http://www.infraero.gov.br/usa/aero_prev_home....</td>\n",
       "      <td>750</td>\n",
       "      <td>2022-05-03T20:10:35+00:00</td>\n",
       "    </tr>\n",
       "    <tr>\n",
       "      <th>3</th>\n",
       "      <td>5967</td>\n",
       "      <td>SBRJ</td>\n",
       "      <td>medium_airport</td>\n",
       "      <td>Santos Dumont Airport</td>\n",
       "      <td>-22.9105</td>\n",
       "      <td>-43.163101</td>\n",
       "      <td>11</td>\n",
       "      <td>SA</td>\n",
       "      <td>Brazil</td>\n",
       "      <td>BR</td>\n",
       "      <td>...</td>\n",
       "      <td>Rio de Janeiro</td>\n",
       "      <td>1</td>\n",
       "      <td>SBRJ</td>\n",
       "      <td>SDU</td>\n",
       "      <td>RJ0002</td>\n",
       "      <td>https://www4.infraero.gov.br/aeroportos/aeropo...</td>\n",
       "      <td>https://en.wikipedia.org/wiki/Santos_Dumont_Ai...</td>\n",
       "      <td>RIO</td>\n",
       "      <td>750</td>\n",
       "      <td>2022-03-28T23:27:00+00:00</td>\n",
       "    </tr>\n",
       "    <tr>\n",
       "      <th>4</th>\n",
       "      <td>5872</td>\n",
       "      <td>SBBR</td>\n",
       "      <td>large_airport</td>\n",
       "      <td>Presidente Juscelino Kubitschek International ...</td>\n",
       "      <td>-15.869167</td>\n",
       "      <td>-47.920834</td>\n",
       "      <td>3497</td>\n",
       "      <td>SA</td>\n",
       "      <td>Brazil</td>\n",
       "      <td>BR</td>\n",
       "      <td>...</td>\n",
       "      <td>Brasília</td>\n",
       "      <td>1</td>\n",
       "      <td>SBBR</td>\n",
       "      <td>BSB</td>\n",
       "      <td>DF0001</td>\n",
       "      <td>http://www.infraero.gov.br/usa/aero_prev_home....</td>\n",
       "      <td>https://en.wikipedia.org/wiki/Bras%C3%ADlia_In...</td>\n",
       "      <td>NaN</td>\n",
       "      <td>51275</td>\n",
       "      <td>2020-08-24T11:15:12+00:00</td>\n",
       "    </tr>\n",
       "  </tbody>\n",
       "</table>\n",
       "<p>5 rows × 23 columns</p>\n",
       "</div>"
      ],
      "text/plain": [
       "     id ident            type  \\\n",
       "0  5910  SBGR   large_airport   \n",
       "1  5906  SBGL   large_airport   \n",
       "2  5974  SBSP  medium_airport   \n",
       "3  5967  SBRJ  medium_airport   \n",
       "4  5872  SBBR   large_airport   \n",
       "\n",
       "                                                name latitude_deg  \\\n",
       "0  Guarulhos - Governador André Franco Montoro In...   -23.431944   \n",
       "1       Rio Galeão – Tom Jobim International Airport   -22.809999   \n",
       "2                                  Congonhas Airport   -23.627657   \n",
       "3                              Santos Dumont Airport     -22.9105   \n",
       "4  Presidente Juscelino Kubitschek International ...   -15.869167   \n",
       "\n",
       "  longitude_deg elevation_ft continent country_name iso_country  ...  \\\n",
       "0    -46.467778         2461        SA       Brazil          BR  ...   \n",
       "1    -43.250557           28        SA       Brazil          BR  ...   \n",
       "2    -46.654601         2631        SA       Brazil          BR  ...   \n",
       "3    -43.163101           11        SA       Brazil          BR  ...   \n",
       "4    -47.920834         3497        SA       Brazil          BR  ...   \n",
       "\n",
       "     municipality scheduled_service gps_code iata_code local_code  \\\n",
       "0       São Paulo                 1     SBGR       GRU     SP0002   \n",
       "1  Rio De Janeiro                 1     SBGL       GIG     RJ0001   \n",
       "2       São Paulo                 1     SBSP       CGH     SP0001   \n",
       "3  Rio de Janeiro                 1     SBRJ       SDU     RJ0002   \n",
       "4        Brasília                 1     SBBR       BSB     DF0001   \n",
       "\n",
       "                                           home_link  \\\n",
       "0                 http://www.aeroportoguarulhos.net/   \n",
       "1                                                NaN   \n",
       "2  http://www.infraero.gov.br/usa/aero_prev_home....   \n",
       "3  https://www4.infraero.gov.br/aeroportos/aeropo...   \n",
       "4  http://www.infraero.gov.br/usa/aero_prev_home....   \n",
       "\n",
       "                                      wikipedia_link  \\\n",
       "0  https://en.wikipedia.org/wiki/S%C3%A3o_Paulo-G...   \n",
       "1  https://en.wikipedia.org/wiki/Rio_de_Janeiro-G...   \n",
       "2  https://en.wikipedia.org/wiki/Congonhas-S%C3%A...   \n",
       "3  https://en.wikipedia.org/wiki/Santos_Dumont_Ai...   \n",
       "4  https://en.wikipedia.org/wiki/Bras%C3%ADlia_In...   \n",
       "\n",
       "                                            keywords    score  \\\n",
       "0                                            Cumbica  1016675   \n",
       "1  Galeão - Antônio Carlos Jobim International Ai...    51475   \n",
       "2  http://www.infraero.gov.br/usa/aero_prev_home....      750   \n",
       "3                                                RIO      750   \n",
       "4                                                NaN    51275   \n",
       "\n",
       "                last_updated  \n",
       "0  2021-10-28T15:52:55+00:00  \n",
       "1  2021-10-14T18:09:35+00:00  \n",
       "2  2022-05-03T20:10:35+00:00  \n",
       "3  2022-03-28T23:27:00+00:00  \n",
       "4  2020-08-24T11:15:12+00:00  \n",
       "\n",
       "[5 rows x 23 columns]"
      ]
     },
     "execution_count": 23,
     "metadata": {},
     "output_type": "execute_result"
    }
   ],
   "source": [
    "# bye first row\n",
    "infoairports.drop(index=0,inplace=True)\n",
    "infoairports.reset_index(drop=True, inplace=True)\n",
    "infoairports.head()"
   ]
  },
  {
   "cell_type": "code",
   "execution_count": 24,
   "id": "5d857678-c28e-4988-86b4-2ee6b11efdba",
   "metadata": {},
   "outputs": [
    {
     "data": {
      "text/plain": [
       "Index(['id', 'ident', 'type', 'name', 'latitude_deg', 'longitude_deg',\n",
       "       'elevation_ft', 'continent', 'country_name', 'iso_country',\n",
       "       'region_name', 'iso_region', 'local_region', 'municipality',\n",
       "       'scheduled_service', 'gps_code', 'iata_code', 'local_code', 'home_link',\n",
       "       'wikipedia_link', 'keywords', 'score', 'last_updated'],\n",
       "      dtype='object')"
      ]
     },
     "execution_count": 24,
     "metadata": {},
     "output_type": "execute_result"
    }
   ],
   "source": [
    "# keep the  columns needed\n",
    "\n",
    "infoairports.columns\n"
   ]
  },
  {
   "cell_type": "code",
   "execution_count": 25,
   "id": "22dd51af-cad6-4aa3-843d-f2dbadefb990",
   "metadata": {},
   "outputs": [
    {
     "name": "stdout",
     "output_type": "stream",
     "text": [
      "<class 'pandas.core.frame.DataFrame'>\n",
      "RangeIndex: 6671 entries, 0 to 6670\n",
      "Data columns (total 7 columns):\n",
      " #   Column         Non-Null Count  Dtype \n",
      "---  ------         --------------  ----- \n",
      " 0   name           6671 non-null   object\n",
      " 1   type           6671 non-null   object\n",
      " 2   latitude_deg   6671 non-null   object\n",
      " 3   longitude_deg  6671 non-null   object\n",
      " 4   elevation_ft   6500 non-null   object\n",
      " 5   region_name    6671 non-null   object\n",
      " 6   municipality   6647 non-null   object\n",
      "dtypes: object(7)\n",
      "memory usage: 364.9+ KB\n"
     ]
    }
   ],
   "source": [
    "keep=['name','type','latitude_deg', 'longitude_deg','elevation_ft','region_name','municipality']\n",
    "infoairports=infoairports.loc[:,keep]\n",
    "\n",
    "infoairports.info()"
   ]
  },
  {
   "cell_type": "markdown",
   "id": "a9f96cbf-6d53-45d1-9c5d-e236d6e3e652",
   "metadata": {},
   "source": [
    "Some formatting:"
   ]
  },
  {
   "cell_type": "code",
   "execution_count": 26,
   "id": "b4cb8ee0-18a7-40c1-864b-cbc8086861c8",
   "metadata": {},
   "outputs": [],
   "source": [
    "numericCols=['latitude_deg', 'longitude_deg','elevation_ft']\n",
    "infoairports[numericCols]=infoairports.loc[:,numericCols].apply(lambda x:pd.to_numeric(x))"
   ]
  },
  {
   "cell_type": "code",
   "execution_count": 27,
   "id": "4e7f0d14-934f-4465-b42f-d0c60efb6d32",
   "metadata": {},
   "outputs": [
    {
     "name": "stdout",
     "output_type": "stream",
     "text": [
      "<class 'pandas.core.frame.DataFrame'>\n",
      "RangeIndex: 6671 entries, 0 to 6670\n",
      "Data columns (total 7 columns):\n",
      " #   Column         Non-Null Count  Dtype  \n",
      "---  ------         --------------  -----  \n",
      " 0   name           6671 non-null   object \n",
      " 1   type           6671 non-null   object \n",
      " 2   latitude_deg   6671 non-null   float64\n",
      " 3   longitude_deg  6671 non-null   float64\n",
      " 4   elevation_ft   6500 non-null   float64\n",
      " 5   region_name    6671 non-null   object \n",
      " 6   municipality   6647 non-null   object \n",
      "dtypes: float64(3), object(4)\n",
      "memory usage: 364.9+ KB\n"
     ]
    }
   ],
   "source": [
    "# now\n",
    "infoairports.info()"
   ]
  },
  {
   "cell_type": "code",
   "execution_count": 28,
   "id": "b340ab20-2258-41a2-bbd4-6b6c31d422a0",
   "metadata": {},
   "outputs": [
    {
     "data": {
      "text/plain": [
       "<Axes: xlabel='longitude_deg', ylabel='latitude_deg'>"
      ]
     },
     "execution_count": 28,
     "metadata": {},
     "output_type": "execute_result"
    },
    {
     "data": {
      "image/png": "[encoded data removed]",
      "text/plain": [
       "<Figure size 640x480 with 1 Axes>"
      ]
     },
     "metadata": {},
     "output_type": "display_data"
    }
   ],
   "source": [
    "# let's plot\n",
    "\n",
    "base = brazil_5641.plot(color='white', edgecolor='black') #unprojected\n",
    "\n",
    "infoairports.plot.scatter(x = 'longitude_deg', y = 'latitude_deg',ax=base)"
   ]
  },
  {
   "cell_type": "markdown",
   "id": "77acc474-bb83-4174-9579-a8a641ff6adc",
   "metadata": {},
   "source": [
    "Why is it wrong?"
   ]
  },
  {
   "cell_type": "code",
   "execution_count": 29,
   "id": "7b04453e-c335-4857-8fff-6a26c2daf730",
   "metadata": {},
   "outputs": [
    {
     "data": {
      "text/plain": [
       "<Axes: >"
      ]
     },
     "execution_count": 29,
     "metadata": {},
     "output_type": "execute_result"
    },
    {
     "data": {
      "image/png": "[encoded data removed]",
      "text/plain": [
       "<Figure size 640x480 with 1 Axes>"
      ]
     },
     "metadata": {},
     "output_type": "display_data"
    }
   ],
   "source": [
    "airports=gpd.GeoDataFrame(data=infoairports.copy(),\n",
    "                 geometry=gpd.points_from_xy(infoairports.longitude_deg,\n",
    "                                             infoairports.latitude_deg),\n",
    "                 crs=brazil.crs.to_epsg())# the coordinates were in degrees - unprojected\n",
    "\n",
    "# let's plot\n",
    "\n",
    "base = brazil_5641.plot(color='white', edgecolor='black')\n",
    "airports.plot(ax=base)"
   ]
  },
  {
   "cell_type": "code",
   "execution_count": 30,
   "id": "755fb348-f7a6-4383-bd1c-54195e23eea2",
   "metadata": {},
   "outputs": [
    {
     "data": {
      "text/plain": [
       "(geopandas.geodataframe.GeoDataFrame, pandas.core.frame.DataFrame)"
      ]
     },
     "execution_count": 30,
     "metadata": {},
     "output_type": "execute_result"
    }
   ],
   "source": [
    "#remember:\n",
    "type(airports), type(infoairports)"
   ]
  },
  {
   "cell_type": "markdown",
   "id": "1bfd9c61-b4cf-4de2-8d65-cfce0f82a8a2",
   "metadata": {},
   "source": [
    "Let's re project!"
   ]
  },
  {
   "cell_type": "code",
   "execution_count": 31,
   "id": "a6791c26-5306-4cc3-86cb-8a42fba88276",
   "metadata": {},
   "outputs": [
    {
     "data": {
      "text/plain": [
       "<Axes: >"
      ]
     },
     "execution_count": 31,
     "metadata": {},
     "output_type": "execute_result"
    },
    {
     "data": {
      "image/png": "[encoded data removed]",
      "text/plain": [
       "<Figure size 640x480 with 1 Axes>"
      ]
     },
     "metadata": {},
     "output_type": "display_data"
    }
   ],
   "source": [
    "airports_5641=airports.to_crs(5641)\n",
    "\n",
    "## then\n",
    "\n",
    "base = brazil_5641.plot(color='white', edgecolor='black')\n",
    "airports_5641.plot(ax=base)"
   ]
  },
  {
   "cell_type": "markdown",
   "id": "980c890f-bcdb-4a11-b926-f587df9cace2",
   "metadata": {},
   "source": [
    "Remember you have type of airports:"
   ]
  },
  {
   "cell_type": "code",
   "execution_count": 32,
   "id": "5d44ab9b-d949-4976-af37-5b80786459f3",
   "metadata": {},
   "outputs": [
    {
     "data": {
      "text/plain": [
       "small_airport     4587\n",
       "heliport          1699\n",
       "closed             251\n",
       "medium_airport     124\n",
       "large_airport        8\n",
       "seaplane_base        2\n",
       "Name: type, dtype: int64"
      ]
     },
     "execution_count": 32,
     "metadata": {},
     "output_type": "execute_result"
    }
   ],
   "source": [
    "airports_5641['type'].value_counts() # this will not work: airports.type.value_counts()"
   ]
  },
  {
   "cell_type": "markdown",
   "id": "d6e6386d-2636-4194-a79b-594ece5958d0",
   "metadata": {},
   "source": [
    "We may use that in the future. For now, just rename the **type** column to a different one."
   ]
  },
  {
   "cell_type": "code",
   "execution_count": 33,
   "id": "576e913d-62e9-45a0-ba8c-58ba2504a052",
   "metadata": {},
   "outputs": [],
   "source": [
    "airports_5641.rename(columns={'type':'kind'},inplace=True)\n",
    "\n",
    "## adding the airports to GPKG\n",
    "airports_5641.to_file(os.path.join(\"maps\",\"brazilMaps_5641.gpkg\"), layer='airports', driver=\"GPKG\")"
   ]
  },
  {
   "cell_type": "markdown",
   "id": "90565e2b-836a-4495-95da-2b722ae43b5d",
   "metadata": {},
   "source": [
    "### Exercise 3\n",
    "<div class=\"alert-success\">\n",
    "\n",
    "1. Find the airports for your country [here](https://ourairports.com/data/). The data is in a CSV file.\n",
    "2. Create projected layer of airports.\n",
    "3. Plot all the layers and airports on top.\n",
    "    \n",
    "</div>"
   ]
  },
  {
   "cell_type": "markdown",
   "id": "1a244be3",
   "metadata": {},
   "source": [
    "<a class=\"anchor\" id=\"11\"></a>\n",
    "\n",
    "## Formating Geoseries projections\n",
    "\n"
   ]
  },
  {
   "cell_type": "markdown",
   "id": "56f39f71",
   "metadata": {},
   "source": [
    "You know **brazil_5641** is a multipolygon:"
   ]
  },
  {
   "cell_type": "code",
   "execution_count": 34,
   "id": "0c0f557c",
   "metadata": {},
   "outputs": [
    {
     "data": {
      "text/html": [
       "<div>\n",
       "<style scoped>\n",
       "    .dataframe tbody tr th:only-of-type {\n",
       "        vertical-align: middle;\n",
       "    }\n",
       "\n",
       "    .dataframe tbody tr th {\n",
       "        vertical-align: top;\n",
       "    }\n",
       "\n",
       "    .dataframe thead th {\n",
       "        text-align: right;\n",
       "    }\n",
       "</style>\n",
       "<table border=\"1\" class=\"dataframe\">\n",
       "  <thead>\n",
       "    <tr style=\"text-align: right;\">\n",
       "      <th></th>\n",
       "      <th>COUNTRY</th>\n",
       "      <th>geometry</th>\n",
       "    </tr>\n",
       "  </thead>\n",
       "  <tbody>\n",
       "    <tr>\n",
       "      <th>29</th>\n",
       "      <td>Brazil</td>\n",
       "      <td>MULTIPOLYGON (((1926257.542 8894978.397, 19262...</td>\n",
       "    </tr>\n",
       "  </tbody>\n",
       "</table>\n",
       "</div>"
      ],
      "text/plain": [
       "   COUNTRY                                           geometry\n",
       "29  Brazil  MULTIPOLYGON (((1926257.542 8894978.397, 19262..."
      ]
     },
     "execution_count": 34,
     "metadata": {},
     "output_type": "execute_result"
    }
   ],
   "source": [
    "brazil_5641"
   ]
  },
  {
   "cell_type": "markdown",
   "id": "a1623e72",
   "metadata": {},
   "source": [
    "Sometime, you just need the border (lines):"
   ]
  },
  {
   "cell_type": "code",
   "execution_count": 35,
   "id": "39db903a",
   "metadata": {},
   "outputs": [
    {
     "data": {
      "text/plain": [
       "29    MULTILINESTRING ((1926257.542 8894978.397, 192...\n",
       "dtype: geometry"
      ]
     },
     "execution_count": 35,
     "metadata": {},
     "output_type": "execute_result"
    }
   ],
   "source": [
    "brazil_5641.boundary"
   ]
  },
  {
   "cell_type": "code",
   "execution_count": 36,
   "id": "ef42fd87",
   "metadata": {},
   "outputs": [
    {
     "data": {
      "text/plain": [
       "<Axes: >"
      ]
     },
     "execution_count": 36,
     "metadata": {},
     "output_type": "execute_result"
    },
    {
     "data": {
      "image/png": "[encoded data removed]",
      "text/plain": [
       "<Figure size 640x480 with 1 Axes>"
      ]
     },
     "metadata": {},
     "output_type": "display_data"
    }
   ],
   "source": [
    "# This is just the borderline\n",
    "brazil_5641.boundary.plot()"
   ]
  },
  {
   "cell_type": "markdown",
   "id": "24f53d89",
   "metadata": {},
   "source": [
    "Always check the data type:"
   ]
  },
  {
   "cell_type": "code",
   "execution_count": 37,
   "id": "a18b7ce2",
   "metadata": {},
   "outputs": [
    {
     "data": {
      "text/plain": [
       "geopandas.geoseries.GeoSeries"
      ]
     },
     "execution_count": 37,
     "metadata": {},
     "output_type": "execute_result"
    }
   ],
   "source": [
    "# does 'boundary' return a GDF?\n",
    "type(brazil_5641.boundary)"
   ]
  },
  {
   "cell_type": "markdown",
   "id": "5b3845aa",
   "metadata": {},
   "source": [
    "Some operations in geopandas require GDF or GS. If you need a GDF instead of a GS:"
   ]
  },
  {
   "cell_type": "code",
   "execution_count": 38,
   "id": "c4899f6e",
   "metadata": {},
   "outputs": [
    {
     "data": {
      "text/html": [
       "<div>\n",
       "<style scoped>\n",
       "    .dataframe tbody tr th:only-of-type {\n",
       "        vertical-align: middle;\n",
       "    }\n",
       "\n",
       "    .dataframe tbody tr th {\n",
       "        vertical-align: top;\n",
       "    }\n",
       "\n",
       "    .dataframe thead th {\n",
       "        text-align: right;\n",
       "    }\n",
       "</style>\n",
       "<table border=\"1\" class=\"dataframe\">\n",
       "  <thead>\n",
       "    <tr style=\"text-align: right;\">\n",
       "      <th></th>\n",
       "      <th>0</th>\n",
       "    </tr>\n",
       "  </thead>\n",
       "  <tbody>\n",
       "    <tr>\n",
       "      <th>29</th>\n",
       "      <td>MULTILINESTRING ((1926257.542 8894978.397, 192...</td>\n",
       "    </tr>\n",
       "  </tbody>\n",
       "</table>\n",
       "</div>"
      ],
      "text/plain": [
       "                                                    0\n",
       "29  MULTILINESTRING ((1926257.542 8894978.397, 192..."
      ]
     },
     "execution_count": 38,
     "metadata": {},
     "output_type": "execute_result"
    }
   ],
   "source": [
    "# converting into GDF\n",
    "brazil_5641.boundary.to_frame()"
   ]
  },
  {
   "cell_type": "markdown",
   "id": "ee31770d",
   "metadata": {},
   "source": [
    "Notice you get a very simple GDF, and you may want to add some information:"
   ]
  },
  {
   "cell_type": "code",
   "execution_count": 39,
   "id": "1aa88edb",
   "metadata": {},
   "outputs": [
    {
     "data": {
      "text/plain": [
       "<Projected CRS: EPSG:5641>\n",
       "Name: SIRGAS 2000 / Brazil Mercator\n",
       "Axis Info [cartesian]:\n",
       "- X[east]: Easting (metre)\n",
       "- Y[north]: Northing (metre)\n",
       "Area of Use:\n",
       "- name: Brazil - offshore - equatorial margin.\n",
       "- bounds: (-51.64, -5.74, -32.43, 7.04)\n",
       "Coordinate Operation:\n",
       "- name: Petrobras Mercator\n",
       "- method: Mercator (variant B)\n",
       "Datum: Sistema de Referencia Geocentrico para las AmericaS 2000\n",
       "- Ellipsoid: GRS 1980\n",
       "- Prime Meridian: Greenwich"
      ]
     },
     "execution_count": 39,
     "metadata": {},
     "output_type": "execute_result"
    }
   ],
   "source": [
    "# conversion\n",
    "brazil_border=brazil_5641.boundary.to_frame() \n",
    "\n",
    "# new column (optional)\n",
    "brazil_border['name']='Brazil' \n",
    "\n",
    "# renaming the geometry column\n",
    "brazil_border.rename(columns={0:'geometry'},inplace=True) \n",
    "\n",
    "#setting the geometry (the name is not enough)\n",
    "brazil_border = brazil_border.set_geometry(\"geometry\")\n",
    "\n",
    "# verifying:\n",
    "brazil_border.crs"
   ]
  },
  {
   "cell_type": "markdown",
   "id": "56253f89",
   "metadata": {},
   "source": [
    "You can add this GDF as a layer."
   ]
  },
  {
   "cell_type": "markdown",
   "id": "a1a60dee",
   "metadata": {},
   "source": [
    "### Exercise 4\n",
    "\n",
    "<div class=\"alert-success\"> \n",
    "    \n",
    "1. Check if your country is a polygon or multipolygon.\n",
    "    \n",
    "2. Recover just the boundaries of that country.\n",
    "    \n",
    "3. Turn the boundary into a GDF.\n",
    "</div>"
   ]
  },
  {
   "cell_type": "markdown",
   "id": "2c049934",
   "metadata": {},
   "source": [
    "<a class=\"anchor\" id=\"12\"></a>\n",
    "\n",
    "## Maps Lacking CRS information"
   ]
  },
  {
   "cell_type": "markdown",
   "id": "ae03899d",
   "metadata": {},
   "source": [
    "Reprojecting seems a simple process, but you might find some interesting cases. Let's read the maps on _states_ and _municipalities_:"
   ]
  },
  {
   "cell_type": "code",
   "execution_count": 40,
   "id": "8f1ffae0",
   "metadata": {},
   "outputs": [],
   "source": [
    "brazil_states=gpd.read_file(os.path.join(\"maps\",\"bra_adm_ibge_2020_shp\",\"bra_admbnda_adm1_ibge_2020.shp\"))\n",
    "brazil_municipalities=gpd.read_file(os.path.join(\"maps\",\"bra_adm_ibge_2020_shp\",\"bra_admbnda_adm2_ibge_2020.shp\"))"
   ]
  },
  {
   "cell_type": "markdown",
   "id": "04c40df3-a43f-4252-a589-ab8449fcd9dd",
   "metadata": {},
   "source": [
    "They are maps, for sure:"
   ]
  },
  {
   "cell_type": "code",
   "execution_count": 41,
   "id": "c94b207d-0723-4b51-82ff-0ff999a844ac",
   "metadata": {},
   "outputs": [
    {
     "data": {
      "text/plain": [
       "(geopandas.geodataframe.GeoDataFrame, geopandas.geodataframe.GeoDataFrame)"
      ]
     },
     "execution_count": 41,
     "metadata": {},
     "output_type": "execute_result"
    }
   ],
   "source": [
    "type(brazil_states), type(brazil_municipalities)"
   ]
  },
  {
   "cell_type": "code",
   "execution_count": 42,
   "id": "b8871df8-0f49-4ef7-9c0f-c6eb7aa3205d",
   "metadata": {},
   "outputs": [
    {
     "data": {
      "text/plain": [
       "0    MULTIPOLYGON (((-68.87747 -11.01987, -68.88027...\n",
       "1    POLYGON ((-35.46317 -8.82467, -35.46457 -8.828...\n",
       "2    MULTIPOLYGON (((-50.46147 2.11133, -50.45627 2...\n",
       "3    MULTIPOLYGON (((-58.49367 -0.84197, -58.48917 ...\n",
       "4    MULTIPOLYGON (((-38.70687 -17.96447, -38.70867...\n",
       "Name: geometry, dtype: geometry"
      ]
     },
     "execution_count": 42,
     "metadata": {},
     "output_type": "execute_result"
    }
   ],
   "source": [
    "brazil_states.geometry.head()"
   ]
  },
  {
   "cell_type": "code",
   "execution_count": 43,
   "id": "ca1bb428-8608-44b0-ad0a-fa5a6a1f5a61",
   "metadata": {},
   "outputs": [
    {
     "data": {
      "text/plain": [
       "0    POLYGON ((-62.04950 -11.86731, -62.04559 -11.8...\n",
       "1    POLYGON ((-62.42279 -9.80481, -62.42688 -9.806...\n",
       "2    POLYGON ((-60.37329 -13.40887, -60.37323 -13.4...\n",
       "3    POLYGON ((-61.00061 -10.99219, -61.00061 -11.0...\n",
       "4    POLYGON ((-61.20642 -13.08759, -61.20282 -13.0...\n",
       "Name: geometry, dtype: geometry"
      ]
     },
     "execution_count": 43,
     "metadata": {},
     "output_type": "execute_result"
    }
   ],
   "source": [
    "brazil_municipalities.geometry.head()"
   ]
  },
  {
   "cell_type": "markdown",
   "id": "1fc50b42",
   "metadata": {},
   "source": [
    "But, notice this:"
   ]
  },
  {
   "cell_type": "code",
   "execution_count": 44,
   "id": "fcf97ff7",
   "metadata": {},
   "outputs": [
    {
     "data": {
      "text/plain": [
       "(None, None)"
      ]
     },
     "execution_count": 44,
     "metadata": {},
     "output_type": "execute_result"
    }
   ],
   "source": [
    "brazil_states.crs, brazil_municipalities.crs"
   ]
  },
  {
   "cell_type": "markdown",
   "id": "d5d3fb9f",
   "metadata": {},
   "source": [
    "They do not have crs information, however they can be plotted:"
   ]
  },
  {
   "cell_type": "code",
   "execution_count": 45,
   "id": "55f99615",
   "metadata": {},
   "outputs": [
    {
     "data": {
      "text/plain": [
       "<Axes: >"
      ]
     },
     "execution_count": 45,
     "metadata": {},
     "output_type": "execute_result"
    },
    {
     "data": {
      "image/png": "[encoded data removed]",
      "text/plain": [
       "<Figure size 1200x1200 with 2 Axes>"
      ]
     },
     "metadata": {},
     "output_type": "display_data"
    }
   ],
   "source": [
    "import matplotlib.pyplot as plt\n",
    "\n",
    "fig, (ax1, ax2) = plt.subplots(ncols=2, sharex=False, sharey=False, figsize=(12,12))\n",
    "\n",
    "brazil_states.plot(ax=ax1, facecolor='lightgrey', edgecolor='black')\n",
    "brazil_municipalities.plot(ax=ax2, facecolor='lightgrey', edgecolor='black',linewidth=0.2)\n"
   ]
  },
  {
   "cell_type": "markdown",
   "id": "1b744542",
   "metadata": {},
   "source": [
    "Since we are using the crs 5641 for Brazil, the initial strategy could be to set the CRS with the right projection :"
   ]
  },
  {
   "cell_type": "code",
   "execution_count": 46,
   "id": "931bfad1",
   "metadata": {},
   "outputs": [
    {
     "ename": "ValueError",
     "evalue": "Cannot transform naive geometries.  Please set a crs on the object first.",
     "output_type": "error",
     "traceback": [
      "\u001b[0;31m---------------------------------------------------------------------------\u001b[0m",
      "\u001b[0;31mValueError\u001b[0m                                Traceback (most recent call last)",
      "Cell \u001b[0;32mIn[46], line 1\u001b[0m\n\u001b[0;32m----> 1\u001b[0m \u001b[43mbrazil_states\u001b[49m\u001b[38;5;241;43m.\u001b[39;49m\u001b[43mto_crs\u001b[49m\u001b[43m(\u001b[49m\u001b[38;5;241;43m5641\u001b[39;49m\u001b[43m)\u001b[49m\n",
      "File \u001b[0;32m~/opt/anaconda3/envs/Gov_Analytics_3_11/lib/python3.11/site-packages/geopandas/geodataframe.py:1410\u001b[0m, in \u001b[0;36mGeoDataFrame.to_crs\u001b[0;34m(self, crs, epsg, inplace)\u001b[0m\n\u001b[1;32m   1408\u001b[0m \u001b[38;5;28;01melse\u001b[39;00m:\n\u001b[1;32m   1409\u001b[0m     df \u001b[38;5;241m=\u001b[39m \u001b[38;5;28mself\u001b[39m\u001b[38;5;241m.\u001b[39mcopy()\n\u001b[0;32m-> 1410\u001b[0m geom \u001b[38;5;241m=\u001b[39m \u001b[43mdf\u001b[49m\u001b[38;5;241;43m.\u001b[39;49m\u001b[43mgeometry\u001b[49m\u001b[38;5;241;43m.\u001b[39;49m\u001b[43mto_crs\u001b[49m\u001b[43m(\u001b[49m\u001b[43mcrs\u001b[49m\u001b[38;5;241;43m=\u001b[39;49m\u001b[43mcrs\u001b[49m\u001b[43m,\u001b[49m\u001b[43m \u001b[49m\u001b[43mepsg\u001b[49m\u001b[38;5;241;43m=\u001b[39;49m\u001b[43mepsg\u001b[49m\u001b[43m)\u001b[49m\n\u001b[1;32m   1411\u001b[0m df\u001b[38;5;241m.\u001b[39mgeometry \u001b[38;5;241m=\u001b[39m geom\n\u001b[1;32m   1412\u001b[0m \u001b[38;5;28;01mif\u001b[39;00m \u001b[38;5;129;01mnot\u001b[39;00m inplace:\n",
      "File \u001b[0;32m~/opt/anaconda3/envs/Gov_Analytics_3_11/lib/python3.11/site-packages/geopandas/geoseries.py:1175\u001b[0m, in \u001b[0;36mGeoSeries.to_crs\u001b[0;34m(self, crs, epsg)\u001b[0m\n\u001b[1;32m   1096\u001b[0m \u001b[38;5;28;01mdef\u001b[39;00m \u001b[38;5;21mto_crs\u001b[39m(\n\u001b[1;32m   1097\u001b[0m     \u001b[38;5;28mself\u001b[39m, crs: Optional[Any] \u001b[38;5;241m=\u001b[39m \u001b[38;5;28;01mNone\u001b[39;00m, epsg: Optional[\u001b[38;5;28mint\u001b[39m] \u001b[38;5;241m=\u001b[39m \u001b[38;5;28;01mNone\u001b[39;00m\n\u001b[1;32m   1098\u001b[0m ) \u001b[38;5;241m-\u001b[39m\u001b[38;5;241m>\u001b[39m GeoSeries:\n\u001b[1;32m   1099\u001b[0m \u001b[38;5;250m    \u001b[39m\u001b[38;5;124;03m\"\"\"Returns a ``GeoSeries`` with all geometries transformed to a new\u001b[39;00m\n\u001b[1;32m   1100\u001b[0m \u001b[38;5;124;03m    coordinate reference system.\u001b[39;00m\n\u001b[1;32m   1101\u001b[0m \n\u001b[0;32m   (...)\u001b[0m\n\u001b[1;32m   1172\u001b[0m \n\u001b[1;32m   1173\u001b[0m \u001b[38;5;124;03m    \"\"\"\u001b[39;00m\n\u001b[1;32m   1174\u001b[0m     \u001b[38;5;28;01mreturn\u001b[39;00m GeoSeries(\n\u001b[0;32m-> 1175\u001b[0m         \u001b[38;5;28;43mself\u001b[39;49m\u001b[38;5;241;43m.\u001b[39;49m\u001b[43mvalues\u001b[49m\u001b[38;5;241;43m.\u001b[39;49m\u001b[43mto_crs\u001b[49m\u001b[43m(\u001b[49m\u001b[43mcrs\u001b[49m\u001b[38;5;241;43m=\u001b[39;49m\u001b[43mcrs\u001b[49m\u001b[43m,\u001b[49m\u001b[43m \u001b[49m\u001b[43mepsg\u001b[49m\u001b[38;5;241;43m=\u001b[39;49m\u001b[43mepsg\u001b[49m\u001b[43m)\u001b[49m, index\u001b[38;5;241m=\u001b[39m\u001b[38;5;28mself\u001b[39m\u001b[38;5;241m.\u001b[39mindex, name\u001b[38;5;241m=\u001b[39m\u001b[38;5;28mself\u001b[39m\u001b[38;5;241m.\u001b[39mname\n\u001b[1;32m   1176\u001b[0m     )\n",
      "File \u001b[0;32m~/opt/anaconda3/envs/Gov_Analytics_3_11/lib/python3.11/site-packages/geopandas/array.py:855\u001b[0m, in \u001b[0;36mGeometryArray.to_crs\u001b[0;34m(self, crs, epsg)\u001b[0m\n\u001b[1;32m    786\u001b[0m \u001b[38;5;250m\u001b[39m\u001b[38;5;124;03m\"\"\"Returns a ``GeometryArray`` with all geometries transformed to a new\u001b[39;00m\n\u001b[1;32m    787\u001b[0m \u001b[38;5;124;03mcoordinate reference system.\u001b[39;00m\n\u001b[1;32m    788\u001b[0m \n\u001b[0;32m   (...)\u001b[0m\n\u001b[1;32m    852\u001b[0m \n\u001b[1;32m    853\u001b[0m \u001b[38;5;124;03m\"\"\"\u001b[39;00m\n\u001b[1;32m    854\u001b[0m \u001b[38;5;28;01mif\u001b[39;00m \u001b[38;5;28mself\u001b[39m\u001b[38;5;241m.\u001b[39mcrs \u001b[38;5;129;01mis\u001b[39;00m \u001b[38;5;28;01mNone\u001b[39;00m:\n\u001b[0;32m--> 855\u001b[0m     \u001b[38;5;28;01mraise\u001b[39;00m \u001b[38;5;167;01mValueError\u001b[39;00m(\n\u001b[1;32m    856\u001b[0m         \u001b[38;5;124m\"\u001b[39m\u001b[38;5;124mCannot transform naive geometries.  \u001b[39m\u001b[38;5;124m\"\u001b[39m\n\u001b[1;32m    857\u001b[0m         \u001b[38;5;124m\"\u001b[39m\u001b[38;5;124mPlease set a crs on the object first.\u001b[39m\u001b[38;5;124m\"\u001b[39m\n\u001b[1;32m    858\u001b[0m     )\n\u001b[1;32m    859\u001b[0m \u001b[38;5;28;01mif\u001b[39;00m crs \u001b[38;5;129;01mis\u001b[39;00m \u001b[38;5;129;01mnot\u001b[39;00m \u001b[38;5;28;01mNone\u001b[39;00m:\n\u001b[1;32m    860\u001b[0m     crs \u001b[38;5;241m=\u001b[39m CRS\u001b[38;5;241m.\u001b[39mfrom_user_input(crs)\n",
      "\u001b[0;31mValueError\u001b[0m: Cannot transform naive geometries.  Please set a crs on the object first."
     ]
    }
   ],
   "source": [
    "brazil_states.to_crs(5641)"
   ]
  },
  {
   "cell_type": "markdown",
   "id": "4c6125eb",
   "metadata": {},
   "source": [
    "Python says _\"Please set a crs on the object first\"_. This would mean to know the actual projection, of the geometry:"
   ]
  },
  {
   "cell_type": "markdown",
   "id": "947b1955",
   "metadata": {},
   "source": [
    "From the plots above and the rows seen, we conclude the maps are unprojected; then:"
   ]
  },
  {
   "cell_type": "code",
   "execution_count": null,
   "id": "b0cea549",
   "metadata": {},
   "outputs": [],
   "source": [
    "# set as unprojected\n",
    "brazil_states.crs = \"EPSG:4326\"\n",
    "brazil_municipalities.crs = \"EPSG:4326\""
   ]
  },
  {
   "cell_type": "markdown",
   "id": "370b9b22",
   "metadata": {},
   "source": [
    "Now, we can reproject:"
   ]
  },
  {
   "cell_type": "code",
   "execution_count": null,
   "id": "b5931b04",
   "metadata": {},
   "outputs": [],
   "source": [
    "brazil_states=brazil_states.to_crs(5641)\n",
    "brazil_municipalities=brazil_municipalities.to_crs(5641)"
   ]
  },
  {
   "cell_type": "markdown",
   "id": "4bd63172",
   "metadata": {},
   "source": [
    "### Exercise 5 (conditional)\n",
    "\n",
    "<div class=\"alert-success\">\n",
    "\n",
    "1. Look for sub administrative divisions of your country\n",
    "2. Check all the CRSs of those divisions\n",
    "3. If you find one CRS is missing, fill the CRS with the right projection.\n",
    "</div>"
   ]
  },
  {
   "cell_type": "markdown",
   "id": "f4045360",
   "metadata": {},
   "source": [
    "[TOC](#0)\n",
    "_____________\n",
    "\n",
    "\n",
    "<a class=\"anchor\" id=\"3\"></a>\n",
    "\n",
    "# Combining GeoDF rows\n",
    "\n",
    "Let me divide Brazil municipalities into a higher administrative level:"
   ]
  },
  {
   "cell_type": "code",
   "execution_count": null,
   "id": "29d9a850-40fc-4e1e-a7a0-1c4ada8cb545",
   "metadata": {},
   "outputs": [],
   "source": [
    "brazil_municipalities.plot(facecolor='lightgrey', edgecolor='black',linewidth=0.2)"
   ]
  },
  {
   "cell_type": "code",
   "execution_count": null,
   "id": "a732d195-b51f-4bf7-8b9c-daaf8a49c0a3",
   "metadata": {},
   "outputs": [],
   "source": [
    "#see\n",
    "brazil_municipalities.head()"
   ]
  },
  {
   "cell_type": "code",
   "execution_count": null,
   "id": "edc01a89-ae84-405d-82e8-0ba1da113a00",
   "metadata": {},
   "outputs": [],
   "source": [
    "# higher level\n",
    "brazil_municipalities.ADM1_PT.value_counts()"
   ]
  },
  {
   "cell_type": "markdown",
   "id": "1d0ca18b-4d56-4a5f-9575-755e278582c2",
   "metadata": {},
   "source": [
    "Then, this is Minas Gerais:"
   ]
  },
  {
   "cell_type": "code",
   "execution_count": null,
   "id": "e2954e50-2d6f-4583-a2c0-3e5aaeb20b44",
   "metadata": {},
   "outputs": [],
   "source": [
    "brazil_municipalities[brazil_municipalities.ADM1_PT=='Minas Gerais'].plot()"
   ]
  },
  {
   "cell_type": "markdown",
   "id": "97eadc14-d617-4345-ad89-1eb2b786d31f",
   "metadata": {},
   "source": [
    "## Unary UNION\n",
    "\n",
    "We can combine all these polygons into one:"
   ]
  },
  {
   "cell_type": "code",
   "execution_count": null,
   "id": "c00c048b-6faa-4ad6-8cf7-0f98769e17f2",
   "metadata": {},
   "outputs": [],
   "source": [
    "brazil_municipalities[brazil_municipalities.ADM1_PT=='Minas Gerais'].unary_union"
   ]
  },
  {
   "cell_type": "markdown",
   "id": "9d3fcffd-e552-4bea-9da3-b39745de4c36",
   "metadata": {},
   "source": [
    "Let's save that result:"
   ]
  },
  {
   "cell_type": "code",
   "execution_count": null,
   "id": "ce5d4b07-7f14-4dc7-8031-5c12ee2c8a92",
   "metadata": {},
   "outputs": [],
   "source": [
    "MinasGerais_union=brazil_municipalities[brazil_municipalities.ADM1_PT=='Minas Gerais'].unary_union"
   ]
  },
  {
   "cell_type": "code",
   "execution_count": null,
   "id": "d71ea52f-6738-4d8b-93fb-6e6bfdd7ed21",
   "metadata": {},
   "outputs": [],
   "source": [
    "# what do we have?\n",
    "type(MinasGerais_union)"
   ]
  },
  {
   "cell_type": "markdown",
   "id": "97f5eeba-ee4f-4a46-b8ac-9645f7e59766",
   "metadata": {},
   "source": [
    "You can turn that shapely object into a GeoDF like this:"
   ]
  },
  {
   "cell_type": "code",
   "execution_count": null,
   "id": "52d84f0d-bd43-4008-b3ac-c807e7dbafc5",
   "metadata": {},
   "outputs": [],
   "source": [
    "gpd.GeoDataFrame(index=[0],data={'ADM':'Minas Gerais'},\n",
    "                 crs=brazil_municipalities.crs,\n",
    "                 geometry=[MinasGerais_union])"
   ]
  },
  {
   "cell_type": "markdown",
   "id": "b1dee927-70dd-48e8-82b7-a04a2fa8fe3c",
   "metadata": {},
   "source": [
    "<a class=\"anchor\" id=\"21\"></a>\n",
    "\n",
    "## Dissolve\n",
    "\n",
    "### a. Dissolve as Union\n",
    "Using  **dissolve** is an alternative to _UNION_:"
   ]
  },
  {
   "cell_type": "code",
   "execution_count": null,
   "id": "c5768952-7e24-43ad-901e-9a7fadc3fc2c",
   "metadata": {},
   "outputs": [],
   "source": [
    "brazil_municipalities[brazil_municipalities.ADM1_PT=='Minas Gerais'].dissolve().plot()"
   ]
  },
  {
   "cell_type": "markdown",
   "id": "351fbf6a-7e61-467e-ab1c-15c7544a4632",
   "metadata": {},
   "source": [
    "Let me save the result, and see the type :"
   ]
  },
  {
   "cell_type": "code",
   "execution_count": null,
   "id": "672d051e-772e-4310-86f6-8fcfca6ed287",
   "metadata": {},
   "outputs": [],
   "source": [
    "MinasGerais_dissolve=brazil_municipalities[brazil_municipalities.ADM1_PT=='Minas Gerais'].dissolve()\n",
    "\n",
    "# we got?\n",
    "type(MinasGerais_dissolve)"
   ]
  },
  {
   "cell_type": "markdown",
   "id": "2fc5778d-ef46-46dd-bd3e-eaba9f668e03",
   "metadata": {},
   "source": [
    "You got a GEOdf this time:"
   ]
  },
  {
   "cell_type": "code",
   "execution_count": null,
   "id": "c3f3d552-060c-41f2-bbe5-debf1de6a496",
   "metadata": {},
   "outputs": [],
   "source": [
    "## see\n",
    "MinasGerais_dissolve"
   ]
  },
  {
   "cell_type": "code",
   "execution_count": null,
   "id": "95b21cb3-db50-48f1-a354-ce2b23e9b247",
   "metadata": {},
   "outputs": [],
   "source": [
    "# keeping what is relevant\n",
    "MinasGerais_dissolve.drop(columns=['ADM2_PT','ADM2_PCODE','ET_ID'],inplace=True)\n",
    "\n",
    "# then\n",
    "MinasGerais_dissolve"
   ]
  },
  {
   "cell_type": "markdown",
   "id": "9321a5df-3274-4696-9278-6141e3218930",
   "metadata": {},
   "source": [
    "### b. Dissolve for groups\n",
    "\n",
    "Using _dissolve()_ with no arguments returns the union of the polygons, BUT also you get a GEOdf.\n",
    "However, if you have a column that represents a grouping (as we do), you can dissolve by that column:"
   ]
  },
  {
   "cell_type": "code",
   "execution_count": null,
   "id": "8b02371a-f65e-46e5-b0d2-e88d21825cd2",
   "metadata": {},
   "outputs": [],
   "source": [
    "# dissolving\n",
    "brazil_municipalities.dissolve(by='ADM1_PT').plot(facecolor='yellow', edgecolor='black',linewidth=0.2)"
   ]
  },
  {
   "cell_type": "markdown",
   "id": "ade71f08-90cb-4a1c-977a-4f5ac846f2d9",
   "metadata": {},
   "source": [
    "Again, let me save this result:"
   ]
  },
  {
   "cell_type": "code",
   "execution_count": null,
   "id": "1a36080b-9326-4584-9190-fa1718e03f0d",
   "metadata": {},
   "outputs": [],
   "source": [
    "Brazil_adm1_diss=brazil_municipalities.dissolve(by='ADM1_PT')"
   ]
  },
  {
   "cell_type": "markdown",
   "id": "4d1de91b-7ad7-44f5-a9cb-410dbf53656c",
   "metadata": {},
   "source": [
    "We know we have a GeoDF; let's see contents:"
   ]
  },
  {
   "cell_type": "code",
   "execution_count": null,
   "id": "ef8b7fbb-7b5b-4624-ae40-e7aed7d4bdf6",
   "metadata": {},
   "outputs": [],
   "source": [
    "Brazil_adm1_diss"
   ]
  },
  {
   "cell_type": "markdown",
   "id": "48b1ddda-4b45-489c-97b8-3260a2f75459",
   "metadata": {},
   "source": [
    "Again, we can drop columns that do not bring important information:"
   ]
  },
  {
   "cell_type": "code",
   "execution_count": null,
   "id": "bebf8290-4334-4b1f-8818-0f0db44799be",
   "metadata": {},
   "outputs": [],
   "source": [
    "Brazil_adm1_diss.drop(columns=['ADM2_PT','ADM2_PCODE','ET_ID'],inplace=True)\n",
    "Brazil_adm1_diss.reset_index(inplace=True)\n",
    "Brazil_adm1_diss.info()"
   ]
  },
  {
   "cell_type": "markdown",
   "id": "0ac51cc2",
   "metadata": {},
   "source": [
    "## Exercise 6\n",
    "\n",
    "\n",
    "<div class=\"alert-success\"> \n",
    "\n",
    "1. Create some subset of polygons with your country data.\n",
    "2. Use Unary UNION with those  polygons.\n",
    "3. Create a geoDF with the result.\n",
    "4. Use dissolve with the same polygons, and create a geoDF.\n",
    "    \n",
    "</div>"
   ]
  },
  {
   "cell_type": "markdown",
   "id": "8ce4da9c-0e99-4e00-aabb-5a291d7a935d",
   "metadata": {},
   "source": [
    "### c. Dissolve and aggregate\n",
    "\n",
    "In pandas, you have can aggregate data using some statistics. Dissolve can be used in the same way. Let me use the _indicators_ layer:"
   ]
  },
  {
   "cell_type": "code",
   "execution_count": null,
   "id": "f842ce68-8353-4af7-9ed9-5e1a8e856f39",
   "metadata": {},
   "outputs": [],
   "source": [
    "indicators.head()"
   ]
  },
  {
   "cell_type": "markdown",
   "id": "88614604-ef84-49c0-aaf4-4dc4858ae8e0",
   "metadata": {},
   "source": [
    "We have numerical columns, and a grouping column named _region_. Let's get some averages by region, while combining the polygons:"
   ]
  },
  {
   "cell_type": "code",
   "execution_count": null,
   "id": "abc8cfa8-6a02-4dd2-af74-07f1bbbf0191",
   "metadata": {},
   "outputs": [],
   "source": [
    "indicators.dissolve(\n",
    "     by=\"region\",\n",
    "     aggfunc={\n",
    "         \"COUNTRY\": \"count\",\n",
    "         \"fragility\": [\"mean\"],\n",
    "         \"co2\": [\"mean\"],\n",
    "         \"ForestRev_gdp\": [\"mean\"]\n",
    "     },as_index=False,\n",
    " )"
   ]
  },
  {
   "cell_type": "markdown",
   "id": "72648464-821b-47b1-87a9-f21260ee06d6",
   "metadata": {},
   "source": [
    "Let me save and plot:"
   ]
  },
  {
   "cell_type": "code",
   "execution_count": null,
   "id": "794f3048-257d-4193-89d0-deda71523b9c",
   "metadata": {},
   "outputs": [],
   "source": [
    "indicatorsByRegion=indicators.dissolve(\n",
    "     by=\"region\",\n",
    "     aggfunc={\n",
    "         \"COUNTRY\": \"count\",\n",
    "         \"fragility\": [\"mean\"],\n",
    "         \"co2\": [\"mean\"],\n",
    "         \"ForestRev_gdp\": [\"mean\"]\n",
    "     },as_index=False,\n",
    " )\n",
    "\n",
    "\n",
    "indicatorsByRegion.plot(column = 'region')"
   ]
  },
  {
   "cell_type": "markdown",
   "id": "ce73aadb-aaad-458f-abf1-dc24be193949",
   "metadata": {},
   "source": [
    "Without renaming, you can request a choropleth:"
   ]
  },
  {
   "cell_type": "code",
   "execution_count": null,
   "id": "509d432c-35bb-48c2-9365-02b6aa6227ee",
   "metadata": {},
   "outputs": [],
   "source": [
    "indicatorsByRegion.plot(column =('fragility', 'mean'),scheme='quantiles', cmap='OrRd',\n",
    "                        legend=True,\n",
    "                        legend_kwds={\"title\": \"Fragility\",'loc': 'lower left'},\n",
    "                        edgecolor='black',linewidth=0.2,\n",
    "                        figsize=(15, 10))"
   ]
  },
  {
   "cell_type": "markdown",
   "id": "29bdb1b3",
   "metadata": {},
   "source": [
    "[TOC](#0)\n",
    "_____________\n",
    "\n",
    "\n",
    "<a class=\"anchor\" id=\"4\"></a>\n",
    "\n",
    "# The convex hull\n",
    "\n",
    "Some time you may have the need to create a polygon that serves as an envelope to a set of points.\n",
    "\n",
    "For this example, let me compute the centroid coordinates:"
   ]
  },
  {
   "cell_type": "code",
   "execution_count": null,
   "id": "e05a431e-bfd6-4622-851d-66535cc0dcbe",
   "metadata": {},
   "outputs": [],
   "source": [
    "brazil_5641.centroid"
   ]
  },
  {
   "cell_type": "code",
   "execution_count": null,
   "id": "1ee85d85-1033-40a3-95ae-624bdffea30e",
   "metadata": {},
   "outputs": [],
   "source": [
    "# then\n",
    "brazil_5641.centroid.x.values[0],brazil_5641.centroid.y.values[0]"
   ]
  },
  {
   "cell_type": "code",
   "execution_count": null,
   "id": "eb203997-8c36-4a17-a5a7-f80ccd3ad0e7",
   "metadata": {},
   "outputs": [],
   "source": [
    "airports_5641"
   ]
  },
  {
   "cell_type": "code",
   "execution_count": null,
   "id": "10d1d989",
   "metadata": {},
   "outputs": [],
   "source": [
    "# coordinates\n",
    "centroidX,centroidY=brazil_5641.centroid.x.values[0],brazil_5641.centroid.y.values[0]\n",
    "\n",
    "# subsets of medium airports\n",
    "Brazil_AirTopLeft=airports_5641[airports_5641.kind=='medium_airport'].cx[:centroidX,centroidY:]\n",
    "Brazil_AirTopRight=airports_5641[airports_5641.kind=='medium_airport'].cx[centroidX:,centroidY:]\n",
    "Brazil_AirBottomLeft=airports_5641[airports_5641.kind=='medium_airport'].cx[:centroidX,:centroidY]\n",
    "Brazil_AirBottomRight=airports_5641[airports_5641.kind=='medium_airport'].cx[centroidX:,:centroidY]"
   ]
  },
  {
   "cell_type": "markdown",
   "id": "791300a1-b45f-4f35-b7bf-8b4011a2af71",
   "metadata": {},
   "source": [
    "Let me plot the subsets:"
   ]
  },
  {
   "cell_type": "code",
   "execution_count": null,
   "id": "cbc423fd",
   "metadata": {},
   "outputs": [],
   "source": [
    "base=Brazil_AirTopLeft.plot(facecolor='grey', alpha=0.4)\n",
    "Brazil_AirTopRight.plot(ax=base,facecolor='orange', alpha=0.4)\n",
    "Brazil_AirBottomLeft.plot(ax=base,facecolor='green', alpha=0.4)\n",
    "Brazil_AirBottomRight.plot(ax=base,facecolor='red', alpha=0.4)"
   ]
  },
  {
   "cell_type": "markdown",
   "id": "cbfa5551-87ae-4b98-92fb-fbb08afab7fd",
   "metadata": {},
   "source": [
    "Notice we have simple points in each subset:"
   ]
  },
  {
   "cell_type": "code",
   "execution_count": null,
   "id": "9edfce2c-6fb1-4e7d-83e2-289572a004d3",
   "metadata": {},
   "outputs": [],
   "source": [
    "Brazil_AirBottomLeft"
   ]
  },
  {
   "cell_type": "markdown",
   "id": "551f294a-15f2-4d59-8d39-a6c3f4bc78a5",
   "metadata": {},
   "source": [
    "In this situation, you can not make a _convex hull_:"
   ]
  },
  {
   "cell_type": "code",
   "execution_count": null,
   "id": "83742721-0143-4ea3-90bf-d881e0d49625",
   "metadata": {},
   "outputs": [],
   "source": [
    "Brazil_AirBottomLeft.convex_hull.plot()"
   ]
  },
  {
   "cell_type": "markdown",
   "id": "95a53c9f-cdf5-47ce-a4d3-8f90ef2311db",
   "metadata": {},
   "source": [
    "You first need to dissolve, and then you create a hull, an envelope of  convex angles:"
   ]
  },
  {
   "cell_type": "code",
   "execution_count": null,
   "id": "026b2289",
   "metadata": {},
   "outputs": [],
   "source": [
    "Brazil_AirBottomLeft.dissolve().convex_hull.plot()"
   ]
  },
  {
   "cell_type": "markdown",
   "id": "a4615ea0-73d3-407e-8331-b3ce8fff87af",
   "metadata": {},
   "source": [
    "As we saw, the convex hull is a polygon: "
   ]
  },
  {
   "cell_type": "code",
   "execution_count": null,
   "id": "46326bc8-79c7-4804-8289-4abef9fad8c4",
   "metadata": {},
   "outputs": [],
   "source": [
    "Brazil_AirBottomLeft.dissolve().convex_hull"
   ]
  },
  {
   "cell_type": "markdown",
   "id": "83219eda-90dc-477d-b566-c23c27e470e0",
   "metadata": {},
   "source": [
    "What if we the polygons had not been previously combined?"
   ]
  },
  {
   "cell_type": "code",
   "execution_count": null,
   "id": "1a327e0f-4f9d-49d2-bfaa-521ff54a915c",
   "metadata": {},
   "outputs": [],
   "source": [
    "brazil_municipalities.cx[:centroidX,:centroidY].convex_hull.plot(edgecolor='red')"
   ]
  },
  {
   "cell_type": "markdown",
   "id": "d908fc2f",
   "metadata": {},
   "source": [
    "That is, you get a convex hull for each geometry. \n",
    "\n",
    "We can also use _union_ before creating a convex hull:"
   ]
  },
  {
   "cell_type": "code",
   "execution_count": null,
   "id": "2649d471",
   "metadata": {},
   "outputs": [],
   "source": [
    "# just the union\n",
    "large_airport=airports_5641[airports_5641.kind=='large_airport']\n",
    "large_airport.unary_union"
   ]
  },
  {
   "cell_type": "code",
   "execution_count": null,
   "id": "ce05689b-acde-4373-8b60-51ca6bc19c5b",
   "metadata": {},
   "outputs": [],
   "source": [
    "# hull of the union\n",
    "large_airport.unary_union.convex_hull"
   ]
  },
  {
   "cell_type": "markdown",
   "id": "46a0e7b3",
   "metadata": {},
   "source": [
    "Let's turn the GS into a GDF:"
   ]
  },
  {
   "cell_type": "code",
   "execution_count": null,
   "id": "14037793-1df7-4dfa-8438-7dc7734580fe",
   "metadata": {},
   "outputs": [],
   "source": [
    "LargeAirport_hull= gpd.GeoDataFrame(index=[0],\n",
    "                                    crs=large_airport.crs,\n",
    "                                    geometry=[large_airport.unary_union.convex_hull])\n",
    "LargeAirport_hull['name']='large airports hull' # optional\n",
    "\n",
    "# then\n",
    "\n",
    "LargeAirport_hull"
   ]
  },
  {
   "cell_type": "markdown",
   "id": "c67c1b31",
   "metadata": {},
   "source": [
    "Let's use the GDF in plotting:"
   ]
  },
  {
   "cell_type": "code",
   "execution_count": null,
   "id": "e73b691b",
   "metadata": {},
   "outputs": [],
   "source": [
    "base=brazil_5641.plot(facecolor='yellow')\n",
    "large_airport.plot(ax=base)\n",
    "LargeAirport_hull.plot(ax=base,facecolor='green',\n",
    "                       edgecolor='white',alpha=0.4,\n",
    "                       hatch='X')"
   ]
  },
  {
   "cell_type": "markdown",
   "id": "b0d78b91",
   "metadata": {},
   "source": [
    "### Exercise 7 \n",
    "\n",
    "<div class=\"alert-success\">\n",
    "\n",
    "1. Select some points from your maps.\n",
    "    \n",
    "2. Create the convex hull for those points.\n",
    "    \n",
    "3. Turn the hull into a GDF.\n",
    "    \n",
    "4. Plot the hull on top of the country.\n",
    "    \n",
    "</div>"
   ]
  },
  {
   "cell_type": "markdown",
   "id": "6852f4a7-24bb-4540-9324-bf9f67c54637",
   "metadata": {},
   "source": [
    "[TOC](#0)\n",
    "_____________\n",
    "\n",
    "<a class=\"anchor\" id=\"5\"></a>\n",
    "# Spatial Overlay\n",
    "\n",
    "We might need to create or find some geometries from the geometries we already have. Using a set theory approach, we will se the use of _intersection_, _union_, _difference_, and _symmetric difference_.\n",
    "\n",
    "Let me create this GeoDFs:"
   ]
  },
  {
   "cell_type": "code",
   "execution_count": null,
   "id": "b3a47ad4-44ab-4bfb-be52-f86e40d402bf",
   "metadata": {},
   "outputs": [],
   "source": [
    "# the north\n",
    "MunisN_brazil=brazil_municipalities.cx[:,centroidY:]\n",
    "# the south\n",
    "MunisS_brazil=brazil_municipalities.cx[:,:centroidY]\n",
    "# the west\n",
    "MunisW_brazil=brazil_municipalities.cx[:centroidX,:]\n",
    "# the east\n",
    "MunisE_brazil=brazil_municipalities.cx[centroidX:,:]"
   ]
  },
  {
   "cell_type": "markdown",
   "id": "ffe06cd8-163f-4a45-859d-20d24b56ae74",
   "metadata": {},
   "source": [
    "Let me plot:"
   ]
  },
  {
   "cell_type": "code",
   "execution_count": null,
   "id": "7a5a27d5-7117-43a5-bf61-6542de99e280",
   "metadata": {},
   "outputs": [],
   "source": [
    "base=MunisN_brazil.plot(facecolor='yellow', edgecolor='black',linewidth=0.2, alpha=0.6)\n",
    "MunisS_brazil.plot(facecolor='grey', edgecolor='black',linewidth=0.2,ax=base, alpha=0.4)"
   ]
  },
  {
   "cell_type": "code",
   "execution_count": null,
   "id": "1e119335-f1d0-42fb-8c7a-bcd5f0231578",
   "metadata": {},
   "outputs": [],
   "source": [
    "base=MunisE_brazil.plot(facecolor='yellow', edgecolor='black',linewidth=0.2, alpha=0.6)\n",
    "MunisW_brazil.plot(facecolor='grey', edgecolor='black',linewidth=0.2,ax=base, alpha=0.4)"
   ]
  },
  {
   "cell_type": "markdown",
   "id": "b751684b-270f-4b3a-9b7d-d51ae7f2b641",
   "metadata": {},
   "source": [
    "## Intersection\n",
    "\n",
    "We keep what is common between GeoDFs:"
   ]
  },
  {
   "cell_type": "code",
   "execution_count": null,
   "id": "b6517bb9-b20a-46f9-ba77-d8a0f120f97c",
   "metadata": {},
   "outputs": [],
   "source": [
    "munisNS_brazil=MunisN_brazil.overlay(MunisS_brazil, how=\"intersection\",keep_geom_type=True)\n",
    "munisNS_brazil.plot()"
   ]
  },
  {
   "cell_type": "markdown",
   "id": "067c940b-4cdd-4bad-800b-73d5d3e781d1",
   "metadata": {},
   "source": [
    "This is similar to a _spatial join_:"
   ]
  },
  {
   "cell_type": "code",
   "execution_count": null,
   "id": "5597dc8c-bcd2-42c2-ab17-9723d9d89308",
   "metadata": {},
   "outputs": [],
   "source": [
    "MunisN_brazil.sjoin(MunisS_brazil, how=\"inner\", predicate='contains').plot()"
   ]
  },
  {
   "cell_type": "code",
   "execution_count": null,
   "id": "a65bd362-ddde-4d7d-98c7-151d7a1d1b0b",
   "metadata": {},
   "outputs": [],
   "source": [
    "# keeping the overlay\n",
    "munisWE_brazil=MunisW_brazil.overlay(MunisE_brazil, how=\"intersection\",keep_geom_type=True)\n",
    "munisWE_brazil.plot(edgecolor='white',linewidth=0.1)"
   ]
  },
  {
   "cell_type": "markdown",
   "id": "ec14306e-6c6e-4759-88e0-66a02b4294ec",
   "metadata": {},
   "source": [
    "## Union\n",
    "\n",
    "Let me unite the previous two GeoDFs. First, take a look at each one:"
   ]
  },
  {
   "cell_type": "code",
   "execution_count": null,
   "id": "4bbcc6ab-975e-4e47-8a07-9ad723c68368",
   "metadata": {},
   "outputs": [],
   "source": [
    "munisNS_brazil.info()"
   ]
  },
  {
   "cell_type": "code",
   "execution_count": null,
   "id": "c69c559c-987a-4335-b18c-bc9e0f9fea2b",
   "metadata": {},
   "outputs": [],
   "source": [
    "munisWE_brazil.info()"
   ]
  },
  {
   "cell_type": "markdown",
   "id": "a0ecfadb-7711-41fc-b225-a538324f09bb",
   "metadata": {},
   "source": [
    "The overlay combines the geometries, but not the attributes. Let me subset and show you:"
   ]
  },
  {
   "cell_type": "code",
   "execution_count": null,
   "id": "f8348693-7e68-49ca-b752-8a80178097d6",
   "metadata": {},
   "outputs": [],
   "source": [
    "keep=['ADM0_EN_1','ADM1_PT_1','ADM2_PT_1','geometry']\n",
    "munisNS_brazil=munisNS_brazil.loc[:,keep]\n",
    "munisWE_brazil=munisWE_brazil.loc[:,keep]"
   ]
  },
  {
   "cell_type": "code",
   "execution_count": null,
   "id": "5dfab57c-04e5-468d-b60a-0cc82ddeb1de",
   "metadata": {},
   "outputs": [],
   "source": [
    "# now \n",
    "munisNS_brazil.overlay(munisWE_brazil,how=\"union\",keep_geom_type=True)"
   ]
  },
  {
   "cell_type": "markdown",
   "id": "4630ac7f-d8f5-4f98-b88b-4b3e201cdba3",
   "metadata": {},
   "source": [
    "As you see, geometries are fine, but not attributes. It is strictly NOT appending the GeoDFs:"
   ]
  },
  {
   "cell_type": "code",
   "execution_count": null,
   "id": "dd26202c-f697-4635-9596-5eed71dc777d",
   "metadata": {},
   "outputs": [],
   "source": [
    "# appending\n",
    "pd.concat([munisNS_brazil,munisWE_brazil],ignore_index=True)"
   ]
  },
  {
   "cell_type": "markdown",
   "id": "9d264f8c-2d50-4526-8011-e1de5b227694",
   "metadata": {},
   "source": [
    "You will append if you are interested in the keeping the attributes. But you just do the overlay if you are planing to combine final results:"
   ]
  },
  {
   "cell_type": "code",
   "execution_count": null,
   "id": "f083eed4-13d4-4c84-9ca4-692cc073d276",
   "metadata": {},
   "outputs": [],
   "source": [
    "munisNS_brazil.dissolve().overlay(munisWE_brazil.dissolve(), how=\"union\",keep_geom_type=True).dissolve().plot()"
   ]
  },
  {
   "cell_type": "markdown",
   "id": "2741107f-24c9-4dd0-bdd9-910a3666b61d",
   "metadata": {},
   "source": [
    "Let me create an object to save the previous result:"
   ]
  },
  {
   "cell_type": "code",
   "execution_count": null,
   "id": "cc7b3bca-13b5-4bae-a431-3a23811f1a73",
   "metadata": {},
   "outputs": [],
   "source": [
    "muniMidBrazil=munisNS_brazil.dissolve().overlay(munisWE_brazil.dissolve(), how=\"union\",keep_geom_type=True).dissolve()\n",
    "muniMidBrazil"
   ]
  },
  {
   "cell_type": "code",
   "execution_count": null,
   "id": "df9d6897-4e84-4b6b-8a76-398b19985d49",
   "metadata": {},
   "outputs": [],
   "source": [
    "# some cleaning\n",
    "\n",
    "muniMidBrazil['zone']='middles'\n",
    "muniMidBrazil=muniMidBrazil.loc[:,['ADM0_EN_1_1','zone','geometry']]   \n",
    "muniMidBrazil"
   ]
  },
  {
   "cell_type": "markdown",
   "id": "bd80963c-3d9e-4708-af62-6d19149a6a4b",
   "metadata": {},
   "source": [
    "## Difference\n",
    "\n",
    "Here, you keep what belongs to the GeoDF to left that is not in the GeoDF to the right:"
   ]
  },
  {
   "cell_type": "code",
   "execution_count": null,
   "id": "667a9eeb-dadb-4fcf-9c67-23ce0f6da08a",
   "metadata": {},
   "outputs": [],
   "source": [
    "# with the municipalities\n",
    "brazil_municipalities.overlay(muniMidBrazil, how='difference').plot()"
   ]
  },
  {
   "cell_type": "markdown",
   "id": "8170b033-0707-43e8-b4ee-dca39e46f17a",
   "metadata": {},
   "source": [
    "## Symmetric Difference"
   ]
  },
  {
   "cell_type": "markdown",
   "id": "5f2728ec-f142-47a9-8de2-a65fef18680f",
   "metadata": {},
   "source": [
    "This is the opposite to *intersection*, you keep what is not in the intersection:"
   ]
  },
  {
   "cell_type": "code",
   "execution_count": null,
   "id": "1a3e81f0-3f80-4a88-98c7-5f6611c50cfe",
   "metadata": {},
   "outputs": [],
   "source": [
    "MunisN_brazil.overlay(MunisS_brazil, how=\"symmetric_difference\",keep_geom_type=False).plot()"
   ]
  },
  {
   "cell_type": "code",
   "execution_count": null,
   "id": "a634707c-71d2-4e04-905d-e6cf23fa5cdf",
   "metadata": {},
   "outputs": [],
   "source": [
    "MunisW_brazil.overlay(MunisE_brazil, how=\"symmetric_difference\",keep_geom_type=False).plot()"
   ]
  },
  {
   "cell_type": "markdown",
   "id": "1c7274fc-0397-4f36-aef8-7fab2f6fc65a",
   "metadata": {},
   "source": [
    "# Exercise 8 \n",
    "\n",
    "<div class=\"alert-success\">\n",
    "\n",
    "1. Apply two of these operations to your maps.\n",
    "2. Apply two of these operations to the  next maps:\n",
    "        \n",
    "</div>"
   ]
  },
  {
   "cell_type": "code",
   "execution_count": null,
   "id": "04d400c9-7614-4022-8861-a061373b08c0",
   "metadata": {},
   "outputs": [],
   "source": [
    "# hulls for the mid size airports:\n",
    "Brazil_AirTopLeft_hull=Brazil_AirTopLeft.dissolve().convex_hull\n",
    "Brazil_AirTopRight_hull=Brazil_AirTopRight.dissolve().convex_hull\n",
    "Brazil_AirBottomLeft_hull=Brazil_AirBottomLeft.dissolve().convex_hull\n",
    "Brazil_AirBottomRight_hull=Brazil_AirBottomRight.dissolve().convex_hull"
   ]
  },
  {
   "cell_type": "code",
   "execution_count": null,
   "id": "e6e2be5b-7cc8-47e4-803f-fec8601a8fd6",
   "metadata": {},
   "outputs": [],
   "source": [
    "base = brazil_5641.plot(color='white', edgecolor='black') #unprojected\n",
    "muniMidBrazil.plot(ax=base,facecolor='magenta',alpha=0.4) #unprojected\n",
    "LargeAirport_hull.plot(ax=base,facecolor='purple',alpha=0.4)\n",
    "Brazil_AirTopLeft_hull.plot(ax=base,facecolor='grey', alpha=0.4)\n",
    "Brazil_AirTopRight_hull.plot(ax=base,facecolor='orange', alpha=0.4)\n",
    "Brazil_AirBottomLeft_hull.plot(ax=base,facecolor='green', alpha=0.4)\n",
    "Brazil_AirBottomRight_hull.plot(ax=base,facecolor='red', alpha=0.4)"
   ]
  },
  {
   "cell_type": "markdown",
   "id": "7caa0e58",
   "metadata": {},
   "source": [
    "[TOC](#0)\n",
    "_____________\n",
    "\n",
    "<a class=\"anchor\" id=\"6\"></a>\n",
    "\n",
    "# Validity of Geometry\n",
    "\n",
    "Geometries are created in a way that some issues may appear, especially in (multi) polygons.\n",
    "Let's check if our recent maps on states and municipalities are valid:"
   ]
  },
  {
   "cell_type": "code",
   "execution_count": null,
   "id": "3a27c1ca",
   "metadata": {},
   "outputs": [],
   "source": [
    "# non valid\n",
    "brazil_municipalities[~brazil_municipalities.is_valid]"
   ]
  },
  {
   "cell_type": "code",
   "execution_count": null,
   "id": "ee29926a",
   "metadata": {},
   "outputs": [],
   "source": [
    "# see the invalid:\n",
    "brazil_municipalities[~brazil_municipalities.is_valid].plot()"
   ]
  },
  {
   "cell_type": "markdown",
   "id": "735abaa5",
   "metadata": {},
   "source": [
    "It is difficult to see what is wrong. Let's get some information:"
   ]
  },
  {
   "cell_type": "code",
   "execution_count": null,
   "id": "7c6591e0",
   "metadata": {},
   "outputs": [],
   "source": [
    "# what is wrong?\n",
    "\n",
    "from shapely.validation import explain_validity, make_valid\n",
    "\n",
    "explain_validity(brazil_municipalities[~brazil_municipalities.is_valid].geometry)"
   ]
  },
  {
   "cell_type": "code",
   "execution_count": null,
   "id": "6d90a783",
   "metadata": {},
   "outputs": [],
   "source": [
    "# varieties?\n",
    "brazil_municipalities['validity']=[x.split('[')[0] for x in brazil_municipalities.geometry.apply(lambda x: explain_validity(x))]\n",
    "brazil_municipalities['validity'].value_counts()"
   ]
  },
  {
   "cell_type": "code",
   "execution_count": null,
   "id": "d69f261b",
   "metadata": {},
   "outputs": [],
   "source": [
    "# solving the issue:\n",
    "brazil_municipalities.drop(columns=['validity'],inplace=True)\n",
    "\n",
    "brazil_municipalities_valid=brazil_municipalities.copy()\n",
    "\n",
    "brazil_municipalities_valid['geometry'] = [make_valid(row)  if not row.is_valid else row for row in brazil_municipalities_valid['geometry'] ]\n",
    "#any invalid?\n",
    "brazil_municipalities_valid[~brazil_municipalities_valid.is_valid]"
   ]
  },
  {
   "cell_type": "markdown",
   "id": "cfa45bcf",
   "metadata": {},
   "source": [
    "The _solution_ we got may help for some advanced techniques, but may also give us some extra trouble. Notice that once geopandas solved the problem, you  have created **collections**:"
   ]
  },
  {
   "cell_type": "code",
   "execution_count": null,
   "id": "c072a9dc-411c-4d7d-a94b-0c2f2de9cf97",
   "metadata": {},
   "outputs": [],
   "source": [
    "pd.Series([type(x) for x in brazil_municipalities_valid.geometry]).value_counts()"
   ]
  },
  {
   "cell_type": "markdown",
   "id": "c727d49c-6be5-4a08-bc7a-8c17172d9866",
   "metadata": {},
   "source": [
    "However, the pressence of collections may be troublesome in shapefiles."
   ]
  },
  {
   "cell_type": "code",
   "execution_count": null,
   "id": "c7c059e5-616e-4cc2-b114-0b1438af8afe",
   "metadata": {},
   "outputs": [],
   "source": []
  }
 ],
 "metadata": {
  "anaconda-cloud": {
   "attach-environment": true,
   "summary": "test"
  },
  "hide_input": false,
  "jupytext": {
   "cell_metadata_filter": "-all",
   "notebook_metadata_filter": "-all"
  },
  "kernelspec": {
   "display_name": "Python 3 (ipykernel)",
   "language": "python",
   "name": "python3"
  },
  "language_info": {
   "codemirror_mode": {
    "name": "ipython",
    "version": 3
   },
   "file_extension": ".py",
   "mimetype": "text/x-python",
   "name": "python",
   "nbconvert_exporter": "python",
   "pygments_lexer": "ipython3",
   "version": "3.11.0"
  },
  "toc-autonumbering": false
 },
 "nbformat": 4,
 "nbformat_minor": 5
}
